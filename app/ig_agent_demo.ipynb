{
 "cells": [
  {
   "cell_type": "markdown",
   "metadata": {},
   "source": [
    "# Instagram Agent Demo\n",
    "\n",
    "This notebook demonstrates how to use the `ig_agent` library to generate Instagram carousel posts with AI."
   ]
  },
  {
   "cell_type": "markdown",
   "metadata": {},
   "source": [
    "## 1. Setup and Installation\n",
    "\n",
    "First, ensure you have all the necessary dependencies installed:"
   ]
  },
  {
   "cell_type": "code",
   "execution_count": 1,
   "metadata": {},
   "outputs": [
    {
     "name": "stdout",
     "output_type": "stream",
     "text": [
      "\n",
      "\u001b[1m[\u001b[0m\u001b[34;49mnotice\u001b[0m\u001b[1;39;49m]\u001b[0m\u001b[39;49m A new release of pip is available: \u001b[0m\u001b[31;49m25.0.1\u001b[0m\u001b[39;49m -> \u001b[0m\u001b[32;49m25.1\u001b[0m\n",
      "\u001b[1m[\u001b[0m\u001b[34;49mnotice\u001b[0m\u001b[1;39;49m]\u001b[0m\u001b[39;49m To update, run: \u001b[0m\u001b[32;49mpip install --upgrade pip\u001b[0m\n",
      "\n",
      "\u001b[1m[\u001b[0m\u001b[34;49mnotice\u001b[0m\u001b[1;39;49m]\u001b[0m\u001b[39;49m A new release of pip is available: \u001b[0m\u001b[31;49m25.0.1\u001b[0m\u001b[39;49m -> \u001b[0m\u001b[32;49m25.1\u001b[0m\n",
      "\u001b[1m[\u001b[0m\u001b[34;49mnotice\u001b[0m\u001b[1;39;49m]\u001b[0m\u001b[39;49m To update, run: \u001b[0m\u001b[32;49mpip install --upgrade pip\u001b[0m\n"
     ]
    }
   ],
   "source": [
    "# Install dependencies if needed\n",
    "!pip install -q langchain_xai cairosvg\n",
    "!pip install -q -e ."
   ]
  },
  {
   "cell_type": "markdown",
   "metadata": {},
   "source": [
    "## 2. Basic Usage - Direct API\n",
    "\n",
    "The simplest way to use the Instagram Agent is through its direct API, which provides methods for each step of the content generation and posting process."
   ]
  },
  {
   "cell_type": "code",
   "execution_count": 2,
   "metadata": {},
   "outputs": [],
   "source": [
    "import os\n",
    "import logging\n",
    "from pathlib import Path\n",
    "from IPython.display import Image, display, HTML\n",
    "from langchain_xai import ChatXAI\n",
    "from ig_agent import InstagramAgent\n",
    "\n",
    "# Set up logging\n",
    "logging.basicConfig(\n",
    "    level=logging.INFO,\n",
    "    format='%(asctime)s - %(name)s - %(levelname)s - %(message)s',\n",
    "    handlers=[logging.StreamHandler()]\n",
    ")\n",
    "logger = logging.getLogger(\"ig_agent_demo\")"
   ]
  },
  {
   "cell_type": "code",
   "execution_count": 3,
   "metadata": {},
   "outputs": [],
   "source": [
    "# Create base output directory \n",
    "# Now outputs will be stored in datetime subdirectories\n",
    "output_dir = Path(\"output\")\n",
    "output_dir.mkdir(exist_ok=True)\n",
    "\n",
    "# Initialize language model\n",
    "# You can use any LangChain compatible LLM here\n",
    "llm = ChatXAI(model=\"grok-3-mini-beta\")\n",
    "\n",
    "# Initialize the Instagram agent\n",
    "# Output will automatically be stored in a datetime-based directory structure\n",
    "# For example: output/2025-04-20/20250420_154900/\n",
    "agent = InstagramAgent(\n",
    "    llm=llm,\n",
    "    output_dir=output_dir,\n",
    "    # Optional: provide credentials for notification and posting\n",
    "    email_user=os.environ.get(\"EMAIL_USER\"),\n",
    "    email_password=os.environ.get(\"EMAIL_PASSWORD\"),\n",
    "    instagram_username=os.environ.get(\"INSTAGRAM_USERNAME\"),\n",
    "    instagram_password=os.environ.get(\"INSTAGRAM_PASSWORD\")\n",
    ")"
   ]
  },
  {
   "cell_type": "markdown",
   "metadata": {},
   "source": [
    "### 2.1 Generate Content\n",
    "\n",
    "First, we generate the content for our Instagram carousel post based on a request:"
   ]
  },
  {
   "cell_type": "code",
   "execution_count": 4,
   "metadata": {},
   "outputs": [
    {
     "data": {
      "text/plain": [
       "'2025-Apr-27'"
      ]
     },
     "execution_count": 4,
     "metadata": {},
     "output_type": "execute_result"
    }
   ],
   "source": [
    "from datetime import datetime\n",
    "today = datetime.now().strftime('%Y-%b-%d')\n",
    "today"
   ]
  },
  {
   "cell_type": "code",
   "execution_count": 5,
   "metadata": {},
   "outputs": [
    {
     "data": {
      "text/plain": [
       "{'date': {11: Timestamp('2025-04-23 13:10:19.583376'),\n",
       "  12: Timestamp('2025-04-23 13:21:04.506031'),\n",
       "  13: Timestamp('2025-04-23 13:21:46.053301'),\n",
       "  14: Timestamp('2025-04-23 13:26:41.557815'),\n",
       "  15: Timestamp('2025-04-23 13:37:50.518470'),\n",
       "  16: Timestamp('2025-04-23 13:42:42.135440'),\n",
       "  17: Timestamp('2025-04-24 11:46:34.359186'),\n",
       "  18: Timestamp('2025-04-24 12:17:12.846487'),\n",
       "  19: Timestamp('2025-04-25 13:40:44.213580'),\n",
       "  20: Timestamp('2025-04-27 19:39:27.693493')},\n",
       " 'signature': {11: '0a8f73a513cb6d33d993b57493ef4842',\n",
       "  12: '9f2522fe9cae5d7d8b52627c6fe8eb7b',\n",
       "  13: '7754adb143472cc3575c38e7cb4185ac',\n",
       "  14: '0cffbebe59d10941d845a45b740b220a',\n",
       "  15: '0f68a8dc0388f966e911500baab17cba',\n",
       "  16: '6ed94190af586fcf4b0e485b769fc1e6',\n",
       "  17: '5f063a43164ecb728747831118812174',\n",
       "  18: 'd0264a1b34dde96df4808e72e053e8b9',\n",
       "  19: 'd1d22d33106c4a2a973d53735cf3cb37',\n",
       "  20: '8e8c0418def49eea22d684c38ffa9b9a'},\n",
       " 'cover_heading': {11: 'LLM Mesh 革命 高效AI應用',\n",
       "  12: 'AI革命來臨 大語言模型新進展',\n",
       "  13: 'LLM Mesh揭秘 AI效率大躍進',\n",
       "  14: '機器學習入門指南 簡單易懂的基礎',\n",
       "  15: '線性回歸入門 預測數據的祕訣',\n",
       "  16: 'Python數據清理技巧 讓數據變得乾淨',\n",
       "  17: 'FAANG面試必備 數據科學祕訣揭曉',\n",
       "  18: '推薦系統大揭秘 AI如何預測你的喜好',\n",
       "  19: 'Jupyter Notebook入門 高效數據處理工具',\n",
       "  20: '數據科學家日常 高效生產力祕訣'},\n",
       " 'hashtag': {11: 'AIInnovation',\n",
       "  12: 'AI最新突破',\n",
       "  13: 'LLMMesh',\n",
       "  14: '機器學習',\n",
       "  15: '線性回歸',\n",
       "  16: 'DataScienceTips',\n",
       "  17: 'DataScienceInterview',\n",
       "  18: '推薦系統',\n",
       "  19: 'JupyterNotebookTips',\n",
       "  20: 'DataScienceDailyLife'},\n",
       " 'titles': {11: ['什麼是LLM Mesh？',\n",
       "   '為何它重要？',\n",
       "   '實際應用例子',\n",
       "   '學習LLM Mesh的技巧',\n",
       "   '未來趨勢預測',\n",
       "   '如何起步？'],\n",
       "  12: ['什麼是GPT-4o？', '生成式AI的突破', 'AI在醫療的應用', '趨勢與挑戰', '如何開始使用', '未來展望'],\n",
       "  13: ['LLM Mesh是什麼？', '為何它重要？', '實際應用例子', '如何開始使用？', '潛在好處', '未來展望', '小貼士'],\n",
       "  14: ['什麼是機器學習？', '主要類型介紹', '實際應用例子', '優點與挑戰', '如何開始學習？', '常見誤區避免', '未來展望'],\n",
       "  15: ['什麼是線性回歸？', '工作原理簡介', '實際應用例子', '優點與好處', '潛在挑戰', '如何實踐？', '學習小貼士'],\n",
       "  16: ['什麼是數據清理？', '處理缺失值', '移除重複資料', '轉換數據類型', '實戰小貼士', '常見錯誤避免'],\n",
       "  17: ['什麼是FAANG面試重點？',\n",
       "   'SQL查詢常見題',\n",
       "   '統計知識陷阱',\n",
       "   '機器學習算法挑戰',\n",
       "   '面試準備小貼士',\n",
       "   '為何這很重要？'],\n",
       "  18: ['什麼是推薦系統？', '工作原理簡介', '實際應用例子', '優點與好處', '潛在挑戰', '如何開始學習？', '未來展望'],\n",
       "  19: ['什麼是Jupyter Notebook？',\n",
       "   '如何安裝與設定？',\n",
       "   '基本使用技巧',\n",
       "   '進階視覺化功能',\n",
       "   '實用小貼士',\n",
       "   '為何值得學習？'],\n",
       "  20: ['早晨的準備工作', '數據處理時段', '模型訓練與測試', '團隊合作時刻', '結束一天的反思', '實用工具推薦']}}"
      ]
     },
     "execution_count": 5,
     "metadata": {},
     "output_type": "execute_result"
    }
   ],
   "source": [
    "import pandas as pd\n",
    "df = pd.read_json('data/content_history.json')\n",
    "latest_10rows_df =df.iloc[-10:]\n",
    "latest_10rows_df.to_dict()"
   ]
  },
  {
   "cell_type": "code",
   "execution_count": 6,
   "metadata": {},
   "outputs": [
    {
     "name": "stderr",
     "output_type": "stream",
     "text": [
      "2025-04-27 20:06:02,088 - ig_agent - INFO - Generating content for request: \n",
      "今日係 2025-Apr-27, 星期6.\n",
      "最近10近貼文：{'date': {11: Timestamp('2025-04-23 13:10:19.583376'), 12: Timestamp('2025-04-23 13:21:04.506031'), 13: Timestamp('2025-04-23 13:21:46.053301'), 14: Timestamp('2025-04-23 13:26:41.557815'), 15: Timestamp('2025-04-23 13:37:50.518470'), 16: Timestamp('2025-04-23 13:42:42.135440'), 17: Timestamp('2025-04-24 11:46:34.359186'), 18: Timestamp('2025-04-24 12:17:12.846487'), 19: Timestamp('2025-04-25 13:40:44.213580'), 20: Timestamp('2025-04-27 19:39:27.693493')}, 'signature': {11: '0a8f73a513cb6d33d993b57493ef4842', 12: '9f2522fe9cae5d7d8b52627c6fe8eb7b', 13: '7754adb143472cc3575c38e7cb4185ac', 14: '0cffbebe59d10941d845a45b740b220a', 15: '0f68a8dc0388f966e911500baab17cba', 16: '6ed94190af586fcf4b0e485b769fc1e6', 17: '5f063a43164ecb728747831118812174', 18: 'd0264a1b34dde96df4808e72e053e8b9', 19: 'd1d22d33106c4a2a973d53735cf3cb37', 20: '8e8c0418def49eea22d684c38ffa9b9a'}, 'cover_heading': {11: 'LLM Mesh 革命 高效AI應用', 12: 'AI革命來臨 大語言模型新進展', 13: 'LLM Mesh揭秘 AI效率大躍進', 14: '機器學習入門指南 簡單易懂的基礎', 15: '線性回歸入門 預測數據的祕訣', 16: 'Python數據清理技巧 讓數據變得乾淨', 17: 'FAANG面試必備 數據科學祕訣揭曉', 18: '推薦系統大揭秘 AI如何預測你的喜好', 19: 'Jupyter Notebook入門 高效數據處理工具', 20: '數據科學家日常 高效生產力祕訣'}, 'hashtag': {11: 'AIInnovation', 12: 'AI最新突破', 13: 'LLMMesh', 14: '機器學習', 15: '線性回歸', 16: 'DataScienceTips', 17: 'DataScienceInterview', 18: '推薦系統', 19: 'JupyterNotebookTips', 20: 'DataScienceDailyLife'}, 'titles': {11: ['什麼是LLM Mesh？', '為何它重要？', '實際應用例子', '學習LLM Mesh的技巧', '未來趨勢預測', '如何起步？'], 12: ['什麼是GPT-4o？', '生成式AI的突破', 'AI在醫療的應用', '趨勢與挑戰', '如何開始使用', '未來展望'], 13: ['LLM Mesh是什麼？', '為何它重要？', '實際應用例子', '如何開始使用？', '潛在好處', '未來展望', '小貼士'], 14: ['什麼是機器學習？', '主要類型介紹', '實際應用例子', '優點與挑戰', '如何開始學習？', '常見誤區避免', '未來展望'], 15: ['什麼是線性回歸？', '工作原理簡介', '實際應用例子', '優點與好處', '潛在挑戰', '如何實踐？', '學習小貼士'], 16: ['什麼是數據清理？', '處理缺失值', '移除重複資料', '轉換數據類型', '實戰小貼士', '常見錯誤避免'], 17: ['什麼是FAANG面試重點？', 'SQL查詢常見題', '統計知識陷阱', '機器學習算法挑戰', '面試準備小貼士', '為何這很重要？'], 18: ['什麼是推薦系統？', '工作原理簡介', '實際應用例子', '優點與好處', '潛在挑戰', '如何開始學習？', '未來展望'], 19: ['什麼是Jupyter Notebook？', '如何安裝與設定？', '基本使用技巧', '進階視覺化功能', '實用小貼士', '為何值得學習？'], 20: ['早晨的準備工作', '數據處理時段', '模型訓練與測試', '團隊合作時刻', '結束一天的反思', '實用工具推薦']}}\n",
      "不要重覆內容。\n",
      "選取以下一內容製作今日的貼文，你可選擇是否再上網搜尋資料。不要用中國字，用香港字、繁體中文撰寫。\n",
      "| **內容類型**         | **具體題材**                                                                 | **預期效果**                                                                 |\n",
      "|----------------------|------------------------------------------------------------------------------|------------------------------------------------------------------------------|\n",
      "| **教育性貼文**       | - 解釋AI基本概念（如機器學習、深度學習、自然語言處理）<br>- 數據科學工具介紹（如Python、R、Tableau）<br>- 簡單算法原理（e.g., 線性回歸、決策樹） | 吸引初學者，提供入門知識，增加帳號專業性。                                   |\n",
      "| **實用技巧分享**     | - Python/R程式碼片段（e.g., 數據清理、視覺化）<br>- Jupyter Notebook使用技巧<br>- 免費學習資源推薦（課程、書籍、YouTube頻道） | 提供實用價值，吸引技術愛好者，提升互動率。                                   |\n",
      "| **案例分析**         | - AI應用案例（e.g., 醫療影像診斷、推薦系統）<br>- 數據科學項目實例（e.g., 銷售預測）<br>- 失敗案例分析（e.g., 模型過擬合問題） | 展示AI/數據科學的實際應用，激發靈感，吸引專業人士。                           |\n",
      "| **趨勢與新聞**       | - 最新AI技術進展（e.g., 大語言模型、生成式AI）<br>- 數據科學行業趨勢（e.g., 自動化數據分析）<br>- 倫理問題討論（e.g., AI偏見） | 保持內容新鮮，吸引關注行業動態的受眾。                                       |\n",
      "| **互動內容**         | - 問答貼文（e.g., “你用哪個數據科學工具？”）<br>- 投票（e.g., “Python vs R，哪個更好？”）<br>- 挑戰（e.g., 7天學會Pandas） | 提高粉絲參與度，建立社群感。                                               |\n",
      "| **幕後花絮**         | - 數據科學家/工程師一天的工作分享<br>- 項目開發過程（e.g., 從數據收集到模型部署）<br>- 學習路徑分享（e.g., 自學數據科學的經驗） | 增加人性化元素，拉近與受眾的距離。                                           |\n",
      "| **迷因與輕鬆內容**   | - AI/數據科學相關迷因（e.g., “當模型訓練了10小時還是沒收斂”）<br>- 程式員幽默（e.g., debug的痛苦）<br>- 數據科學家日常趣事 | 增加趣味性，吸引年輕受眾，提高轉發率。                                       |\n",
      "| **面試內容**   | - AI/數據科學相關職位的面試內容，以FAANG公司為主。 | 增加趣味性，吸引年輕受眾，提高轉發率。                                       |\n",
      "\n",
      "\n",
      "2025-04-27 20:06:25,196 - httpx - INFO - HTTP Request: POST https://api.x.ai/v1/chat/completions \"HTTP/1.1 200 OK\"\n",
      "2025-04-27 20:06:39,532 - httpx - INFO - HTTP Request: POST https://api.x.ai/v1/chat/completions \"HTTP/1.1 200 OK\"\n",
      "2025-04-27 20:06:39,552 - ig_agent.content_agent - INFO - Generated unique content on attempt 1\n"
     ]
    }
   ],
   "source": [
    "# Generate content\n",
    "request = f\"\"\"\n",
    "今日係 {today}, 星期{datetime.now().weekday()}.\n",
    "最近10近貼文：{\n",
    "    latest_10rows_df.to_dict()\n",
    "}\n",
    "不要重覆內容。\n",
    "選取以下一內容製作今日的貼文，你可選擇是否再上網搜尋資料。不要用中國字，用香港字、繁體中文撰寫。\n",
    "| **內容類型**         | **具體題材**                                                                 | **預期效果**                                                                 |\n",
    "|----------------------|------------------------------------------------------------------------------|------------------------------------------------------------------------------|\n",
    "| **教育性貼文**       | - 解釋AI基本概念（如機器學習、深度學習、自然語言處理）<br>- 數據科學工具介紹（如Python、R、Tableau）<br>- 簡單算法原理（e.g., 線性回歸、決策樹） | 吸引初學者，提供入門知識，增加帳號專業性。                                   |\n",
    "| **實用技巧分享**     | - Python/R程式碼片段（e.g., 數據清理、視覺化）<br>- Jupyter Notebook使用技巧<br>- 免費學習資源推薦（課程、書籍、YouTube頻道） | 提供實用價值，吸引技術愛好者，提升互動率。                                   |\n",
    "| **案例分析**         | - AI應用案例（e.g., 醫療影像診斷、推薦系統）<br>- 數據科學項目實例（e.g., 銷售預測）<br>- 失敗案例分析（e.g., 模型過擬合問題） | 展示AI/數據科學的實際應用，激發靈感，吸引專業人士。                           |\n",
    "| **趨勢與新聞**       | - 最新AI技術進展（e.g., 大語言模型、生成式AI）<br>- 數據科學行業趨勢（e.g., 自動化數據分析）<br>- 倫理問題討論（e.g., AI偏見） | 保持內容新鮮，吸引關注行業動態的受眾。                                       |\n",
    "| **互動內容**         | - 問答貼文（e.g., “你用哪個數據科學工具？”）<br>- 投票（e.g., “Python vs R，哪個更好？”）<br>- 挑戰（e.g., 7天學會Pandas） | 提高粉絲參與度，建立社群感。                                               |\n",
    "| **幕後花絮**         | - 數據科學家/工程師一天的工作分享<br>- 項目開發過程（e.g., 從數據收集到模型部署）<br>- 學習路徑分享（e.g., 自學數據科學的經驗） | 增加人性化元素，拉近與受眾的距離。                                           |\n",
    "| **迷因與輕鬆內容**   | - AI/數據科學相關迷因（e.g., “當模型訓練了10小時還是沒收斂”）<br>- 程式員幽默（e.g., debug的痛苦）<br>- 數據科學家日常趣事 | 增加趣味性，吸引年輕受眾，提高轉發率。                                       |\n",
    "| **面試內容**   | - AI/數據科學相關職位的面試內容，以FAANG公司為主。 | 增加趣味性，吸引年輕受眾，提高轉發率。                                       |\n",
    "\n",
    "\"\"\"\n",
    "content_json = agent.generate_content(request)\n"
   ]
  },
  {
   "cell_type": "code",
   "execution_count": 7,
   "metadata": {},
   "outputs": [
    {
     "name": "stdout",
     "output_type": "stream",
     "text": [
      "Cover: AI醫療革命 最新突破大揭秘\n",
      "Hashtag: #AIHealthcareTrends\n",
      "Number of content pages: 6\n",
      "\n",
      "Content Pages:\n",
      "  Page 1: AI在醫療的最新突破 - 2025年，AI模型如新版影像分析工具，能檢測癌症早於傳統方法，提升準確率達95%。這改變了診斷流程，讓醫生更快行動。\n",
      "  Page 2: 實際應用例子 - 如Google的AI系統，用於X光影像識別肺部疾病，減少誤診率。這些工具已在醫院實用化，幫助處理海量數據。\n",
      "  Page 3: 優點與挑戰 - 優點：加快診斷、降低成本。但挑戰包括數據隱私和AI偏見，需要嚴格監管以確保公平性。\n",
      "  Page 4: 如何開始使用 - 初學者可透過免費工具如Hugging Face試用AI模型。加入線上課程，學習整合AI於醫療項目中，提升你的專業技能。\n",
      "  Page 5: 未來展望 - 預計2025年底，AI將更廣泛應用於遠距醫療，帶來更個人化的照護。及早學習，抓住這波趨勢機會！\n",
      "  Page 6: 實用小貼士 - 關注AI倫理指南，確保應用時注重患者隱私。這樣能讓你的AI項目更可靠且具影響力。\n",
      "\n",
      "Caption Preview:\n",
      "你知道AI正如何改變醫療世界嗎？🤖 從診斷到預測，這篇貼文將帶你探索2025年AI在醫療的最新應用，讓你快速了解這些創新如何提升效率和準確性！💡 無論你是AI愛好者還是醫療從業者，這裡有實用見解，幫助你應用在工作中。別錯過，從第一頁開始滑動，獲得獨家趨勢分析吧！😎 #AIHealthcare #DataScienceTrends #AIMedicalInnovation #TechBreakthr...\n"
     ]
    }
   ],
   "source": [
    "# Display the generated content structure\n",
    "print(f\"Cover: {content_json['cover']['heading_line1']} {content_json['cover']['heading_line2']}\")\n",
    "print(f\"Hashtag: #{content_json['cover']['hashtag']}\")\n",
    "print(f\"Number of content pages: {len(content_json['content_pages'])}\")\n",
    "print(\"\\nContent Pages:\")\n",
    "for i, page in enumerate(content_json['content_pages']):\n",
    "    print(f\"  Page {i+1}: {page['title']} - {page['main_point']}\")\n",
    "\n",
    "print(\"\\nCaption Preview:\")\n",
    "print(content_json['caption'][:200] + \"...\")"
   ]
  },
  {
   "cell_type": "markdown",
   "metadata": {},
   "source": [
    "### 2.2 Generate Images\n",
    "\n",
    "Next, we generate the images for our carousel post based on the content:"
   ]
  },
  {
   "cell_type": "code",
   "execution_count": 8,
   "metadata": {},
   "outputs": [],
   "source": [
    "import os\n",
    "os.environ['DYLD_LIBRARY_PATH'] = '/opt/homebrew/lib:' + os.environ.get('DYLD_LIBRARY_PATH', '')"
   ]
  },
  {
   "cell_type": "code",
   "execution_count": 9,
   "metadata": {},
   "outputs": [
    {
     "name": "stderr",
     "output_type": "stream",
     "text": [
      "2025-04-27 20:06:39,575 - ig_agent - INFO - Generating images from content\n",
      "2025-04-27 20:06:39,672 - ig_agent.template_processor - WARNING - PyCairo is not available, falling back to other methods\n",
      "2025-04-27 20:06:39,672 - ig_agent.template_processor - INFO - CairoSVG version: 2.7.1\n",
      "2025-04-27 20:06:39,673 - ig_agent.template_processor - INFO - Attempting SVG conversion with rsvg-convert for cover...\n",
      "2025-04-27 20:06:39,918 - ig_agent.template_processor - INFO - Successfully converted SVG to PNG using rsvg-convert\n",
      "2025-04-27 20:06:39,919 - ig_agent.template_processor - INFO - Generated cover image: output/2025-04-27/20250427_200601/cover.png\n",
      "2025-04-27 20:06:39,921 - ig_agent.template_processor - INFO - Attempting SVG conversion with rsvg-convert for content page 1...\n",
      "2025-04-27 20:06:40,055 - ig_agent.template_processor - INFO - Successfully converted SVG to PNG using rsvg-convert\n",
      "2025-04-27 20:06:40,055 - ig_agent.template_processor - INFO - Generated content image 1: output/2025-04-27/20250427_200601/content_01.png\n",
      "2025-04-27 20:06:40,056 - ig_agent.template_processor - INFO - Attempting SVG conversion with rsvg-convert for content page 2...\n",
      "2025-04-27 20:06:40,190 - ig_agent.template_processor - INFO - Successfully converted SVG to PNG using rsvg-convert\n",
      "2025-04-27 20:06:40,190 - ig_agent.template_processor - INFO - Generated content image 2: output/2025-04-27/20250427_200601/content_02.png\n",
      "2025-04-27 20:06:40,191 - ig_agent.template_processor - INFO - Attempting SVG conversion with rsvg-convert for content page 3...\n",
      "2025-04-27 20:06:40,325 - ig_agent.template_processor - INFO - Successfully converted SVG to PNG using rsvg-convert\n",
      "2025-04-27 20:06:40,326 - ig_agent.template_processor - INFO - Generated content image 3: output/2025-04-27/20250427_200601/content_03.png\n",
      "2025-04-27 20:06:40,327 - ig_agent.template_processor - INFO - Attempting SVG conversion with rsvg-convert for content page 4...\n",
      "2025-04-27 20:06:40,460 - ig_agent.template_processor - INFO - Successfully converted SVG to PNG using rsvg-convert\n",
      "2025-04-27 20:06:40,461 - ig_agent.template_processor - INFO - Generated content image 4: output/2025-04-27/20250427_200601/content_04.png\n",
      "2025-04-27 20:06:40,462 - ig_agent.template_processor - INFO - Attempting SVG conversion with rsvg-convert for content page 5...\n",
      "2025-04-27 20:06:40,595 - ig_agent.template_processor - INFO - Successfully converted SVG to PNG using rsvg-convert\n",
      "2025-04-27 20:06:40,596 - ig_agent.template_processor - INFO - Generated content image 5: output/2025-04-27/20250427_200601/content_05.png\n",
      "2025-04-27 20:06:40,597 - ig_agent.template_processor - INFO - Attempting SVG conversion with rsvg-convert for content page 6...\n",
      "2025-04-27 20:06:40,727 - ig_agent.template_processor - INFO - Successfully converted SVG to PNG using rsvg-convert\n",
      "2025-04-27 20:06:40,727 - ig_agent.template_processor - INFO - Generated content image 6: output/2025-04-27/20250427_200601/content_06.png\n",
      "2025-04-27 20:06:40,728 - ig_agent.image_agent - INFO - Generated 7 images\n"
     ]
    },
    {
     "name": "stdout",
     "output_type": "stream",
     "text": [
      "Generated 7 images:\n",
      "  Cover: cover.png\n",
      "  Content 1: content_01.png\n",
      "  Content 2: content_02.png\n",
      "  Content 3: content_03.png\n",
      "  Content 4: content_04.png\n",
      "  Content 5: content_05.png\n",
      "  Content 6: content_06.png\n"
     ]
    }
   ],
   "source": [
    "# Generate images\n",
    "images = agent.generate_images(content_json)\n",
    "\n",
    "# Display summary\n",
    "print(f\"Generated {len(images)} images:\")\n",
    "for img in images:\n",
    "    print(f\"  {img['type'].capitalize()}{' ' + str(img['page_number']) if 'page_number' in img else ''}: {img['file_name']}\")"
   ]
  },
  {
   "cell_type": "markdown",
   "metadata": {},
   "source": [
    "### 2.3 Display Generated Images\n",
    "\n",
    "Now, let's visualize the images that were generated:"
   ]
  },
  {
   "cell_type": "code",
   "execution_count": 10,
   "metadata": {},
   "outputs": [],
   "source": [
    "# # Display cover image\n",
    "# cover_image = next(img for img in images if img['type'] == 'cover')\n",
    "# print(\"Cover Image:\")\n",
    "# display(Image(cover_image['path']))"
   ]
  },
  {
   "cell_type": "code",
   "execution_count": 11,
   "metadata": {},
   "outputs": [],
   "source": [
    "# # Display cover image\n",
    "# cover_image = next(img for img in images if img['type'] != 'cover')\n",
    "# print(\"Cover Image:\")\n",
    "# display(Image(cover_image['path']))"
   ]
  },
  {
   "cell_type": "markdown",
   "metadata": {},
   "source": [
    "### 2.4 Send Notification (Optional)\n",
    "\n",
    "If you've provided email credentials, you can send a notification with the generated content:"
   ]
  },
  {
   "cell_type": "code",
   "execution_count": 12,
   "metadata": {},
   "outputs": [
    {
     "name": "stdout",
     "output_type": "stream",
     "text": [
      "Email credentials not available, skipping notification\n"
     ]
    }
   ],
   "source": [
    "# # Send notification if credentials are available\n",
    "# if os.environ.get(\"EMAIL_USER\") and os.environ.get(\"EMAIL_PASSWORD\"):\n",
    "#     recipient_email = \"your.email@example.com\"  # Replace with your email\n",
    "#     notification_status = agent.send_notification(recipient_email)\n",
    "#     print(f\"Notification sent: {notification_status['sent']}\")\n",
    "#     if notification_status['sent']:\n",
    "#         print(f\"Email sent to: {notification_status['recipient']}\")\n",
    "#         print(f\"Subject: {notification_status['subject']}\")\n",
    "# else:\n",
    "#     print(\"Email credentials not available, skipping notification\")"
   ]
  },
  {
   "cell_type": "markdown",
   "metadata": {},
   "source": [
    "### 2.5 Post to Instagram (Optional)\n",
    "\n",
    "If you've provided Instagram credentials, you can post the content to Instagram:"
   ]
  },
  {
   "cell_type": "code",
   "execution_count": 13,
   "metadata": {},
   "outputs": [
    {
     "name": "stderr",
     "output_type": "stream",
     "text": [
      "2025-04-27 20:06:40,791 - ig_agent - INFO - Posting to Instagram\n",
      "2025-04-27 20:06:40,807 - ig_agent.instagram_poster - INFO - Converted output/2025-04-27/20250427_200601/cover.png to output/2025-04-27/20250427_200601/cover.jpg\n",
      "2025-04-27 20:06:40,814 - ig_agent.instagram_poster - INFO - Converted output/2025-04-27/20250427_200601/content_01.png to output/2025-04-27/20250427_200601/content_01.jpg\n",
      "2025-04-27 20:06:40,820 - ig_agent.instagram_poster - INFO - Converted output/2025-04-27/20250427_200601/content_02.png to output/2025-04-27/20250427_200601/content_02.jpg\n",
      "2025-04-27 20:06:40,826 - ig_agent.instagram_poster - INFO - Converted output/2025-04-27/20250427_200601/content_03.png to output/2025-04-27/20250427_200601/content_03.jpg\n",
      "2025-04-27 20:06:40,832 - ig_agent.instagram_poster - INFO - Converted output/2025-04-27/20250427_200601/content_04.png to output/2025-04-27/20250427_200601/content_04.jpg\n",
      "2025-04-27 20:06:40,838 - ig_agent.instagram_poster - INFO - Converted output/2025-04-27/20250427_200601/content_05.png to output/2025-04-27/20250427_200601/content_05.jpg\n",
      "2025-04-27 20:06:40,844 - ig_agent.instagram_poster - INFO - Converted output/2025-04-27/20250427_200601/content_06.png to output/2025-04-27/20250427_200601/content_06.jpg\n",
      "2025-04-27 20:06:40,844 - ig_agent.instagram_poster - INFO - Found cover image: cover.jpg\n",
      "2025-04-27 20:06:40,844 - ig_agent.instagram_poster - INFO - Images ordered for posting: ['cover.jpg', 'content_01.jpg', 'content_02.jpg', 'content_03.jpg', 'content_04.jpg', 'content_05.jpg', 'content_06.jpg']\n",
      "2025-04-27 20:06:40,845 - instagrapi - INFO - https://i.instagram.com/api/v1/launcher/sync/\n",
      "2025-04-27 20:06:41,375 - private_request - INFO - datasci_daily [200] POST https://i.instagram.com/api/v1/launcher/sync/ (269.0.0.18.75, OnePlus 6T Dev)\n",
      "2025-04-27 20:06:41,704 - instagrapi - INFO - https://i.instagram.com/api/v1/accounts/login/\n",
      "2025-04-27 20:06:46,942 - private_request - INFO - datasci_daily [200] POST https://i.instagram.com/api/v1/accounts/login/ (269.0.0.18.75, OnePlus 6T Dev)\n",
      "2025-04-27 20:06:47,949 - instagrapi - INFO - https://i.instagram.com/api/v1/feed/reels_tray/\n",
      "2025-04-27 20:06:48,291 - private_request - INFO - datasci_daily [200] POST https://i.instagram.com/api/v1/feed/reels_tray/ (269.0.0.18.75, OnePlus 6T Dev)\n",
      "2025-04-27 20:06:49,296 - instagrapi - INFO - https://i.instagram.com/api/v1/feed/timeline/\n",
      "2025-04-27 20:06:51,046 - private_request - INFO - datasci_daily [200] POST https://i.instagram.com/api/v1/feed/timeline/ (269.0.0.18.75, OnePlus 6T Dev)\n",
      "2025-04-27 20:06:52,940 - private_request - INFO - datasci_daily [200] POST https://i.instagram.com/rupload_igphoto/1745748411049_0_5033649608 (269.0.0.18.75, OnePlus 6T Dev)\n",
      "2025-04-27 20:06:54,265 - private_request - INFO - datasci_daily [200] POST https://i.instagram.com/rupload_igphoto/1745748412943_0_9633099457 (269.0.0.18.75, OnePlus 6T Dev)\n",
      "2025-04-27 20:06:55,696 - private_request - INFO - datasci_daily [200] POST https://i.instagram.com/rupload_igphoto/1745748414269_0_8283105501 (269.0.0.18.75, OnePlus 6T Dev)\n",
      "2025-04-27 20:06:57,572 - private_request - INFO - datasci_daily [200] POST https://i.instagram.com/rupload_igphoto/1745748415698_0_2326496621 (269.0.0.18.75, OnePlus 6T Dev)\n",
      "2025-04-27 20:06:58,962 - private_request - INFO - datasci_daily [200] POST https://i.instagram.com/rupload_igphoto/1745748417575_0_2304033766 (269.0.0.18.75, OnePlus 6T Dev)\n",
      "2025-04-27 20:07:00,625 - private_request - INFO - datasci_daily [200] POST https://i.instagram.com/rupload_igphoto/1745748418963_0_1044894234 (269.0.0.18.75, OnePlus 6T Dev)\n",
      "2025-04-27 20:07:02,157 - private_request - INFO - datasci_daily [200] POST https://i.instagram.com/rupload_igphoto/1745748420629_0_4846010483 (269.0.0.18.75, OnePlus 6T Dev)\n",
      "2025-04-27 20:07:06,166 - instagrapi - INFO - https://i.instagram.com/api/v1/media/configure_sidecar/\n",
      "2025-04-27 20:07:12,831 - private_request - INFO - datasci_daily [200] POST https://i.instagram.com/api/v1/media/configure_sidecar/ (269.0.0.18.75, OnePlus 6T Dev)\n",
      "2025-04-27 20:07:13,839 - instagrapi - INFO - https://i.instagram.com/api/v1/qe/expose/\n",
      "2025-04-27 20:07:14,068 - private_request - INFO - datasci_daily [200] POST https://i.instagram.com/api/v1/qe/expose/ (269.0.0.18.75, OnePlus 6T Dev)\n",
      "2025-04-27 20:07:14,077 - ig_agent.instagram_poster - INFO - Posted carousel to Instagram: 3619922640093147679\n"
     ]
    },
    {
     "name": "stdout",
     "output_type": "stream",
     "text": [
      "Posted to Instagram: True\n",
      "Post URL: https://www.instagram.com/p/DI8jHZFJXIf/\n",
      "Post type: carousel\n"
     ]
    }
   ],
   "source": [
    "# Post to Instagram if credentials are available\n",
    "if os.environ.get(\"INSTAGRAM_USERNAME\") and os.environ.get(\"INSTAGRAM_PASSWORD\"):\n",
    "    try:\n",
    "        # Try with explicit error handling\n",
    "        instagram_status = agent.post_to_instagram()\n",
    "        print(f\"Posted to Instagram: {instagram_status['posted']}\")\n",
    "        \n",
    "        if instagram_status['posted']:\n",
    "            print(f\"Post URL: {instagram_status.get('url', 'N/A')}\")\n",
    "            print(f\"Post type: {instagram_status.get('type', 'N/A')}\")\n",
    "        else:\n",
    "            print(f\"Posting failed: {instagram_status.get('error', 'Unknown error')}\")\n",
    "            print(f\"Suggestion: {instagram_status.get('suggestion', 'Check logs for details')}\")\n",
    "            \n",
    "            # If simulated, show what would have been posted\n",
    "            if instagram_status.get('simulated', False):\n",
    "                print(\"\\nSimulated posting:\")\n",
    "                print(f\"Would have posted {instagram_status.get('num_images', 0)} images\")\n",
    "                print(f\"With caption length: {len(instagram_status.get('caption', ''))}\")\n",
    "    except Exception as e:\n",
    "        print(f\"Exception during Instagram posting: {str(e)}\")\n",
    "        print(\"Check that your Instagram credentials are correct and that the instagrapi package is installed\")\n",
    "        print(\"Install with: pip install instagrapi\")\n",
    "else:\n",
    "    print(\"Instagram credentials not available, skipping post\")\n",
    "    print(\"To post to Instagram, set the INSTAGRAM_USERNAME and INSTAGRAM_PASSWORD environment variables\")"
   ]
  },
  {
   "cell_type": "markdown",
   "metadata": {},
   "source": [
    "## 3. Using the LangGraph Pipeline\n",
    "\n",
    "The Instagram Agent can also be used with a LangGraph pipeline, which provides a graph-based workflow with streaming intermediate results."
   ]
  },
  {
   "cell_type": "code",
   "execution_count": 14,
   "metadata": {},
   "outputs": [],
   "source": [
    "from ig_agent.pipeline import create_pipeline\n",
    "\n",
    "# Create the pipeline\n",
    "pipeline = create_pipeline(\n",
    "    llm=llm,\n",
    "    output_dir=output_dir,\n",
    "    email_user=os.environ.get(\"EMAIL_USER\"),\n",
    "    email_password=os.environ.get(\"EMAIL_PASSWORD\")\n",
    ")"
   ]
  },
  {
   "cell_type": "markdown",
   "metadata": {},
   "source": [
    "### 3.1 Visualize the Pipeline Graph\n",
    "\n",
    "Let's visualize the pipeline graph to understand the workflow:"
   ]
  },
  {
   "cell_type": "code",
   "execution_count": 15,
   "metadata": {},
   "outputs": [
    {
     "data": {
      "image/png": "[encoded data removed]",
      "text/plain": [
       "<IPython.core.display.Image object>"
      ]
     },
     "metadata": {},
     "output_type": "display_data"
    }
   ],
   "source": [
    "# Try to visualize the pipeline graph\n",
    "try:\n",
    "    # Visualize the graph (requires graphviz)\n",
    "    display(Image(pipeline.get_graph().draw_mermaid_png()))\n",
    "except Exception as e:\n",
    "    print(f\"Unable to visualize graph: {e}\")"
   ]
  }
 ],
 "metadata": {
  "kernelspec": {
   "display_name": ".venv",
   "language": "python",
   "name": "python3"
  },
  "language_info": {
   "codemirror_mode": {
    "name": "ipython",
    "version": 3
   },
   "file_extension": ".py",
   "mimetype": "text/x-python",
   "name": "python",
   "nbconvert_exporter": "python",
   "pygments_lexer": "ipython3",
   "version": "3.12.7"
  }
 },
 "nbformat": 4,
 "nbformat_minor": 4
}
