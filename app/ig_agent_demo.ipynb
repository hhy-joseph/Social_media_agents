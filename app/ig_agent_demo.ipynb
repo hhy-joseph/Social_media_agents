{
 "cells": [
  {
   "cell_type": "markdown",
   "metadata": {},
   "source": [
    "# Instagram Agent Demo\n",
    "\n",
    "This notebook demonstrates how to use the `ig_agent` library to generate Instagram carousel posts with AI."
   ]
  },
  {
   "cell_type": "markdown",
   "metadata": {},
   "source": [
    "## 1. Setup and Installation\n",
    "\n",
    "First, ensure you have all the necessary dependencies installed:"
   ]
  },
  {
   "cell_type": "code",
   "execution_count": null,
   "metadata": {},
   "outputs": [],
   "source": [
    "# Install dependencies if needed\n",
    "!pip install langchain_xai cairosvg\n",
    "!pip install -e ."
   ]
  },
  {
   "cell_type": "markdown",
   "metadata": {},
   "source": [
    "## 2. Basic Usage - Direct API\n",
    "\n",
    "The simplest way to use the Instagram Agent is through its direct API, which provides methods for each step of the content generation and posting process."
   ]
  },
  {
   "cell_type": "code",
   "execution_count": 2,
   "metadata": {},
   "outputs": [],
   "source": [
    "import os\n",
    "import logging\n",
    "from pathlib import Path\n",
    "from IPython.display import Image, display, HTML\n",
    "from langchain_xai import ChatXAI\n",
    "from ig_agent import InstagramAgent\n",
    "\n",
    "# Set up logging\n",
    "logging.basicConfig(\n",
    "    level=logging.INFO,\n",
    "    format='%(asctime)s - %(name)s - %(levelname)s - %(message)s',\n",
    "    handlers=[logging.StreamHandler()]\n",
    ")\n",
    "logger = logging.getLogger(\"ig_agent_demo\")"
   ]
  },
  {
   "cell_type": "code",
   "execution_count": 3,
   "metadata": {},
   "outputs": [],
   "source": [
    "# Create base output directory \n",
    "# Now outputs will be stored in datetime subdirectories\n",
    "output_dir = Path(\"output\")\n",
    "output_dir.mkdir(exist_ok=True)\n",
    "\n",
    "# Initialize language model\n",
    "# You can use any LangChain compatible LLM here\n",
    "llm = ChatXAI(model=\"grok-3-mini-beta\")\n",
    "\n",
    "# Initialize the Instagram agent\n",
    "# Output will automatically be stored in a datetime-based directory structure\n",
    "# For example: output/2025-04-20/20250420_154900/\n",
    "agent = InstagramAgent(\n",
    "    llm=llm,\n",
    "    output_dir=output_dir,\n",
    "    # Optional: provide credentials for notification and posting\n",
    "    email_user=os.environ.get(\"EMAIL_USER\"),\n",
    "    email_password=os.environ.get(\"EMAIL_PASSWORD\"),\n",
    "    instagram_username=os.environ.get(\"INSTAGRAM_USERNAME\"),\n",
    "    instagram_password=os.environ.get(\"INSTAGRAM_PASSWORD\")\n",
    ")"
   ]
  },
  {
   "cell_type": "markdown",
   "metadata": {},
   "source": [
    "### 2.1 Generate Content\n",
    "\n",
    "First, we generate the content for our Instagram carousel post based on a request:"
   ]
  },
  {
   "cell_type": "code",
   "execution_count": null,
   "metadata": {},
   "outputs": [],
   "source": [
    "from datetime import datetime\n",
    "today = datetime.now().strftime('%Y-%b-%d')\n",
    "today"
   ]
  },
  {
   "cell_type": "code",
   "execution_count": null,
   "metadata": {},
   "outputs": [],
   "source": [
    "# Generate content\n",
    "request = f\"Today is {today}. Generate a AI news Post pleaese. Agent especially. Just one news like new packages, new tech and etc\"\n",
    "content_json = agent.generate_content(request)"
   ]
  },
  {
   "cell_type": "code",
   "execution_count": null,
   "metadata": {},
   "outputs": [],
   "source": [
    "# Display the generated content structure\n",
    "print(f\"Cover: {content_json['cover']['heading_line1']} {content_json['cover']['heading_line2']}\")\n",
    "print(f\"Hashtag: #{content_json['cover']['hashtag']}\")\n",
    "print(f\"Number of content pages: {len(content_json['content_pages'])}\")\n",
    "print(\"\\nContent Pages:\")\n",
    "for i, page in enumerate(content_json['content_pages']):\n",
    "    print(f\"  Page {i+1}: {page['title']} - {page['main_point']}\")\n",
    "\n",
    "print(\"\\nCaption Preview:\")\n",
    "print(content_json['caption'][:200] + \"...\")"
   ]
  },
  {
   "cell_type": "markdown",
   "metadata": {},
   "source": [
    "### 2.2 Generate Images\n",
    "\n",
    "Next, we generate the images for our carousel post based on the content:"
   ]
  },
  {
   "cell_type": "code",
   "execution_count": 7,
   "metadata": {},
   "outputs": [],
   "source": [
    "import os\n",
    "os.environ['DYLD_LIBRARY_PATH'] = '/opt/homebrew/lib:' + os.environ.get('DYLD_LIBRARY_PATH', '')"
   ]
  },
  {
   "cell_type": "code",
   "execution_count": null,
   "metadata": {},
   "outputs": [],
   "source": [
    "# Generate images\n",
    "images = agent.generate_images(content_json)\n",
    "\n",
    "# Display summary\n",
    "print(f\"Generated {len(images)} images:\")\n",
    "for img in images:\n",
    "    print(f\"  {img['type'].capitalize()}{' ' + str(img['page_number']) if 'page_number' in img else ''}: {img['file_name']}\")"
   ]
  },
  {
   "cell_type": "markdown",
   "metadata": {},
   "source": [
    "### 2.3 Display Generated Images\n",
    "\n",
    "Now, let's visualize the images that were generated:"
   ]
  },
  {
   "cell_type": "code",
   "execution_count": null,
   "metadata": {},
   "outputs": [],
   "source": [
    "# # Display cover image\n",
    "# cover_image = next(img for img in images if img['type'] == 'cover')\n",
    "# print(\"Cover Image:\")\n",
    "# display(Image(cover_image['path']))"
   ]
  },
  {
   "cell_type": "code",
   "execution_count": null,
   "metadata": {},
   "outputs": [],
   "source": [
    "# # Display cover image\n",
    "# cover_image = next(img for img in images if img['type'] != 'cover')\n",
    "# print(\"Cover Image:\")\n",
    "# display(Image(cover_image['path']))"
   ]
  },
  {
   "cell_type": "markdown",
   "metadata": {},
   "source": [
    "### 2.4 Send Notification (Optional)\n",
    "\n",
    "If you've provided email credentials, you can send a notification with the generated content:"
   ]
  },
  {
   "cell_type": "code",
   "execution_count": null,
   "metadata": {},
   "outputs": [],
   "source": [
    "# Send notification if credentials are available\n",
    "if os.environ.get(\"EMAIL_USER\") and os.environ.get(\"EMAIL_PASSWORD\"):\n",
    "    recipient_email = \"your.email@example.com\"  # Replace with your email\n",
    "    notification_status = agent.send_notification(recipient_email)\n",
    "    print(f\"Notification sent: {notification_status['sent']}\")\n",
    "    if notification_status['sent']:\n",
    "        print(f\"Email sent to: {notification_status['recipient']}\")\n",
    "        print(f\"Subject: {notification_status['subject']}\")\n",
    "else:\n",
    "    print(\"Email credentials not available, skipping notification\")"
   ]
  },
  {
   "cell_type": "markdown",
   "metadata": {},
   "source": [
    "### 2.5 Post to Instagram (Optional)\n",
    "\n",
    "If you've provided Instagram credentials, you can post the content to Instagram:"
   ]
  },
  {
   "cell_type": "code",
   "execution_count": null,
   "metadata": {},
   "outputs": [],
   "source": [
    "# Post to Instagram if credentials are available\n",
    "if os.environ.get(\"INSTAGRAM_USERNAME\") and os.environ.get(\"INSTAGRAM_PASSWORD\"):\n",
    "    # Using the updated post_to_instagram method that now accepts parameters\n",
    "    instagram_status = agent.post_to_instagram()\n",
    "    print(f\"Posted to Instagram: {instagram_status['posted']}\")\n",
    "    if instagram_status['posted']:\n",
    "        print(f\"Post URL: {instagram_status.get('post_url', 'N/A')}\")\n",
    "else:\n",
    "    print(\"Instagram credentials not available, skipping post\")"
   ]
  },
  {
   "cell_type": "markdown",
   "metadata": {},
   "source": [
    "## 3. Using the LangGraph Pipeline\n",
    "\n",
    "The Instagram Agent can also be used with a LangGraph pipeline, which provides a graph-based workflow with streaming intermediate results."
   ]
  },
  {
   "cell_type": "code",
   "execution_count": 15,
   "metadata": {},
   "outputs": [],
   "source": [
    "from ig_agent.pipeline import create_pipeline\n",
    "\n",
    "# Create the pipeline\n",
    "pipeline = create_pipeline(\n",
    "    llm=llm,\n",
    "    output_dir=output_dir,\n",
    "    email_user=os.environ.get(\"EMAIL_USER\"),\n",
    "    email_password=os.environ.get(\"EMAIL_PASSWORD\")\n",
    ")"
   ]
  },
  {
   "cell_type": "markdown",
   "metadata": {},
   "source": [
    "### 3.1 Visualize the Pipeline Graph\n",
    "\n",
    "Let's visualize the pipeline graph to understand the workflow:"
   ]
  },
  {
   "cell_type": "code",
   "execution_count": null,
   "metadata": {},
   "outputs": [],
   "source": [
    "# Try to visualize the pipeline graph\n",
    "try:\n",
    "    # Visualize the graph (requires graphviz)\n",
    "    display(Image(pipeline.get_graph().draw_mermaid_png()))\n",
    "except Exception as e:\n",
    "    print(f\"Unable to visualize graph: {e}\")\n",
    "    print(\"Consider installing graphviz to visualize the graph\")\n",
    "    # Create a simple representation of the graph\n",
    "    html = \"\"\"\n",
    "    <div style=\"border: 1px solid #ccc; padding: 10px;\">\n",
    "    <h3>Pipeline Graph</h3>\n",
    "    <pre>\n",
    "    START → supervisor → [ content_agent, image_agent, notification_agent ] → END\n",
    "    \n",
    "    Flow:\n",
    "    1. The supervisor routes tasks to the appropriate agent\n",
    "    2. Content agent generates content\n",
    "    3. Image agent creates visuals\n",
    "    4. Notification agent sends emails\n",
    "    5. The supervisor determines when to finish\n",
    "    </pre>\n",
    "    </div>\n",
    "    \"\"\"\n",
    "    display(HTML(html))"
   ]
  },
  {
   "cell_type": "markdown",
   "metadata": {},
   "source": [
    "### 3.2 Run the Pipeline with Streaming\n",
    "\n",
    "Run the pipeline with streaming to see the intermediate results:"
   ]
  },
  {
   "cell_type": "code",
   "execution_count": null,
   "metadata": {},
   "outputs": [],
   "source": [
    "# Set up inputs for the pipeline\n",
    "inputs = {\n",
    "    \"messages\": [\n",
    "        {\n",
    "            \"role\": \"user\", \n",
    "            \"content\": \"Generate a carousel post about Python data analysis libraries\"\n",
    "        }\n",
    "    ]\n",
    "}\n",
    "\n",
    "# Process and display streaming results\n",
    "for output in pipeline.stream(inputs):\n",
    "    if \"__end__\" not in output:\n",
    "        step = list(output.keys())[-1]\n",
    "        print(f\"\\n--- Step: {step} ---\")\n",
    "        \n",
    "        # Display agent messages\n",
    "        if step == \"supervisor\":\n",
    "            supervisor_output = output[step]\n",
    "            if \"next\" in supervisor_output:\n",
    "                print(f\"Supervisor decision: Next agent = {supervisor_output['next']}\")\n",
    "        elif step == \"content_agent\":\n",
    "            print(output[step][\"messages\"][-1].content)\n",
    "            if \"content_json\" in output[step]:\n",
    "                content_json = output[step][\"content_json\"]\n",
    "                print(f\"Generated content with {len(content_json.get('content_pages', []))} pages\")\n",
    "        elif step == \"image_agent\":\n",
    "            print(output[step][\"messages\"][-1].content)\n",
    "            if \"images\" in output[step]:\n",
    "                images = output[step][\"images\"]\n",
    "                print(f\"Generated {len(images)} images\")\n",
    "        elif step == \"notification_agent\":\n",
    "            print(output[step][\"messages\"][-1].content)\n",
    "            if \"notification_status\" in output[step]:\n",
    "                print(f\"Notification status: {output[step]['notification_status']}\")\n",
    "\n",
    "print(\"\\nPipeline execution completed.\")"
   ]
  },
  {
   "cell_type": "markdown",
   "metadata": {},
   "source": [
    "### 3.3 Display the Final Results\n",
    "\n",
    "After the pipeline has completed, we can display the generated images:"
   ]
  },
  {
   "cell_type": "code",
   "execution_count": null,
   "metadata": {},
   "outputs": [],
   "source": [
    "# Import glob to find the generated images\n",
    "import glob\n",
    "\n",
    "# Find the PNG files in the output directory\n",
    "png_files = sorted(glob.glob(str(output_dir / \"*.png\")))\n",
    "\n",
    "if png_files:\n",
    "    print(f\"Found {len(png_files)} images:\")\n",
    "    for img_path in png_files:\n",
    "        print(f\"\\nImage: {os.path.basename(img_path)}\")\n",
    "        display(Image(img_path))\n",
    "else:\n",
    "    print(\"No images found in the output directory.\")"
   ]
  },
  {
   "cell_type": "markdown",
   "metadata": {},
   "source": [
    "## 4. Full Pipeline in One Go\n",
    "\n",
    "You can also run the entire pipeline in one go using the `run_pipeline()` method:"
   ]
  },
  {
   "cell_type": "code",
   "execution_count": null,
   "metadata": {},
   "outputs": [],
   "source": [
    "# # Create a new output directory for this run\n",
    "# import datetime\n",
    "# # We only need to specify a base directory now\n",
    "# # DateTime subdirectories will be created automatically\n",
    "# new_output_dir = Path(f\"notebook_output_run\")\n",
    "# new_output_dir.mkdir(exist_ok=True)\n",
    "\n",
    "# # Create a new agent instance\n",
    "# new_agent = InstagramAgent(\n",
    "#     llm=llm,\n",
    "#     output_dir=new_output_dir,\n",
    "#     email_user=os.environ.get(\"EMAIL_USER\"),\n",
    "#     email_password=os.environ.get(\"EMAIL_PASSWORD\")\n",
    "# )\n",
    "\n",
    "# # Run the complete pipeline\n",
    "# request = \"Generate a carousel post about AI-powered data visualization techniques\"\n",
    "# recipient_email = \"your.email@example.com\"  # Replace with your email if needed\n",
    "\n",
    "# # Run with or without notification based on credentials\n",
    "# if os.environ.get(\"EMAIL_USER\") and os.environ.get(\"EMAIL_PASSWORD\"):\n",
    "#     results = new_agent.run_pipeline(request, recipient_email=recipient_email)\n",
    "# else:\n",
    "#     results = new_agent.run_pipeline(request)\n",
    "\n",
    "# # Display results summary\n",
    "# print(\"Pipeline execution completed.\")\n",
    "# print(f\"Output directory: {results['output_dir']}\")\n",
    "# print(f\"Content pages: {len(results['content']['content_pages'])}\")\n",
    "# print(f\"Images generated: {len(results['images'])}\")\n",
    "# if 'notification' in results:\n",
    "#     print(f\"Notification sent: {results['notification']['sent']}\")"
   ]
  },
  {
   "cell_type": "markdown",
   "metadata": {},
   "source": [
    "### 4.1 Display the Results from the Full Pipeline Run"
   ]
  },
  {
   "cell_type": "code",
   "execution_count": null,
   "metadata": {},
   "outputs": [],
   "source": [
    "# # Display the images from the full pipeline run\n",
    "# for img in results['images']:\n",
    "#     print(f\"\\n{img['type'].capitalize()}{' ' + str(img['page_number']) if 'page_number' in img else ''}:\")\n",
    "#     display(Image(img['path']))"
   ]
  },
  {
   "cell_type": "markdown",
   "metadata": {},
   "source": [
    "## 5. New Features\n",
    "\n",
    "The `ig_agent` library includes several key features that improve its functionality:\n",
    "\n",
    "1. **Content Line Breaks**: Content text is now broken into lines with approximately 18 words per line, making the text more readable on Instagram carousel posts.\n",
    "\n",
    "2. **DateTime-based Output Directories**: Output files are now organized in a hierarchical directory structure:\n",
    "   - Base directory (e.g., \"notebook_output\")\n",
    "   - Date subfolder (e.g., \"2025-04-20\")\n",
    "   - Timestamp subfolder (e.g., \"20250420_154900\")\n",
    "\n",
    "This organization makes it easier to track and manage multiple content generation runs and preserves a history of generated content."
   ]
  },
  {
   "cell_type": "markdown",
   "metadata": {},
   "source": [
    "## 6. Summary\n",
    "\n",
    "The `ig_agent` library provides a powerful multi-agent system for generating Instagram carousel posts. You can use it in several ways:\n",
    "\n",
    "1. **Direct API**: Use the individual methods for fine-grained control over each step\n",
    "2. **LangGraph Pipeline**: Use the graph-based workflow with streaming results\n",
    "3. **One-step Pipeline**: Run the entire process in one go with `run_pipeline()`\n",
    "\n",
    "The system generates structured content, converts it to visually appealing images using SVG templates, and optionally sends notifications or posts to Instagram."
   ]
  }
 ],
 "metadata": {
  "kernelspec": {
   "display_name": ".venv",
   "language": "python",
   "name": "python3"
  },
  "language_info": {
   "codemirror_mode": {
    "name": "ipython",
    "version": 3
   },
   "file_extension": ".py",
   "mimetype": "text/x-python",
   "name": "python",
   "nbconvert_exporter": "python",
   "pygments_lexer": "ipython3",
   "version": "3.12.7"
  }
 },
 "nbformat": 4,
 "nbformat_minor": 4
}
