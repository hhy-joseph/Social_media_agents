{
 "cells": [
  {
   "cell_type": "markdown",
   "metadata": {},
   "source": [
    "# Instagram Agent Demo\n",
    "\n",
    "This notebook demonstrates how to use the `ig_agent` library to generate Instagram carousel posts with AI."
   ]
  },
  {
   "cell_type": "markdown",
   "metadata": {},
   "source": [
    "## 1. Setup and Installation\n",
    "\n",
    "First, ensure you have all the necessary dependencies installed:"
   ]
  },
  {
   "cell_type": "code",
   "execution_count": 1,
   "metadata": {},
   "outputs": [
    {
     "name": "stdout",
     "output_type": "stream",
     "text": [
      "Requirement already satisfied: langchain_xai in /Users/joseph/Desktop/ig_agent/.venv/lib/python3.12/site-packages (0.2.3)\n",
      "Requirement already satisfied: cairosvg in /Users/joseph/Desktop/ig_agent/.venv/lib/python3.12/site-packages (2.7.1)\n",
      "Requirement already satisfied: langchain-openai<0.4,>=0.3.12 in /Users/joseph/Desktop/ig_agent/.venv/lib/python3.12/site-packages (from langchain_xai) (0.3.13)\n",
      "Requirement already satisfied: langchain-core<1.0.0,>=0.3.51 in /Users/joseph/Desktop/ig_agent/.venv/lib/python3.12/site-packages (from langchain_xai) (0.3.52)\n",
      "Requirement already satisfied: requests<3,>=2 in /Users/joseph/Desktop/ig_agent/.venv/lib/python3.12/site-packages (from langchain_xai) (2.32.3)\n",
      "Requirement already satisfied: aiohttp<4,>=3.9.1 in /Users/joseph/Desktop/ig_agent/.venv/lib/python3.12/site-packages (from langchain_xai) (3.11.16)\n",
      "Requirement already satisfied: cairocffi in /Users/joseph/Desktop/ig_agent/.venv/lib/python3.12/site-packages (from cairosvg) (1.7.1)\n",
      "Requirement already satisfied: cssselect2 in /Users/joseph/Desktop/ig_agent/.venv/lib/python3.12/site-packages (from cairosvg) (0.8.0)\n",
      "Requirement already satisfied: defusedxml in /Users/joseph/Desktop/ig_agent/.venv/lib/python3.12/site-packages (from cairosvg) (0.7.1)\n",
      "Requirement already satisfied: pillow in /Users/joseph/Desktop/ig_agent/.venv/lib/python3.12/site-packages (from cairosvg) (11.2.1)\n",
      "Requirement already satisfied: tinycss2 in /Users/joseph/Desktop/ig_agent/.venv/lib/python3.12/site-packages (from cairosvg) (1.4.0)\n",
      "Requirement already satisfied: aiohappyeyeballs>=2.3.0 in /Users/joseph/Desktop/ig_agent/.venv/lib/python3.12/site-packages (from aiohttp<4,>=3.9.1->langchain_xai) (2.6.1)\n",
      "Requirement already satisfied: aiosignal>=1.1.2 in /Users/joseph/Desktop/ig_agent/.venv/lib/python3.12/site-packages (from aiohttp<4,>=3.9.1->langchain_xai) (1.3.2)\n",
      "Requirement already satisfied: attrs>=17.3.0 in /Users/joseph/Desktop/ig_agent/.venv/lib/python3.12/site-packages (from aiohttp<4,>=3.9.1->langchain_xai) (25.3.0)\n",
      "Requirement already satisfied: frozenlist>=1.1.1 in /Users/joseph/Desktop/ig_agent/.venv/lib/python3.12/site-packages (from aiohttp<4,>=3.9.1->langchain_xai) (1.5.0)\n",
      "Requirement already satisfied: multidict<7.0,>=4.5 in /Users/joseph/Desktop/ig_agent/.venv/lib/python3.12/site-packages (from aiohttp<4,>=3.9.1->langchain_xai) (6.4.3)\n",
      "Requirement already satisfied: propcache>=0.2.0 in /Users/joseph/Desktop/ig_agent/.venv/lib/python3.12/site-packages (from aiohttp<4,>=3.9.1->langchain_xai) (0.3.1)\n",
      "Requirement already satisfied: yarl<2.0,>=1.17.0 in /Users/joseph/Desktop/ig_agent/.venv/lib/python3.12/site-packages (from aiohttp<4,>=3.9.1->langchain_xai) (1.20.0)\n",
      "Requirement already satisfied: langsmith<0.4,>=0.1.125 in /Users/joseph/Desktop/ig_agent/.venv/lib/python3.12/site-packages (from langchain-core<1.0.0,>=0.3.51->langchain_xai) (0.3.31)\n",
      "Requirement already satisfied: tenacity!=8.4.0,<10.0.0,>=8.1.0 in /Users/joseph/Desktop/ig_agent/.venv/lib/python3.12/site-packages (from langchain-core<1.0.0,>=0.3.51->langchain_xai) (9.1.2)\n",
      "Requirement already satisfied: jsonpatch<2.0,>=1.33 in /Users/joseph/Desktop/ig_agent/.venv/lib/python3.12/site-packages (from langchain-core<1.0.0,>=0.3.51->langchain_xai) (1.33)\n",
      "Requirement already satisfied: PyYAML>=5.3 in /Users/joseph/Desktop/ig_agent/.venv/lib/python3.12/site-packages (from langchain-core<1.0.0,>=0.3.51->langchain_xai) (6.0.2)\n",
      "Requirement already satisfied: packaging<25,>=23.2 in /Users/joseph/Desktop/ig_agent/.venv/lib/python3.12/site-packages (from langchain-core<1.0.0,>=0.3.51->langchain_xai) (24.2)\n",
      "Requirement already satisfied: typing-extensions>=4.7 in /Users/joseph/Desktop/ig_agent/.venv/lib/python3.12/site-packages (from langchain-core<1.0.0,>=0.3.51->langchain_xai) (4.13.2)\n",
      "Requirement already satisfied: pydantic<3.0.0,>=2.7.4 in /Users/joseph/Desktop/ig_agent/.venv/lib/python3.12/site-packages (from langchain-core<1.0.0,>=0.3.51->langchain_xai) (2.10.1)\n",
      "Requirement already satisfied: openai<2.0.0,>=1.68.2 in /Users/joseph/Desktop/ig_agent/.venv/lib/python3.12/site-packages (from langchain-openai<0.4,>=0.3.12->langchain_xai) (1.75.0)\n",
      "Requirement already satisfied: tiktoken<1,>=0.7 in /Users/joseph/Desktop/ig_agent/.venv/lib/python3.12/site-packages (from langchain-openai<0.4,>=0.3.12->langchain_xai) (0.9.0)\n",
      "Requirement already satisfied: charset-normalizer<4,>=2 in /Users/joseph/Desktop/ig_agent/.venv/lib/python3.12/site-packages (from requests<3,>=2->langchain_xai) (3.4.1)\n",
      "Requirement already satisfied: idna<4,>=2.5 in /Users/joseph/Desktop/ig_agent/.venv/lib/python3.12/site-packages (from requests<3,>=2->langchain_xai) (3.10)\n",
      "Requirement already satisfied: urllib3<3,>=1.21.1 in /Users/joseph/Desktop/ig_agent/.venv/lib/python3.12/site-packages (from requests<3,>=2->langchain_xai) (2.4.0)\n",
      "Requirement already satisfied: certifi>=2017.4.17 in /Users/joseph/Desktop/ig_agent/.venv/lib/python3.12/site-packages (from requests<3,>=2->langchain_xai) (2025.1.31)\n",
      "Requirement already satisfied: cffi>=1.1.0 in /Users/joseph/Desktop/ig_agent/.venv/lib/python3.12/site-packages (from cairocffi->cairosvg) (1.17.1)\n",
      "Requirement already satisfied: webencodings in /Users/joseph/Desktop/ig_agent/.venv/lib/python3.12/site-packages (from cssselect2->cairosvg) (0.5.1)\n",
      "Requirement already satisfied: pycparser in /Users/joseph/Desktop/ig_agent/.venv/lib/python3.12/site-packages (from cffi>=1.1.0->cairocffi->cairosvg) (2.22)\n",
      "Requirement already satisfied: jsonpointer>=1.9 in /Users/joseph/Desktop/ig_agent/.venv/lib/python3.12/site-packages (from jsonpatch<2.0,>=1.33->langchain-core<1.0.0,>=0.3.51->langchain_xai) (3.0.0)\n",
      "Requirement already satisfied: httpx<1,>=0.23.0 in /Users/joseph/Desktop/ig_agent/.venv/lib/python3.12/site-packages (from langsmith<0.4,>=0.1.125->langchain-core<1.0.0,>=0.3.51->langchain_xai) (0.28.1)\n",
      "Requirement already satisfied: orjson<4.0.0,>=3.9.14 in /Users/joseph/Desktop/ig_agent/.venv/lib/python3.12/site-packages (from langsmith<0.4,>=0.1.125->langchain-core<1.0.0,>=0.3.51->langchain_xai) (3.10.16)\n",
      "Requirement already satisfied: requests-toolbelt<2.0.0,>=1.0.0 in /Users/joseph/Desktop/ig_agent/.venv/lib/python3.12/site-packages (from langsmith<0.4,>=0.1.125->langchain-core<1.0.0,>=0.3.51->langchain_xai) (1.0.0)\n",
      "Requirement already satisfied: zstandard<0.24.0,>=0.23.0 in /Users/joseph/Desktop/ig_agent/.venv/lib/python3.12/site-packages (from langsmith<0.4,>=0.1.125->langchain-core<1.0.0,>=0.3.51->langchain_xai) (0.23.0)\n",
      "Requirement already satisfied: anyio<5,>=3.5.0 in /Users/joseph/Desktop/ig_agent/.venv/lib/python3.12/site-packages (from openai<2.0.0,>=1.68.2->langchain-openai<0.4,>=0.3.12->langchain_xai) (4.9.0)\n",
      "Requirement already satisfied: distro<2,>=1.7.0 in /Users/joseph/Desktop/ig_agent/.venv/lib/python3.12/site-packages (from openai<2.0.0,>=1.68.2->langchain-openai<0.4,>=0.3.12->langchain_xai) (1.9.0)\n",
      "Requirement already satisfied: jiter<1,>=0.4.0 in /Users/joseph/Desktop/ig_agent/.venv/lib/python3.12/site-packages (from openai<2.0.0,>=1.68.2->langchain-openai<0.4,>=0.3.12->langchain_xai) (0.9.0)\n",
      "Requirement already satisfied: sniffio in /Users/joseph/Desktop/ig_agent/.venv/lib/python3.12/site-packages (from openai<2.0.0,>=1.68.2->langchain-openai<0.4,>=0.3.12->langchain_xai) (1.3.1)\n",
      "Requirement already satisfied: tqdm>4 in /Users/joseph/Desktop/ig_agent/.venv/lib/python3.12/site-packages (from openai<2.0.0,>=1.68.2->langchain-openai<0.4,>=0.3.12->langchain_xai) (4.67.1)\n",
      "Requirement already satisfied: annotated-types>=0.6.0 in /Users/joseph/Desktop/ig_agent/.venv/lib/python3.12/site-packages (from pydantic<3.0.0,>=2.7.4->langchain-core<1.0.0,>=0.3.51->langchain_xai) (0.7.0)\n",
      "Requirement already satisfied: pydantic-core==2.27.1 in /Users/joseph/Desktop/ig_agent/.venv/lib/python3.12/site-packages (from pydantic<3.0.0,>=2.7.4->langchain-core<1.0.0,>=0.3.51->langchain_xai) (2.27.1)\n",
      "Requirement already satisfied: regex>=2022.1.18 in /Users/joseph/Desktop/ig_agent/.venv/lib/python3.12/site-packages (from tiktoken<1,>=0.7->langchain-openai<0.4,>=0.3.12->langchain_xai) (2024.11.6)\n",
      "Requirement already satisfied: httpcore==1.* in /Users/joseph/Desktop/ig_agent/.venv/lib/python3.12/site-packages (from httpx<1,>=0.23.0->langsmith<0.4,>=0.1.125->langchain-core<1.0.0,>=0.3.51->langchain_xai) (1.0.8)\n",
      "Requirement already satisfied: h11<0.15,>=0.13 in /Users/joseph/Desktop/ig_agent/.venv/lib/python3.12/site-packages (from httpcore==1.*->httpx<1,>=0.23.0->langsmith<0.4,>=0.1.125->langchain-core<1.0.0,>=0.3.51->langchain_xai) (0.14.0)\n",
      "Obtaining file:///Users/joseph/Desktop/ig_agent/app\n",
      "  Installing build dependencies ... \u001b[?25ldone\n",
      "\u001b[?25h  Checking if build backend supports build_editable ... \u001b[?25ldone\n",
      "\u001b[?25h  Getting requirements to build editable ... \u001b[?25ldone\n",
      "\u001b[?25h  Preparing editable metadata (pyproject.toml) ... \u001b[?25ldone\n",
      "\u001b[?25hRequirement already satisfied: langchain-core>=0.1.0 in /Users/joseph/Desktop/ig_agent/.venv/lib/python3.12/site-packages (from ig_agent==0.1.0) (0.3.52)\n",
      "Requirement already satisfied: langchain-xai>=0.1.0 in /Users/joseph/Desktop/ig_agent/.venv/lib/python3.12/site-packages (from ig_agent==0.1.0) (0.2.3)\n",
      "Requirement already satisfied: langgraph>=0.1.0 in /Users/joseph/Desktop/ig_agent/.venv/lib/python3.12/site-packages (from ig_agent==0.1.0) (0.3.30)\n",
      "Requirement already satisfied: pydantic>=2.0.0 in /Users/joseph/Desktop/ig_agent/.venv/lib/python3.12/site-packages (from ig_agent==0.1.0) (2.10.1)\n",
      "Requirement already satisfied: cairosvg>=2.7.0 in /Users/joseph/Desktop/ig_agent/.venv/lib/python3.12/site-packages (from ig_agent==0.1.0) (2.7.1)\n",
      "Requirement already satisfied: cairocffi in /Users/joseph/Desktop/ig_agent/.venv/lib/python3.12/site-packages (from cairosvg>=2.7.0->ig_agent==0.1.0) (1.7.1)\n",
      "Requirement already satisfied: cssselect2 in /Users/joseph/Desktop/ig_agent/.venv/lib/python3.12/site-packages (from cairosvg>=2.7.0->ig_agent==0.1.0) (0.8.0)\n",
      "Requirement already satisfied: defusedxml in /Users/joseph/Desktop/ig_agent/.venv/lib/python3.12/site-packages (from cairosvg>=2.7.0->ig_agent==0.1.0) (0.7.1)\n",
      "Requirement already satisfied: pillow in /Users/joseph/Desktop/ig_agent/.venv/lib/python3.12/site-packages (from cairosvg>=2.7.0->ig_agent==0.1.0) (11.2.1)\n",
      "Requirement already satisfied: tinycss2 in /Users/joseph/Desktop/ig_agent/.venv/lib/python3.12/site-packages (from cairosvg>=2.7.0->ig_agent==0.1.0) (1.4.0)\n",
      "Requirement already satisfied: langsmith<0.4,>=0.1.125 in /Users/joseph/Desktop/ig_agent/.venv/lib/python3.12/site-packages (from langchain-core>=0.1.0->ig_agent==0.1.0) (0.3.31)\n",
      "Requirement already satisfied: tenacity!=8.4.0,<10.0.0,>=8.1.0 in /Users/joseph/Desktop/ig_agent/.venv/lib/python3.12/site-packages (from langchain-core>=0.1.0->ig_agent==0.1.0) (9.1.2)\n",
      "Requirement already satisfied: jsonpatch<2.0,>=1.33 in /Users/joseph/Desktop/ig_agent/.venv/lib/python3.12/site-packages (from langchain-core>=0.1.0->ig_agent==0.1.0) (1.33)\n",
      "Requirement already satisfied: PyYAML>=5.3 in /Users/joseph/Desktop/ig_agent/.venv/lib/python3.12/site-packages (from langchain-core>=0.1.0->ig_agent==0.1.0) (6.0.2)\n",
      "Requirement already satisfied: packaging<25,>=23.2 in /Users/joseph/Desktop/ig_agent/.venv/lib/python3.12/site-packages (from langchain-core>=0.1.0->ig_agent==0.1.0) (24.2)\n",
      "Requirement already satisfied: typing-extensions>=4.7 in /Users/joseph/Desktop/ig_agent/.venv/lib/python3.12/site-packages (from langchain-core>=0.1.0->ig_agent==0.1.0) (4.13.2)\n",
      "Requirement already satisfied: langchain-openai<0.4,>=0.3.12 in /Users/joseph/Desktop/ig_agent/.venv/lib/python3.12/site-packages (from langchain-xai>=0.1.0->ig_agent==0.1.0) (0.3.13)\n",
      "Requirement already satisfied: requests<3,>=2 in /Users/joseph/Desktop/ig_agent/.venv/lib/python3.12/site-packages (from langchain-xai>=0.1.0->ig_agent==0.1.0) (2.32.3)\n",
      "Requirement already satisfied: aiohttp<4,>=3.9.1 in /Users/joseph/Desktop/ig_agent/.venv/lib/python3.12/site-packages (from langchain-xai>=0.1.0->ig_agent==0.1.0) (3.11.16)\n",
      "Requirement already satisfied: langgraph-checkpoint<3.0.0,>=2.0.10 in /Users/joseph/Desktop/ig_agent/.venv/lib/python3.12/site-packages (from langgraph>=0.1.0->ig_agent==0.1.0) (2.0.24)\n",
      "Requirement already satisfied: langgraph-prebuilt<0.2,>=0.1.1 in /Users/joseph/Desktop/ig_agent/.venv/lib/python3.12/site-packages (from langgraph>=0.1.0->ig_agent==0.1.0) (0.1.8)\n",
      "Requirement already satisfied: langgraph-sdk<0.2.0,>=0.1.42 in /Users/joseph/Desktop/ig_agent/.venv/lib/python3.12/site-packages (from langgraph>=0.1.0->ig_agent==0.1.0) (0.1.61)\n",
      "Requirement already satisfied: xxhash<4.0.0,>=3.5.0 in /Users/joseph/Desktop/ig_agent/.venv/lib/python3.12/site-packages (from langgraph>=0.1.0->ig_agent==0.1.0) (3.5.0)\n",
      "Requirement already satisfied: annotated-types>=0.6.0 in /Users/joseph/Desktop/ig_agent/.venv/lib/python3.12/site-packages (from pydantic>=2.0.0->ig_agent==0.1.0) (0.7.0)\n",
      "Requirement already satisfied: pydantic-core==2.27.1 in /Users/joseph/Desktop/ig_agent/.venv/lib/python3.12/site-packages (from pydantic>=2.0.0->ig_agent==0.1.0) (2.27.1)\n",
      "Requirement already satisfied: aiohappyeyeballs>=2.3.0 in /Users/joseph/Desktop/ig_agent/.venv/lib/python3.12/site-packages (from aiohttp<4,>=3.9.1->langchain-xai>=0.1.0->ig_agent==0.1.0) (2.6.1)\n",
      "Requirement already satisfied: aiosignal>=1.1.2 in /Users/joseph/Desktop/ig_agent/.venv/lib/python3.12/site-packages (from aiohttp<4,>=3.9.1->langchain-xai>=0.1.0->ig_agent==0.1.0) (1.3.2)\n",
      "Requirement already satisfied: attrs>=17.3.0 in /Users/joseph/Desktop/ig_agent/.venv/lib/python3.12/site-packages (from aiohttp<4,>=3.9.1->langchain-xai>=0.1.0->ig_agent==0.1.0) (25.3.0)\n",
      "Requirement already satisfied: frozenlist>=1.1.1 in /Users/joseph/Desktop/ig_agent/.venv/lib/python3.12/site-packages (from aiohttp<4,>=3.9.1->langchain-xai>=0.1.0->ig_agent==0.1.0) (1.5.0)\n",
      "Requirement already satisfied: multidict<7.0,>=4.5 in /Users/joseph/Desktop/ig_agent/.venv/lib/python3.12/site-packages (from aiohttp<4,>=3.9.1->langchain-xai>=0.1.0->ig_agent==0.1.0) (6.4.3)\n",
      "Requirement already satisfied: propcache>=0.2.0 in /Users/joseph/Desktop/ig_agent/.venv/lib/python3.12/site-packages (from aiohttp<4,>=3.9.1->langchain-xai>=0.1.0->ig_agent==0.1.0) (0.3.1)\n",
      "Requirement already satisfied: yarl<2.0,>=1.17.0 in /Users/joseph/Desktop/ig_agent/.venv/lib/python3.12/site-packages (from aiohttp<4,>=3.9.1->langchain-xai>=0.1.0->ig_agent==0.1.0) (1.20.0)\n",
      "Requirement already satisfied: jsonpointer>=1.9 in /Users/joseph/Desktop/ig_agent/.venv/lib/python3.12/site-packages (from jsonpatch<2.0,>=1.33->langchain-core>=0.1.0->ig_agent==0.1.0) (3.0.0)\n",
      "Requirement already satisfied: openai<2.0.0,>=1.68.2 in /Users/joseph/Desktop/ig_agent/.venv/lib/python3.12/site-packages (from langchain-openai<0.4,>=0.3.12->langchain-xai>=0.1.0->ig_agent==0.1.0) (1.75.0)\n",
      "Requirement already satisfied: tiktoken<1,>=0.7 in /Users/joseph/Desktop/ig_agent/.venv/lib/python3.12/site-packages (from langchain-openai<0.4,>=0.3.12->langchain-xai>=0.1.0->ig_agent==0.1.0) (0.9.0)\n",
      "Requirement already satisfied: ormsgpack<2.0.0,>=1.8.0 in /Users/joseph/Desktop/ig_agent/.venv/lib/python3.12/site-packages (from langgraph-checkpoint<3.0.0,>=2.0.10->langgraph>=0.1.0->ig_agent==0.1.0) (1.9.1)\n",
      "Requirement already satisfied: httpx>=0.25.2 in /Users/joseph/Desktop/ig_agent/.venv/lib/python3.12/site-packages (from langgraph-sdk<0.2.0,>=0.1.42->langgraph>=0.1.0->ig_agent==0.1.0) (0.28.1)\n",
      "Requirement already satisfied: orjson>=3.10.1 in /Users/joseph/Desktop/ig_agent/.venv/lib/python3.12/site-packages (from langgraph-sdk<0.2.0,>=0.1.42->langgraph>=0.1.0->ig_agent==0.1.0) (3.10.16)\n",
      "Requirement already satisfied: requests-toolbelt<2.0.0,>=1.0.0 in /Users/joseph/Desktop/ig_agent/.venv/lib/python3.12/site-packages (from langsmith<0.4,>=0.1.125->langchain-core>=0.1.0->ig_agent==0.1.0) (1.0.0)\n",
      "Requirement already satisfied: zstandard<0.24.0,>=0.23.0 in /Users/joseph/Desktop/ig_agent/.venv/lib/python3.12/site-packages (from langsmith<0.4,>=0.1.125->langchain-core>=0.1.0->ig_agent==0.1.0) (0.23.0)\n",
      "Requirement already satisfied: charset-normalizer<4,>=2 in /Users/joseph/Desktop/ig_agent/.venv/lib/python3.12/site-packages (from requests<3,>=2->langchain-xai>=0.1.0->ig_agent==0.1.0) (3.4.1)\n",
      "Requirement already satisfied: idna<4,>=2.5 in /Users/joseph/Desktop/ig_agent/.venv/lib/python3.12/site-packages (from requests<3,>=2->langchain-xai>=0.1.0->ig_agent==0.1.0) (3.10)\n",
      "Requirement already satisfied: urllib3<3,>=1.21.1 in /Users/joseph/Desktop/ig_agent/.venv/lib/python3.12/site-packages (from requests<3,>=2->langchain-xai>=0.1.0->ig_agent==0.1.0) (2.4.0)\n",
      "Requirement already satisfied: certifi>=2017.4.17 in /Users/joseph/Desktop/ig_agent/.venv/lib/python3.12/site-packages (from requests<3,>=2->langchain-xai>=0.1.0->ig_agent==0.1.0) (2025.1.31)\n",
      "Requirement already satisfied: cffi>=1.1.0 in /Users/joseph/Desktop/ig_agent/.venv/lib/python3.12/site-packages (from cairocffi->cairosvg>=2.7.0->ig_agent==0.1.0) (1.17.1)\n",
      "Requirement already satisfied: webencodings in /Users/joseph/Desktop/ig_agent/.venv/lib/python3.12/site-packages (from cssselect2->cairosvg>=2.7.0->ig_agent==0.1.0) (0.5.1)\n",
      "Requirement already satisfied: pycparser in /Users/joseph/Desktop/ig_agent/.venv/lib/python3.12/site-packages (from cffi>=1.1.0->cairocffi->cairosvg>=2.7.0->ig_agent==0.1.0) (2.22)\n",
      "Requirement already satisfied: anyio in /Users/joseph/Desktop/ig_agent/.venv/lib/python3.12/site-packages (from httpx>=0.25.2->langgraph-sdk<0.2.0,>=0.1.42->langgraph>=0.1.0->ig_agent==0.1.0) (4.9.0)\n",
      "Requirement already satisfied: httpcore==1.* in /Users/joseph/Desktop/ig_agent/.venv/lib/python3.12/site-packages (from httpx>=0.25.2->langgraph-sdk<0.2.0,>=0.1.42->langgraph>=0.1.0->ig_agent==0.1.0) (1.0.8)\n",
      "Requirement already satisfied: h11<0.15,>=0.13 in /Users/joseph/Desktop/ig_agent/.venv/lib/python3.12/site-packages (from httpcore==1.*->httpx>=0.25.2->langgraph-sdk<0.2.0,>=0.1.42->langgraph>=0.1.0->ig_agent==0.1.0) (0.14.0)\n",
      "Requirement already satisfied: distro<2,>=1.7.0 in /Users/joseph/Desktop/ig_agent/.venv/lib/python3.12/site-packages (from openai<2.0.0,>=1.68.2->langchain-openai<0.4,>=0.3.12->langchain-xai>=0.1.0->ig_agent==0.1.0) (1.9.0)\n",
      "Requirement already satisfied: jiter<1,>=0.4.0 in /Users/joseph/Desktop/ig_agent/.venv/lib/python3.12/site-packages (from openai<2.0.0,>=1.68.2->langchain-openai<0.4,>=0.3.12->langchain-xai>=0.1.0->ig_agent==0.1.0) (0.9.0)\n",
      "Requirement already satisfied: sniffio in /Users/joseph/Desktop/ig_agent/.venv/lib/python3.12/site-packages (from openai<2.0.0,>=1.68.2->langchain-openai<0.4,>=0.3.12->langchain-xai>=0.1.0->ig_agent==0.1.0) (1.3.1)\n",
      "Requirement already satisfied: tqdm>4 in /Users/joseph/Desktop/ig_agent/.venv/lib/python3.12/site-packages (from openai<2.0.0,>=1.68.2->langchain-openai<0.4,>=0.3.12->langchain-xai>=0.1.0->ig_agent==0.1.0) (4.67.1)\n",
      "Requirement already satisfied: regex>=2022.1.18 in /Users/joseph/Desktop/ig_agent/.venv/lib/python3.12/site-packages (from tiktoken<1,>=0.7->langchain-openai<0.4,>=0.3.12->langchain-xai>=0.1.0->ig_agent==0.1.0) (2024.11.6)\n",
      "Building wheels for collected packages: ig_agent\n",
      "  Building editable for ig_agent (pyproject.toml) ... \u001b[?25ldone\n",
      "\u001b[?25h  Created wheel for ig_agent: filename=ig_agent-0.1.0-0.editable-py3-none-any.whl size=3273 sha256=703c2a3295a74739766074ec6df57c50de8c92c82f27de80328d41dc5c4bf473\n",
      "  Stored in directory: /private/var/folders/9q/25hnvn653lz4fjlr1f8kwk6r0000gn/T/pip-ephem-wheel-cache-5gpm_bvw/wheels/3f/c6/80/74aa44195df52dde8decaea6604fb74c9fe6db16a494b241b2\n",
      "Successfully built ig_agent\n",
      "Installing collected packages: ig_agent\n",
      "  Attempting uninstall: ig_agent\n",
      "    Found existing installation: ig_agent 0.1.0\n",
      "    Uninstalling ig_agent-0.1.0:\n",
      "      Successfully uninstalled ig_agent-0.1.0\n",
      "Successfully installed ig_agent-0.1.0\n"
     ]
    }
   ],
   "source": [
    "# Install dependencies if needed\n",
    "!pip install langchain_xai cairosvg\n",
    "!pip install -e ."
   ]
  },
  {
   "cell_type": "markdown",
   "metadata": {},
   "source": [
    "## 2. Basic Usage - Direct API\n",
    "\n",
    "The simplest way to use the Instagram Agent is through its direct API, which provides methods for each step of the content generation and posting process."
   ]
  },
  {
   "cell_type": "code",
   "execution_count": 2,
   "metadata": {},
   "outputs": [],
   "source": [
    "import os\n",
    "import logging\n",
    "from pathlib import Path\n",
    "from IPython.display import Image, display, HTML\n",
    "from langchain_xai import ChatXAI\n",
    "from ig_agent import InstagramAgent\n",
    "\n",
    "# Set up logging\n",
    "logging.basicConfig(\n",
    "    level=logging.INFO,\n",
    "    format='%(asctime)s - %(name)s - %(levelname)s - %(message)s',\n",
    "    handlers=[logging.StreamHandler()]\n",
    ")\n",
    "logger = logging.getLogger(\"ig_agent_demo\")"
   ]
  },
  {
   "cell_type": "code",
   "execution_count": 3,
   "metadata": {},
   "outputs": [],
   "source": [
    "# Create base output directory \n",
    "# Now outputs will be stored in datetime subdirectories\n",
    "output_dir = Path(\"output\")\n",
    "output_dir.mkdir(exist_ok=True)\n",
    "\n",
    "# Initialize language model\n",
    "# You can use any LangChain compatible LLM here\n",
    "llm = ChatXAI(model=\"grok-3-mini-beta\")\n",
    "\n",
    "# Initialize the Instagram agent\n",
    "# Output will automatically be stored in a datetime-based directory structure\n",
    "# For example: output/2025-04-20/20250420_154900/\n",
    "agent = InstagramAgent(\n",
    "    llm=llm,\n",
    "    output_dir=output_dir,\n",
    "    # Optional: provide credentials for notification and posting\n",
    "    email_user=os.environ.get(\"EMAIL_USER\"),\n",
    "    email_password=os.environ.get(\"EMAIL_PASSWORD\"),\n",
    "    instagram_username=os.environ.get(\"INSTAGRAM_USERNAME\"),\n",
    "    instagram_password=os.environ.get(\"INSTAGRAM_PASSWORD\")\n",
    ")"
   ]
  },
  {
   "cell_type": "markdown",
   "metadata": {},
   "source": [
    "### 2.1 Generate Content\n",
    "\n",
    "First, we generate the content for our Instagram carousel post based on a request:"
   ]
  },
  {
   "cell_type": "code",
   "execution_count": 4,
   "metadata": {},
   "outputs": [
    {
     "data": {
      "text/plain": [
       "'2025-Apr-20'"
      ]
     },
     "execution_count": 4,
     "metadata": {},
     "output_type": "execute_result"
    }
   ],
   "source": [
    "from datetime import datetime\n",
    "today = datetime.now().strftime('%Y-%b-%d')\n",
    "today"
   ]
  },
  {
   "cell_type": "code",
   "execution_count": 5,
   "metadata": {},
   "outputs": [
    {
     "name": "stderr",
     "output_type": "stream",
     "text": [
      "2025-04-20 17:59:55,896 - ig_agent - INFO - Generating content for request: Today is 2025-Apr-20. Generate a AI news Post pleaese. Agent especially. Just one news like new packages, new tech and etc\n",
      "2025-04-20 18:00:04,012 - httpx - INFO - HTTP Request: POST https://api.x.ai/v1/chat/completions \"HTTP/1.1 200 OK\"\n",
      "2025-04-20 18:00:05,004 - primp - INFO - response: https://html.duckduckgo.com/html 200\n",
      "2025-04-20 18:00:15,960 - httpx - INFO - HTTP Request: POST https://api.x.ai/v1/chat/completions \"HTTP/1.1 200 OK\"\n",
      "2025-04-20 18:00:33,250 - httpx - INFO - HTTP Request: POST https://api.x.ai/v1/chat/completions \"HTTP/1.1 200 OK\"\n",
      "2025-04-20 18:00:33,261 - ig_agent.content_agent - INFO - Generated unique content on attempt 1\n"
     ]
    }
   ],
   "source": [
    "# Generate content\n",
    "request = f\"Today is {today}. Generate a AI news Post pleaese. Agent especially. Just one news like new packages, new tech and etc\"\n",
    "content_json = agent.generate_content(request)"
   ]
  },
  {
   "cell_type": "code",
   "execution_count": 6,
   "metadata": {},
   "outputs": [
    {
     "name": "stdout",
     "output_type": "stream",
     "text": [
      "Cover: AI代理新時代 Fujitsu的Kozuchi突破\n",
      "Hashtag: #AIAgents\n",
      "Number of content pages: 6\n",
      "\n",
      "Content Pages:\n",
      "  Page 1: 什麼是Kozuchi AI代理？ - Fujitsu的Kozuchi是2025熱門AI代理，能自主學習並處理多模態數據，如文字和圖像。發布於2024年10月，它幫助企業解決複雜問題，提升效率。投資熱潮達20億美元，預示AI代理將成主流工具。\n",
      "  Page 2: AI代理的關鍵趨勢 - 2025年，AI代理強調多模態整合，讓系統同時處理文字、聲音和影像。這項技術使代理更智能，如Kozuchi能像專業人士般策略決策，預計到2027年使用公司將翻倍，提供實用工作解決方案。\n",
      "  Page 3: 投資與應用影響 - AI代理投資已超20億美元，驅動公司試點計劃。Kozuchi應用於商業決策，能減少錯誤並加速創新。例如，在製造業，它優化流程，幫助用戶在工作中獲得競爭優勢。\n",
      "  Page 4: 潛在挑戰與未來 - 儘管Kozuchi有系統穩定性挑戰，如伺服器過載，但其直覺界面顯示巨大潛力。未來，AI代理將更自主，改變產業格局。學習這點，能讓你預見AI在個人和職業中的角色。\n",
      "  Page 5: 如何開始使用AI代理 - 想嘗試AI代理？從了解Kozuchi開始，關注Fujitsu官方資源。步驟包括評估需求、測試試點，並整合到工作流程中。這能立即提升你的生產力，迎接2025 AI浪潮。\n",
      "  Page 6: 為何這項技術重要 - Kozuchi代表AI從工具轉向夥伴，提供即時洞見。對你來說，這意味著更高效的工作和創新機會。掌握這些趨勢，能讓你在AI時代脫穎而出。\n",
      "\n",
      "Caption Preview:\n",
      "你知道嗎？在2025年，AI代理正引領一場科技革命！想像一下，一個能自主決策的AI助手，如Fujitsu的Kozuchi，能處理複雜問題並學習成長。這篇貼文將帶你深入探索這項新技術，從投資趨勢到實際應用，幫助你快速掌握AI的未來趨勢。💡\n",
      "\n",
      "首先，我們聚焦Fujitsu的Kozuchi AI代理，這款2024年10月全球發布的創新產品，結合多模態AI，能理解文字、聲音和圖像，提供高效決策支援。為何重...\n"
     ]
    }
   ],
   "source": [
    "# Display the generated content structure\n",
    "print(f\"Cover: {content_json['cover']['heading_line1']} {content_json['cover']['heading_line2']}\")\n",
    "print(f\"Hashtag: #{content_json['cover']['hashtag']}\")\n",
    "print(f\"Number of content pages: {len(content_json['content_pages'])}\")\n",
    "print(\"\\nContent Pages:\")\n",
    "for i, page in enumerate(content_json['content_pages']):\n",
    "    print(f\"  Page {i+1}: {page['title']} - {page['main_point']}\")\n",
    "\n",
    "print(\"\\nCaption Preview:\")\n",
    "print(content_json['caption'][:200] + \"...\")"
   ]
  },
  {
   "cell_type": "markdown",
   "metadata": {},
   "source": [
    "### 2.2 Generate Images\n",
    "\n",
    "Next, we generate the images for our carousel post based on the content:"
   ]
  },
  {
   "cell_type": "code",
   "execution_count": 7,
   "metadata": {},
   "outputs": [],
   "source": [
    "import os\n",
    "os.environ['DYLD_LIBRARY_PATH'] = '/opt/homebrew/lib:' + os.environ.get('DYLD_LIBRARY_PATH', '')"
   ]
  },
  {
   "cell_type": "code",
   "execution_count": 8,
   "metadata": {},
   "outputs": [
    {
     "name": "stderr",
     "output_type": "stream",
     "text": [
      "2025-04-20 18:00:33,292 - ig_agent - INFO - Generating images from content\n",
      "2025-04-20 18:00:33,435 - ig_agent.template_processor - WARNING - PyCairo is not available, falling back to other methods\n",
      "2025-04-20 18:00:33,435 - ig_agent.template_processor - INFO - CairoSVG version: 2.7.1\n",
      "2025-04-20 18:00:33,437 - ig_agent.template_processor - INFO - Attempting SVG conversion with rsvg-convert for cover...\n",
      "2025-04-20 18:00:33,732 - ig_agent.template_processor - INFO - Successfully converted SVG to PNG using rsvg-convert\n",
      "2025-04-20 18:00:33,732 - ig_agent.template_processor - INFO - Generated cover image: output/2025-04-20/20250420_175955/cover.png\n",
      "2025-04-20 18:00:33,735 - ig_agent.template_processor - INFO - Attempting SVG conversion with rsvg-convert for content page 1...\n",
      "2025-04-20 18:00:33,863 - ig_agent.template_processor - INFO - Successfully converted SVG to PNG using rsvg-convert\n",
      "2025-04-20 18:00:33,864 - ig_agent.template_processor - INFO - Generated content image 1: output/2025-04-20/20250420_175955/content_01.png\n",
      "2025-04-20 18:00:33,865 - ig_agent.template_processor - INFO - Attempting SVG conversion with rsvg-convert for content page 2...\n",
      "2025-04-20 18:00:33,996 - ig_agent.template_processor - INFO - Successfully converted SVG to PNG using rsvg-convert\n",
      "2025-04-20 18:00:33,997 - ig_agent.template_processor - INFO - Generated content image 2: output/2025-04-20/20250420_175955/content_02.png\n",
      "2025-04-20 18:00:33,998 - ig_agent.template_processor - INFO - Attempting SVG conversion with rsvg-convert for content page 3...\n",
      "2025-04-20 18:00:34,126 - ig_agent.template_processor - INFO - Successfully converted SVG to PNG using rsvg-convert\n",
      "2025-04-20 18:00:34,127 - ig_agent.template_processor - INFO - Generated content image 3: output/2025-04-20/20250420_175955/content_03.png\n",
      "2025-04-20 18:00:34,128 - ig_agent.template_processor - INFO - Attempting SVG conversion with rsvg-convert for content page 4...\n",
      "2025-04-20 18:00:34,258 - ig_agent.template_processor - INFO - Successfully converted SVG to PNG using rsvg-convert\n",
      "2025-04-20 18:00:34,259 - ig_agent.template_processor - INFO - Generated content image 4: output/2025-04-20/20250420_175955/content_04.png\n",
      "2025-04-20 18:00:34,260 - ig_agent.template_processor - INFO - Attempting SVG conversion with rsvg-convert for content page 5...\n",
      "2025-04-20 18:00:34,392 - ig_agent.template_processor - INFO - Successfully converted SVG to PNG using rsvg-convert\n",
      "2025-04-20 18:00:34,393 - ig_agent.template_processor - INFO - Generated content image 5: output/2025-04-20/20250420_175955/content_05.png\n",
      "2025-04-20 18:00:34,394 - ig_agent.template_processor - INFO - Attempting SVG conversion with rsvg-convert for content page 6...\n",
      "2025-04-20 18:00:34,522 - ig_agent.template_processor - INFO - Successfully converted SVG to PNG using rsvg-convert\n",
      "2025-04-20 18:00:34,523 - ig_agent.template_processor - INFO - Generated content image 6: output/2025-04-20/20250420_175955/content_06.png\n",
      "2025-04-20 18:00:34,523 - ig_agent.image_agent - INFO - Generated 7 images\n"
     ]
    },
    {
     "name": "stdout",
     "output_type": "stream",
     "text": [
      "Generated 7 images:\n",
      "  Cover: cover.png\n",
      "  Content 1: content_01.png\n",
      "  Content 2: content_02.png\n",
      "  Content 3: content_03.png\n",
      "  Content 4: content_04.png\n",
      "  Content 5: content_05.png\n",
      "  Content 6: content_06.png\n"
     ]
    }
   ],
   "source": [
    "# Generate images\n",
    "images = agent.generate_images(content_json)\n",
    "\n",
    "# Display summary\n",
    "print(f\"Generated {len(images)} images:\")\n",
    "for img in images:\n",
    "    print(f\"  {img['type'].capitalize()}{' ' + str(img['page_number']) if 'page_number' in img else ''}: {img['file_name']}\")"
   ]
  },
  {
   "cell_type": "markdown",
   "metadata": {},
   "source": [
    "### 2.3 Display Generated Images\n",
    "\n",
    "Now, let's visualize the images that were generated:"
   ]
  },
  {
   "cell_type": "code",
   "execution_count": 9,
   "metadata": {},
   "outputs": [],
   "source": [
    "# # Display cover image\n",
    "# cover_image = next(img for img in images if img['type'] == 'cover')\n",
    "# print(\"Cover Image:\")\n",
    "# display(Image(cover_image['path']))"
   ]
  },
  {
   "cell_type": "code",
   "execution_count": 10,
   "metadata": {},
   "outputs": [],
   "source": [
    "# # Display cover image\n",
    "# cover_image = next(img for img in images if img['type'] != 'cover')\n",
    "# print(\"Cover Image:\")\n",
    "# display(Image(cover_image['path']))"
   ]
  },
  {
   "cell_type": "markdown",
   "metadata": {},
   "source": [
    "### 2.4 Send Notification (Optional)\n",
    "\n",
    "If you've provided email credentials, you can send a notification with the generated content:"
   ]
  },
  {
   "cell_type": "code",
   "execution_count": 11,
   "metadata": {},
   "outputs": [
    {
     "name": "stdout",
     "output_type": "stream",
     "text": [
      "Email credentials not available, skipping notification\n"
     ]
    }
   ],
   "source": [
    "# Send notification if credentials are available\n",
    "if os.environ.get(\"EMAIL_USER\") and os.environ.get(\"EMAIL_PASSWORD\"):\n",
    "    recipient_email = \"your.email@example.com\"  # Replace with your email\n",
    "    notification_status = agent.send_notification(recipient_email)\n",
    "    print(f\"Notification sent: {notification_status['sent']}\")\n",
    "    if notification_status['sent']:\n",
    "        print(f\"Email sent to: {notification_status['recipient']}\")\n",
    "        print(f\"Subject: {notification_status['subject']}\")\n",
    "else:\n",
    "    print(\"Email credentials not available, skipping notification\")"
   ]
  },
  {
   "cell_type": "markdown",
   "metadata": {},
   "source": [
    "### 2.5 Post to Instagram (Optional)\n",
    "\n",
    "If you've provided Instagram credentials, you can post the content to Instagram:"
   ]
  },
  {
   "cell_type": "code",
   "execution_count": 12,
   "metadata": {},
   "outputs": [
    {
     "name": "stderr",
     "output_type": "stream",
     "text": [
      "2025-04-20 18:00:34,538 - ig_agent - INFO - Posting to Instagram\n",
      "2025-04-20 18:00:34,539 - instagrapi - INFO - https://i.instagram.com/api/v1/launcher/sync/\n",
      "2025-04-20 18:00:35,692 - private_request - INFO - datasci_daily [200] POST https://i.instagram.com/api/v1/launcher/sync/ (269.0.0.18.75, OnePlus 6T Dev)\n",
      "2025-04-20 18:00:36,584 - instagrapi - INFO - https://i.instagram.com/api/v1/accounts/login/\n",
      "2025-04-20 18:00:41,339 - private_request - INFO - datasci_daily [200] POST https://i.instagram.com/api/v1/accounts/login/ (269.0.0.18.75, OnePlus 6T Dev)\n",
      "2025-04-20 18:00:42,343 - instagrapi - INFO - https://i.instagram.com/api/v1/feed/reels_tray/\n",
      "2025-04-20 18:00:42,962 - private_request - INFO - datasci_daily [200] POST https://i.instagram.com/api/v1/feed/reels_tray/ (269.0.0.18.75, OnePlus 6T Dev)\n",
      "2025-04-20 18:00:43,969 - instagrapi - INFO - https://i.instagram.com/api/v1/feed/timeline/\n",
      "2025-04-20 18:00:46,371 - private_request - INFO - datasci_daily [200] POST https://i.instagram.com/api/v1/feed/timeline/ (269.0.0.18.75, OnePlus 6T Dev)\n",
      "2025-04-20 18:00:46,376 - ig_agent.instagram_poster - ERROR - Failed to post to Instagram: Unknown ({})\n"
     ]
    },
    {
     "name": "stdout",
     "output_type": "stream",
     "text": [
      "Posted to Instagram: False\n"
     ]
    }
   ],
   "source": [
    "# Post to Instagram if credentials are available\n",
    "if os.environ.get(\"INSTAGRAM_USERNAME\") and os.environ.get(\"INSTAGRAM_PASSWORD\"):\n",
    "    # Using the updated post_to_instagram method that now accepts parameters\n",
    "    instagram_status = agent.post_to_instagram()\n",
    "    print(f\"Posted to Instagram: {instagram_status['posted']}\")\n",
    "    if instagram_status['posted']:\n",
    "        print(f\"Post URL: {instagram_status.get('url', 'N/A')}\")\n",
    "else:\n",
    "    print(\"Instagram credentials not available, skipping post\")"
   ]
  },
  {
   "cell_type": "markdown",
   "metadata": {},
   "source": [
    "## 3. Using the LangGraph Pipeline\n",
    "\n",
    "The Instagram Agent can also be used with a LangGraph pipeline, which provides a graph-based workflow with streaming intermediate results."
   ]
  },
  {
   "cell_type": "code",
   "execution_count": 13,
   "metadata": {},
   "outputs": [],
   "source": [
    "from ig_agent.pipeline import create_pipeline\n",
    "\n",
    "# Create the pipeline\n",
    "pipeline = create_pipeline(\n",
    "    llm=llm,\n",
    "    output_dir=output_dir,\n",
    "    email_user=os.environ.get(\"EMAIL_USER\"),\n",
    "    email_password=os.environ.get(\"EMAIL_PASSWORD\")\n",
    ")"
   ]
  },
  {
   "cell_type": "code",
   "execution_count": null,
   "metadata": {},
   "outputs": [],
   "source": [
    "# # Visualize the pipeline graph\n",
    "# from IPython.display import display, Image\n",
    "\n",
    "# # Create the pipeline\n",
    "# pipeline = create_pipeline(\n",
    "#     llm=llm,\n",
    "#     output_dir=output_dir,\n",
    "#     email_user=os.environ.get(\"EMAIL_USER\"),\n",
    "#     email_password=os.environ.get(\"EMAIL_PASSWORD\")\n",
    "# )\n",
    "\n",
    "# # Visualize the graph\n",
    "# try:\n",
    "#     display(Image(pipeline.get_graph().draw_mermaid_png()))\n",
    "# except Exception as e:\n",
    "#     print(f\"Error displaying graph: {e}\")\n",
    "#     print(\"If you can't see the graph, make sure graphviz is installed.\")"
   ]
  },
  {
   "cell_type": "markdown",
   "metadata": {},
   "source": [
    "### 3.1 Visualize the Pipeline Graph\n",
    "\n",
    "Let's visualize the pipeline graph to understand the workflow:"
   ]
  },
  {
   "cell_type": "code",
   "execution_count": null,
   "metadata": {},
   "outputs": [],
   "source": [
    "# Try to visualize the pipeline graph\n",
    "try:\n",
    "    # Visualize the graph (requires graphviz)\n",
    "    display(Image(pipeline.get_graph().draw_mermaid_png()))\n",
    "except Exception as e:\n",
    "    print(f\"Unable to visualize graph: {e}\")\n",
    "    print(\"Consider installing graphviz to visualize the graph\")\n",
    "    # Create a simple representation of the graph\n",
    "    html = \"\"\"\n",
    "    <div style=\"border: 1px solid #ccc; padding: 10px;\">\n",
    "    <h3>Pipeline Graph</h3>\n",
    "    <pre>\n",
    "    START → supervisor → [ content_agent, image_agent, notification_agent ] → END\n",
    "    \n",
    "    Flow:\n",
    "    1. The supervisor routes tasks to the appropriate agent\n",
    "    2. Content agent generates content\n",
    "    3. Image agent creates visuals\n",
    "    4. Notification agent sends emails\n",
    "    5. The supervisor determines when to finish\n",
    "    </pre>\n",
    "    </div>\n",
    "    \"\"\"\n",
    "    display(HTML(html))"
   ]
  },
  {
   "cell_type": "markdown",
   "metadata": {},
   "source": [
    "### 3.2 Run the Pipeline with Streaming\n",
    "\n",
    "Run the pipeline with streaming to see the intermediate results:"
   ]
  },
  {
   "cell_type": "code",
   "execution_count": null,
   "metadata": {},
   "outputs": [],
   "source": [
    "# Set up inputs for the pipeline\n",
    "inputs = {\n",
    "    \"messages\": [\n",
    "        {\n",
    "            \"role\": \"user\", \n",
    "            \"content\": \"Generate a carousel post about Python data analysis libraries\"\n",
    "        }\n",
    "    ]\n",
    "}\n",
    "\n",
    "# Process and display streaming results\n",
    "for output in pipeline.stream(inputs):\n",
    "    if \"__end__\" not in output:\n",
    "        step = list(output.keys())[-1]\n",
    "        print(f\"\\n--- Step: {step} ---\")\n",
    "        \n",
    "        # Display agent messages\n",
    "        if step == \"supervisor\":\n",
    "            supervisor_output = output[step]\n",
    "            if \"next\" in supervisor_output:\n",
    "                print(f\"Supervisor decision: Next agent = {supervisor_output['next']}\")\n",
    "        elif step == \"content_agent\":\n",
    "            print(output[step][\"messages\"][-1].content)\n",
    "            if \"content_json\" in output[step]:\n",
    "                content_json = output[step][\"content_json\"]\n",
    "                print(f\"Generated content with {len(content_json.get('content_pages', []))} pages\")\n",
    "        elif step == \"image_agent\":\n",
    "            print(output[step][\"messages\"][-1].content)\n",
    "            if \"images\" in output[step]:\n",
    "                images = output[step][\"images\"]\n",
    "                print(f\"Generated {len(images)} images\")\n",
    "        elif step == \"notification_agent\":\n",
    "            print(output[step][\"messages\"][-1].content)\n",
    "            if \"notification_status\" in output[step]:\n",
    "                print(f\"Notification status: {output[step]['notification_status']}\")\n",
    "\n",
    "print(\"\\nPipeline execution completed.\")"
   ]
  },
  {
   "cell_type": "markdown",
   "metadata": {},
   "source": [
    "### 3.3 Display the Final Results\n",
    "\n",
    "After the pipeline has completed, we can display the generated images:"
   ]
  },
  {
   "cell_type": "code",
   "execution_count": null,
   "metadata": {},
   "outputs": [],
   "source": [
    "# Import glob to find the generated images\n",
    "import glob\n",
    "\n",
    "# Find the PNG files in the output directory\n",
    "png_files = sorted(glob.glob(str(output_dir / \"*.png\")))\n",
    "\n",
    "if png_files:\n",
    "    print(f\"Found {len(png_files)} images:\")\n",
    "    for img_path in png_files:\n",
    "        print(f\"\\nImage: {os.path.basename(img_path)}\")\n",
    "        display(Image(img_path))\n",
    "else:\n",
    "    print(\"No images found in the output directory.\")"
   ]
  },
  {
   "cell_type": "markdown",
   "metadata": {},
   "source": [
    "## 4. Full Pipeline in One Go\n",
    "\n",
    "You can also run the entire pipeline in one go using the `run_pipeline()` method:"
   ]
  },
  {
   "cell_type": "code",
   "execution_count": null,
   "metadata": {},
   "outputs": [],
   "source": [
    "# # Create a new output directory for this run\n",
    "# import datetime\n",
    "# # We only need to specify a base directory now\n",
    "# # DateTime subdirectories will be created automatically\n",
    "# new_output_dir = Path(f\"notebook_output_run\")\n",
    "# new_output_dir.mkdir(exist_ok=True)\n",
    "\n",
    "# # Create a new agent instance\n",
    "# new_agent = InstagramAgent(\n",
    "#     llm=llm,\n",
    "#     output_dir=new_output_dir,\n",
    "#     email_user=os.environ.get(\"EMAIL_USER\"),\n",
    "#     email_password=os.environ.get(\"EMAIL_PASSWORD\")\n",
    "# )\n",
    "\n",
    "# # Run the complete pipeline\n",
    "# request = \"Generate a carousel post about AI-powered data visualization techniques\"\n",
    "# recipient_email = \"your.email@example.com\"  # Replace with your email if needed\n",
    "\n",
    "# # Run with or without notification based on credentials\n",
    "# if os.environ.get(\"EMAIL_USER\") and os.environ.get(\"EMAIL_PASSWORD\"):\n",
    "#     results = new_agent.run_pipeline(request, recipient_email=recipient_email)\n",
    "# else:\n",
    "#     results = new_agent.run_pipeline(request)\n",
    "\n",
    "# # Display results summary\n",
    "# print(\"Pipeline execution completed.\")\n",
    "# print(f\"Output directory: {results['output_dir']}\")\n",
    "# print(f\"Content pages: {len(results['content']['content_pages'])}\")\n",
    "# print(f\"Images generated: {len(results['images'])}\")\n",
    "# if 'notification' in results:\n",
    "#     print(f\"Notification sent: {results['notification']['sent']}\")"
   ]
  },
  {
   "cell_type": "markdown",
   "metadata": {},
   "source": [
    "### 4.1 Display the Results from the Full Pipeline Run"
   ]
  },
  {
   "cell_type": "code",
   "execution_count": null,
   "metadata": {},
   "outputs": [],
   "source": [
    "# # Display the images from the full pipeline run\n",
    "# for img in results['images']:\n",
    "#     print(f\"\\n{img['type'].capitalize()}{' ' + str(img['page_number']) if 'page_number' in img else ''}:\")\n",
    "#     display(Image(img['path']))"
   ]
  },
  {
   "cell_type": "markdown",
   "metadata": {},
   "source": [
    "## 5. New Features\n",
    "\n",
    "The `ig_agent` library includes several key features that improve its functionality:\n",
    "\n",
    "1. **Content Line Breaks**: Content text is now broken into lines with approximately 18 words per line, making the text more readable on Instagram carousel posts.\n",
    "\n",
    "2. **DateTime-based Output Directories**: Output files are now organized in a hierarchical directory structure:\n",
    "   - Base directory (e.g., \"notebook_output\")\n",
    "   - Date subfolder (e.g., \"2025-04-20\")\n",
    "   - Timestamp subfolder (e.g., \"20250420_154900\")\n",
    "\n",
    "This organization makes it easier to track and manage multiple content generation runs and preserves a history of generated content."
   ]
  },
  {
   "cell_type": "markdown",
   "metadata": {},
   "source": [
    "## 6. Summary\n",
    "\n",
    "The `ig_agent` library provides a powerful multi-agent system for generating Instagram carousel posts. You can use it in several ways:\n",
    "\n",
    "1. **Direct API**: Use the individual methods for fine-grained control over each step\n",
    "2. **LangGraph Pipeline**: Use the graph-based workflow with streaming results\n",
    "3. **One-step Pipeline**: Run the entire process in one go with `run_pipeline()`\n",
    "\n",
    "The system generates structured content, converts it to visually appealing images using SVG templates, and optionally sends notifications or posts to Instagram."
   ]
  }
 ],
 "metadata": {
  "kernelspec": {
   "display_name": ".venv",
   "language": "python",
   "name": "python3"
  },
  "language_info": {
   "codemirror_mode": {
    "name": "ipython",
    "version": 3
   },
   "file_extension": ".py",
   "mimetype": "text/x-python",
   "name": "python",
   "nbconvert_exporter": "python",
   "pygments_lexer": "ipython3",
   "version": "3.12.7"
  }
 },
 "nbformat": 4,
 "nbformat_minor": 4
}
