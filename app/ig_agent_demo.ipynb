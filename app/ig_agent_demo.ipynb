{
 "cells": [
  {
   "cell_type": "markdown",
   "metadata": {},
   "source": [
    "# Instagram Agent Demo\n",
    "\n",
    "This notebook demonstrates how to use the `ig_agent` library to generate Instagram carousel posts with AI."
   ]
  },
  {
   "cell_type": "markdown",
   "metadata": {},
   "source": [
    "## 1. Setup and Installation\n",
    "\n",
    "First, ensure you have all the necessary dependencies installed:"
   ]
  },
  {
   "cell_type": "code",
   "execution_count": 28,
   "metadata": {},
   "outputs": [],
   "source": [
    "# Install dependencies if needed\n",
    "!pip install -q langchain_xai cairosvg\n",
    "!pip install -q -e ."
   ]
  },
  {
   "cell_type": "markdown",
   "metadata": {},
   "source": [
    "## 2. Basic Usage - Direct API\n",
    "\n",
    "The simplest way to use the Instagram Agent is through its direct API, which provides methods for each step of the content generation and posting process."
   ]
  },
  {
   "cell_type": "code",
   "execution_count": 29,
   "metadata": {},
   "outputs": [],
   "source": [
    "import os\n",
    "import logging\n",
    "from pathlib import Path\n",
    "from IPython.display import Image, display, HTML\n",
    "from langchain_xai import ChatXAI\n",
    "from ig_agent import InstagramAgent\n",
    "\n",
    "# Set up logging\n",
    "logging.basicConfig(\n",
    "    level=logging.INFO,\n",
    "    format='%(asctime)s - %(name)s - %(levelname)s - %(message)s',\n",
    "    handlers=[logging.StreamHandler()]\n",
    ")\n",
    "logger = logging.getLogger(\"ig_agent_demo\")"
   ]
  },
  {
   "cell_type": "code",
   "execution_count": 30,
   "metadata": {},
   "outputs": [],
   "source": [
    "# Create base output directory \n",
    "# Now outputs will be stored in datetime subdirectories\n",
    "output_dir = Path(\"output\")\n",
    "output_dir.mkdir(exist_ok=True)\n",
    "\n",
    "# Initialize language model\n",
    "# You can use any LangChain compatible LLM here\n",
    "llm = ChatXAI(model=\"grok-3-mini-beta\")\n",
    "\n",
    "# Initialize the Instagram agent\n",
    "# Output will automatically be stored in a datetime-based directory structure\n",
    "# For example: output/2025-04-20/20250420_154900/\n",
    "agent = InstagramAgent(\n",
    "    llm=llm,\n",
    "    output_dir=output_dir,\n",
    "    # Optional: provide credentials for notification and posting\n",
    "    email_user=os.environ.get(\"EMAIL_USER\"),\n",
    "    email_password=os.environ.get(\"EMAIL_PASSWORD\"),\n",
    "    instagram_username=os.environ.get(\"INSTAGRAM_USERNAME\"),\n",
    "    instagram_password=os.environ.get(\"INSTAGRAM_PASSWORD\")\n",
    ")"
   ]
  },
  {
   "cell_type": "markdown",
   "metadata": {},
   "source": [
    "### 2.1 Generate Content\n",
    "\n",
    "First, we generate the content for our Instagram carousel post based on a request:"
   ]
  },
  {
   "cell_type": "code",
   "execution_count": 31,
   "metadata": {},
   "outputs": [
    {
     "data": {
      "text/plain": [
       "'2025-Apr-24'"
      ]
     },
     "execution_count": 31,
     "metadata": {},
     "output_type": "execute_result"
    }
   ],
   "source": [
    "from datetime import datetime\n",
    "today = datetime.now().strftime('%Y-%b-%d')\n",
    "today"
   ]
  },
  {
   "cell_type": "code",
   "execution_count": 32,
   "metadata": {},
   "outputs": [
    {
     "data": {
      "text/plain": [
       "{'date': {7: Timestamp('2025-04-22 14:27:28.514243'),\n",
       "  8: Timestamp('2025-04-22 14:29:39.661358'),\n",
       "  9: Timestamp('2025-04-23 13:05:53.769411'),\n",
       "  10: Timestamp('2025-04-23 13:08:00.155625'),\n",
       "  11: Timestamp('2025-04-23 13:10:19.583376'),\n",
       "  12: Timestamp('2025-04-23 13:21:04.506031'),\n",
       "  13: Timestamp('2025-04-23 13:21:46.053301'),\n",
       "  14: Timestamp('2025-04-23 13:26:41.557815'),\n",
       "  15: Timestamp('2025-04-23 13:37:50.518470'),\n",
       "  16: Timestamp('2025-04-23 13:42:42.135440')},\n",
       " 'signature': {7: '6ef8e6d08b0fcd765ed82616dd76a77b',\n",
       "  8: '039e106d1527c430387fd3280613406a',\n",
       "  9: 'ed10f862a395afd7033fe8a11c70bdde',\n",
       "  10: '7f86a2c7270e734f6fe978e0b5ebb09d',\n",
       "  11: '0a8f73a513cb6d33d993b57493ef4842',\n",
       "  12: '9f2522fe9cae5d7d8b52627c6fe8eb7b',\n",
       "  13: '7754adb143472cc3575c38e7cb4185ac',\n",
       "  14: '0cffbebe59d10941d845a45b740b220a',\n",
       "  15: '0f68a8dc0388f966e911500baab17cba',\n",
       "  16: '6ed94190af586fcf4b0e485b769fc1e6'},\n",
       " 'cover_heading': {7: 'Google AI大反擊！ o3與o4-mini測試曝光',\n",
       "  8: 'AI 2025 重大突破 Stanford 報告揭秘',\n",
       "  9: 'AI業界震撼 2025年4月突破',\n",
       "  10: 'Runway新視頻模型 AI生成革命',\n",
       "  11: 'LLM Mesh 革命 高效AI應用',\n",
       "  12: 'AI革命來臨 大語言模型新進展',\n",
       "  13: 'LLM Mesh揭秘 AI效率大躍進',\n",
       "  14: '機器學習入門指南 簡單易懂的基礎',\n",
       "  15: '線性回歸入門 預測數據的祕訣',\n",
       "  16: 'Python數據清理技巧 讓數據變得乾淨'},\n",
       " 'hashtag': {7: 'AI最新消息',\n",
       "  8: 'AIIndex2025',\n",
       "  9: 'AI最新動態',\n",
       "  10: 'RunwayVideoModel',\n",
       "  11: 'AIInnovation',\n",
       "  12: 'AI最新突破',\n",
       "  13: 'LLMMesh',\n",
       "  14: '機器學習',\n",
       "  15: '線性回歸',\n",
       "  16: 'DataScienceTips'},\n",
       " 'titles': {7: ['Google AI回擊是什麼？',\n",
       "   'o3與o4-mini模型測試',\n",
       "   '開源AI視頻工具亮相',\n",
       "   '對產業的影響',\n",
       "   '實際應用例子',\n",
       "   '未來展望',\n",
       "   '為什麼這很重要？'],\n",
       "  8: ['AI報告核心概述', 'AI趨勢與數據', '研究突破與應用', '全球競爭與挑戰', '未來展望與建議', '如何應用AI'],\n",
       "  9: ['AI行業新焦點',\n",
       "   'Google抗壟斷審判',\n",
       "   'SpaceX的AI應用',\n",
       "   'OpenAI的代理指南',\n",
       "   'AI趨勢與挑戰',\n",
       "   '未來展望',\n",
       "   '實用建議'],\n",
       "  10: ['什麼是Runway新模型？',\n",
       "   '為何對學習者有價值？',\n",
       "   '如何開始使用？',\n",
       "   '實際應用例子',\n",
       "   '未來趨勢預測',\n",
       "   '潛在挑戰與解決'],\n",
       "  11: ['什麼是LLM Mesh？', '為何它重要？', '實際應用例子', '學習LLM Mesh的技巧', '未來趨勢預測', '如何起步？'],\n",
       "  12: ['什麼是GPT-4o？', '生成式AI的突破', 'AI在醫療的應用', '趨勢與挑戰', '如何開始使用', '未來展望'],\n",
       "  13: ['LLM Mesh是什麼？', '為何它重要？', '實際應用例子', '如何開始使用？', '潛在好處', '未來展望', '小貼士'],\n",
       "  14: ['什麼是機器學習？', '主要類型介紹', '實際應用例子', '優點與挑戰', '如何開始學習？', '常見誤區避免', '未來展望'],\n",
       "  15: ['什麼是線性回歸？', '工作原理簡介', '實際應用例子', '優點與好處', '潛在挑戰', '如何實踐？', '學習小貼士'],\n",
       "  16: ['什麼是數據清理？', '處理缺失值', '移除重複資料', '轉換數據類型', '實戰小貼士', '常見錯誤避免']}}"
      ]
     },
     "execution_count": 32,
     "metadata": {},
     "output_type": "execute_result"
    }
   ],
   "source": [
    "import pandas as pd\n",
    "df = pd.read_json('data/content_history.json')\n",
    "latest_10rows_df =df.iloc[-10:]\n",
    "latest_10rows_df.to_dict()"
   ]
  },
  {
   "cell_type": "code",
   "execution_count": 33,
   "metadata": {},
   "outputs": [
    {
     "name": "stderr",
     "output_type": "stream",
     "text": [
      "2025-04-24 11:46:02,395 - ig_agent - INFO - Generating content for request: \n",
      "今日係 2025-Apr-24, 星期3.\n",
      "最近10近貼文：{'date': {7: Timestamp('2025-04-22 14:27:28.514243'), 8: Timestamp('2025-04-22 14:29:39.661358'), 9: Timestamp('2025-04-23 13:05:53.769411'), 10: Timestamp('2025-04-23 13:08:00.155625'), 11: Timestamp('2025-04-23 13:10:19.583376'), 12: Timestamp('2025-04-23 13:21:04.506031'), 13: Timestamp('2025-04-23 13:21:46.053301'), 14: Timestamp('2025-04-23 13:26:41.557815'), 15: Timestamp('2025-04-23 13:37:50.518470'), 16: Timestamp('2025-04-23 13:42:42.135440')}, 'signature': {7: '6ef8e6d08b0fcd765ed82616dd76a77b', 8: '039e106d1527c430387fd3280613406a', 9: 'ed10f862a395afd7033fe8a11c70bdde', 10: '7f86a2c7270e734f6fe978e0b5ebb09d', 11: '0a8f73a513cb6d33d993b57493ef4842', 12: '9f2522fe9cae5d7d8b52627c6fe8eb7b', 13: '7754adb143472cc3575c38e7cb4185ac', 14: '0cffbebe59d10941d845a45b740b220a', 15: '0f68a8dc0388f966e911500baab17cba', 16: '6ed94190af586fcf4b0e485b769fc1e6'}, 'cover_heading': {7: 'Google AI大反擊！ o3與o4-mini測試曝光', 8: 'AI 2025 重大突破 Stanford 報告揭秘', 9: 'AI業界震撼 2025年4月突破', 10: 'Runway新視頻模型 AI生成革命', 11: 'LLM Mesh 革命 高效AI應用', 12: 'AI革命來臨 大語言模型新進展', 13: 'LLM Mesh揭秘 AI效率大躍進', 14: '機器學習入門指南 簡單易懂的基礎', 15: '線性回歸入門 預測數據的祕訣', 16: 'Python數據清理技巧 讓數據變得乾淨'}, 'hashtag': {7: 'AI最新消息', 8: 'AIIndex2025', 9: 'AI最新動態', 10: 'RunwayVideoModel', 11: 'AIInnovation', 12: 'AI最新突破', 13: 'LLMMesh', 14: '機器學習', 15: '線性回歸', 16: 'DataScienceTips'}, 'titles': {7: ['Google AI回擊是什麼？', 'o3與o4-mini模型測試', '開源AI視頻工具亮相', '對產業的影響', '實際應用例子', '未來展望', '為什麼這很重要？'], 8: ['AI報告核心概述', 'AI趨勢與數據', '研究突破與應用', '全球競爭與挑戰', '未來展望與建議', '如何應用AI'], 9: ['AI行業新焦點', 'Google抗壟斷審判', 'SpaceX的AI應用', 'OpenAI的代理指南', 'AI趨勢與挑戰', '未來展望', '實用建議'], 10: ['什麼是Runway新模型？', '為何對學習者有價值？', '如何開始使用？', '實際應用例子', '未來趨勢預測', '潛在挑戰與解決'], 11: ['什麼是LLM Mesh？', '為何它重要？', '實際應用例子', '學習LLM Mesh的技巧', '未來趨勢預測', '如何起步？'], 12: ['什麼是GPT-4o？', '生成式AI的突破', 'AI在醫療的應用', '趨勢與挑戰', '如何開始使用', '未來展望'], 13: ['LLM Mesh是什麼？', '為何它重要？', '實際應用例子', '如何開始使用？', '潛在好處', '未來展望', '小貼士'], 14: ['什麼是機器學習？', '主要類型介紹', '實際應用例子', '優點與挑戰', '如何開始學習？', '常見誤區避免', '未來展望'], 15: ['什麼是線性回歸？', '工作原理簡介', '實際應用例子', '優點與好處', '潛在挑戰', '如何實踐？', '學習小貼士'], 16: ['什麼是數據清理？', '處理缺失值', '移除重複資料', '轉換數據類型', '實戰小貼士', '常見錯誤避免']}}\n",
      "不要重覆內容。\n",
      "選取以下一內容製作今日的貼文，你可選擇是否再上網搜尋資料。不要用中國字，用香港字、繁體中文撰寫。\n",
      "| **內容類型**         | **具體題材**                                                                 | **預期效果**                                                                 |\n",
      "|----------------------|------------------------------------------------------------------------------|------------------------------------------------------------------------------|\n",
      "| **教育性貼文**       | - 解釋AI基本概念（如機器學習、深度學習、自然語言處理）<br>- 數據科學工具介紹（如Python、R、Tableau）<br>- 簡單算法原理（e.g., 線性回歸、決策樹） | 吸引初學者，提供入門知識，增加帳號專業性。                                   |\n",
      "| **實用技巧分享**     | - Python/R程式碼片段（e.g., 數據清理、視覺化）<br>- Jupyter Notebook使用技巧<br>- 免費學習資源推薦（課程、書籍、YouTube頻道） | 提供實用價值，吸引技術愛好者，提升互動率。                                   |\n",
      "| **案例分析**         | - AI應用案例（e.g., 醫療影像診斷、推薦系統）<br>- 數據科學項目實例（e.g., 銷售預測）<br>- 失敗案例分析（e.g., 模型過擬合問題） | 展示AI/數據科學的實際應用，激發靈感，吸引專業人士。                           |\n",
      "| **趨勢與新聞**       | - 最新AI技術進展（e.g., 大語言模型、生成式AI）<br>- 數據科學行業趨勢（e.g., 自動化數據分析）<br>- 倫理問題討論（e.g., AI偏見） | 保持內容新鮮，吸引關注行業動態的受眾。                                       |\n",
      "| **互動內容**         | - 問答貼文（e.g., “你用哪個數據科學工具？”）<br>- 投票（e.g., “Python vs R，哪個更好？”）<br>- 挑戰（e.g., 7天學會Pandas） | 提高粉絲參與度，建立社群感。                                               |\n",
      "| **幕後花絮**         | - 數據科學家/工程師一天的工作分享<br>- 項目開發過程（e.g., 從數據收集到模型部署）<br>- 學習路徑分享（e.g., 自學數據科學的經驗） | 增加人性化元素，拉近與受眾的距離。                                           |\n",
      "| **迷因與輕鬆內容**   | - AI/數據科學相關迷因（e.g., “當模型訓練了10小時還是沒收斂”）<br>- 程式員幽默（e.g., debug的痛苦）<br>- 數據科學家日常趣事 | 增加趣味性，吸引年輕受眾，提高轉發率。                                       |\n",
      "| **面試內容**   | - AI/數據科學相關職位的面試內容，以FAANG公司為主。 | 增加趣味性，吸引年輕受眾，提高轉發率。                                       |\n",
      "\n",
      "\n",
      "2025-04-24 11:46:19,763 - httpx - INFO - HTTP Request: POST https://api.x.ai/v1/chat/completions \"HTTP/1.1 200 OK\"\n",
      "2025-04-24 11:46:34,320 - httpx - INFO - HTTP Request: POST https://api.x.ai/v1/chat/completions \"HTTP/1.1 200 OK\"\n",
      "2025-04-24 11:46:34,360 - ig_agent.content_agent - INFO - Generated unique content on attempt 1\n"
     ]
    }
   ],
   "source": [
    "# Generate content\n",
    "request = f\"\"\"\n",
    "今日係 {today}, 星期{datetime.now().weekday()}.\n",
    "最近10近貼文：{\n",
    "    latest_10rows_df.to_dict()\n",
    "}\n",
    "不要重覆內容。\n",
    "選取以下一內容製作今日的貼文，你可選擇是否再上網搜尋資料。不要用中國字，用香港字、繁體中文撰寫。\n",
    "| **內容類型**         | **具體題材**                                                                 | **預期效果**                                                                 |\n",
    "|----------------------|------------------------------------------------------------------------------|------------------------------------------------------------------------------|\n",
    "| **教育性貼文**       | - 解釋AI基本概念（如機器學習、深度學習、自然語言處理）<br>- 數據科學工具介紹（如Python、R、Tableau）<br>- 簡單算法原理（e.g., 線性回歸、決策樹） | 吸引初學者，提供入門知識，增加帳號專業性。                                   |\n",
    "| **實用技巧分享**     | - Python/R程式碼片段（e.g., 數據清理、視覺化）<br>- Jupyter Notebook使用技巧<br>- 免費學習資源推薦（課程、書籍、YouTube頻道） | 提供實用價值，吸引技術愛好者，提升互動率。                                   |\n",
    "| **案例分析**         | - AI應用案例（e.g., 醫療影像診斷、推薦系統）<br>- 數據科學項目實例（e.g., 銷售預測）<br>- 失敗案例分析（e.g., 模型過擬合問題） | 展示AI/數據科學的實際應用，激發靈感，吸引專業人士。                           |\n",
    "| **趨勢與新聞**       | - 最新AI技術進展（e.g., 大語言模型、生成式AI）<br>- 數據科學行業趨勢（e.g., 自動化數據分析）<br>- 倫理問題討論（e.g., AI偏見） | 保持內容新鮮，吸引關注行業動態的受眾。                                       |\n",
    "| **互動內容**         | - 問答貼文（e.g., “你用哪個數據科學工具？”）<br>- 投票（e.g., “Python vs R，哪個更好？”）<br>- 挑戰（e.g., 7天學會Pandas） | 提高粉絲參與度，建立社群感。                                               |\n",
    "| **幕後花絮**         | - 數據科學家/工程師一天的工作分享<br>- 項目開發過程（e.g., 從數據收集到模型部署）<br>- 學習路徑分享（e.g., 自學數據科學的經驗） | 增加人性化元素，拉近與受眾的距離。                                           |\n",
    "| **迷因與輕鬆內容**   | - AI/數據科學相關迷因（e.g., “當模型訓練了10小時還是沒收斂”）<br>- 程式員幽默（e.g., debug的痛苦）<br>- 數據科學家日常趣事 | 增加趣味性，吸引年輕受眾，提高轉發率。                                       |\n",
    "| **面試內容**   | - AI/數據科學相關職位的面試內容，以FAANG公司為主。 | 增加趣味性，吸引年輕受眾，提高轉發率。                                       |\n",
    "\n",
    "\"\"\"\n",
    "content_json = agent.generate_content(request)\n"
   ]
  },
  {
   "cell_type": "code",
   "execution_count": 34,
   "metadata": {},
   "outputs": [
    {
     "name": "stdout",
     "output_type": "stream",
     "text": [
      "Cover: FAANG面試必備 數據科學祕訣揭曉\n",
      "Hashtag: #DataScienceInterview\n",
      "Number of content pages: 6\n",
      "\n",
      "Content Pages:\n",
      "  Page 1: 什麼是FAANG面試重點？ - FAANG公司如Google、Meta重視SQL、統計和ML問題。這些考驗你的數據處理和分析能力，能幫助你在面試中展現專業。\n",
      "  Page 2: SQL查詢常見題 - 常見如JOIN操作或聚合函數。舉例：用SQL找出重複客戶數據，這能提升數據清理效率，應用在真實業務分析中。\n",
      "  Page 3: 統計知識陷阱 - 面試常問p值或假設檢定。避免誤解p值代表結果大小，學習後能正確解讀數據，減少模型錯誤。\n",
      "  Page 4: 機器學習算法挑戰 - 如決策樹的過擬合問題。解決方法：用交叉驗證調參，讓模型更泛化，提升工作中的預測準確性。\n",
      "  Page 5: 面試準備小貼士 - 練習LeetCode題目，模擬面試。這些技巧能讓你更快適應壓力，增加求職成功率。\n",
      "  Page 6: 為何這很重要？ - 掌握這些基礎，能讓你在FAANG脫穎而出，從入門到實戰，助你職場進階。\n",
      "\n",
      "Caption Preview:\n",
      "你準備好征服FAANG數據科學面試了嗎？🤔 這套貼文將帶你深入了解常見問題，從SQL查詢到機器學習陷阱，讓你快速掌握實用技巧，提升求職競爭力！無論你是新手還是資深玩家，這裡有即戰力知識，讓你避開常見錯誤，贏得Offer。滑到最後，獲得面試小貼士吧！💼\n",
      "\n",
      "首先，我們從基礎出發，解釋面試常見題型，並提供實際範例，讓你輕鬆應用。學完後，你能自信面對挑戰！😎\n",
      "\n",
      "#DataScience #FAANGInt...\n"
     ]
    }
   ],
   "source": [
    "# Display the generated content structure\n",
    "print(f\"Cover: {content_json['cover']['heading_line1']} {content_json['cover']['heading_line2']}\")\n",
    "print(f\"Hashtag: #{content_json['cover']['hashtag']}\")\n",
    "print(f\"Number of content pages: {len(content_json['content_pages'])}\")\n",
    "print(\"\\nContent Pages:\")\n",
    "for i, page in enumerate(content_json['content_pages']):\n",
    "    print(f\"  Page {i+1}: {page['title']} - {page['main_point']}\")\n",
    "\n",
    "print(\"\\nCaption Preview:\")\n",
    "print(content_json['caption'][:200] + \"...\")"
   ]
  },
  {
   "cell_type": "markdown",
   "metadata": {},
   "source": [
    "### 2.2 Generate Images\n",
    "\n",
    "Next, we generate the images for our carousel post based on the content:"
   ]
  },
  {
   "cell_type": "code",
   "execution_count": 35,
   "metadata": {},
   "outputs": [],
   "source": [
    "import os\n",
    "os.environ['DYLD_LIBRARY_PATH'] = '/opt/homebrew/lib:' + os.environ.get('DYLD_LIBRARY_PATH', '')"
   ]
  },
  {
   "cell_type": "code",
   "execution_count": 36,
   "metadata": {},
   "outputs": [
    {
     "name": "stderr",
     "output_type": "stream",
     "text": [
      "2025-04-24 11:46:34,399 - ig_agent - INFO - Generating images from content\n",
      "2025-04-24 11:46:34,404 - ig_agent.template_processor - WARNING - PyCairo is not available, falling back to other methods\n",
      "2025-04-24 11:46:34,405 - ig_agent.template_processor - INFO - CairoSVG version: 2.7.1\n",
      "2025-04-24 11:46:34,409 - ig_agent.template_processor - INFO - Attempting SVG conversion with rsvg-convert for cover...\n",
      "2025-04-24 11:46:35,040 - ig_agent.template_processor - INFO - Successfully converted SVG to PNG using rsvg-convert\n",
      "2025-04-24 11:46:35,040 - ig_agent.template_processor - INFO - Generated cover image: output/2025-04-24/20250424_114602/cover.png\n",
      "2025-04-24 11:46:35,042 - ig_agent.template_processor - INFO - Attempting SVG conversion with rsvg-convert for content page 1...\n",
      "2025-04-24 11:46:35,227 - ig_agent.template_processor - INFO - Successfully converted SVG to PNG using rsvg-convert\n",
      "2025-04-24 11:46:35,228 - ig_agent.template_processor - INFO - Generated content image 1: output/2025-04-24/20250424_114602/content_01.png\n",
      "2025-04-24 11:46:35,230 - ig_agent.template_processor - INFO - Attempting SVG conversion with rsvg-convert for content page 2...\n",
      "2025-04-24 11:46:35,363 - ig_agent.template_processor - INFO - Successfully converted SVG to PNG using rsvg-convert\n",
      "2025-04-24 11:46:35,365 - ig_agent.template_processor - INFO - Generated content image 2: output/2025-04-24/20250424_114602/content_02.png\n",
      "2025-04-24 11:46:35,366 - ig_agent.template_processor - INFO - Attempting SVG conversion with rsvg-convert for content page 3...\n",
      "2025-04-24 11:46:35,554 - ig_agent.template_processor - INFO - Successfully converted SVG to PNG using rsvg-convert\n",
      "2025-04-24 11:46:35,555 - ig_agent.template_processor - INFO - Generated content image 3: output/2025-04-24/20250424_114602/content_03.png\n",
      "2025-04-24 11:46:35,556 - ig_agent.template_processor - INFO - Attempting SVG conversion with rsvg-convert for content page 4...\n",
      "2025-04-24 11:46:35,746 - ig_agent.template_processor - INFO - Successfully converted SVG to PNG using rsvg-convert\n",
      "2025-04-24 11:46:35,748 - ig_agent.template_processor - INFO - Generated content image 4: output/2025-04-24/20250424_114602/content_04.png\n",
      "2025-04-24 11:46:35,749 - ig_agent.template_processor - INFO - Attempting SVG conversion with rsvg-convert for content page 5...\n",
      "2025-04-24 11:46:35,934 - ig_agent.template_processor - INFO - Successfully converted SVG to PNG using rsvg-convert\n",
      "2025-04-24 11:46:35,935 - ig_agent.template_processor - INFO - Generated content image 5: output/2025-04-24/20250424_114602/content_05.png\n",
      "2025-04-24 11:46:35,936 - ig_agent.template_processor - INFO - Attempting SVG conversion with rsvg-convert for content page 6...\n",
      "2025-04-24 11:46:36,120 - ig_agent.template_processor - INFO - Successfully converted SVG to PNG using rsvg-convert\n",
      "2025-04-24 11:46:36,121 - ig_agent.template_processor - INFO - Generated content image 6: output/2025-04-24/20250424_114602/content_06.png\n",
      "2025-04-24 11:46:36,121 - ig_agent.image_agent - INFO - Generated 7 images\n"
     ]
    },
    {
     "name": "stdout",
     "output_type": "stream",
     "text": [
      "Generated 7 images:\n",
      "  Cover: cover.png\n",
      "  Content 1: content_01.png\n",
      "  Content 2: content_02.png\n",
      "  Content 3: content_03.png\n",
      "  Content 4: content_04.png\n",
      "  Content 5: content_05.png\n",
      "  Content 6: content_06.png\n"
     ]
    }
   ],
   "source": [
    "# Generate images\n",
    "images = agent.generate_images(content_json)\n",
    "\n",
    "# Display summary\n",
    "print(f\"Generated {len(images)} images:\")\n",
    "for img in images:\n",
    "    print(f\"  {img['type'].capitalize()}{' ' + str(img['page_number']) if 'page_number' in img else ''}: {img['file_name']}\")"
   ]
  },
  {
   "cell_type": "markdown",
   "metadata": {},
   "source": [
    "### 2.3 Display Generated Images\n",
    "\n",
    "Now, let's visualize the images that were generated:"
   ]
  },
  {
   "cell_type": "code",
   "execution_count": 37,
   "metadata": {},
   "outputs": [],
   "source": [
    "# # Display cover image\n",
    "# cover_image = next(img for img in images if img['type'] == 'cover')\n",
    "# print(\"Cover Image:\")\n",
    "# display(Image(cover_image['path']))"
   ]
  },
  {
   "cell_type": "code",
   "execution_count": 38,
   "metadata": {},
   "outputs": [],
   "source": [
    "# # Display cover image\n",
    "# cover_image = next(img for img in images if img['type'] != 'cover')\n",
    "# print(\"Cover Image:\")\n",
    "# display(Image(cover_image['path']))"
   ]
  },
  {
   "cell_type": "markdown",
   "metadata": {},
   "source": [
    "### 2.4 Send Notification (Optional)\n",
    "\n",
    "If you've provided email credentials, you can send a notification with the generated content:"
   ]
  },
  {
   "cell_type": "code",
   "execution_count": 39,
   "metadata": {},
   "outputs": [
    {
     "name": "stdout",
     "output_type": "stream",
     "text": [
      "Email credentials not available, skipping notification\n"
     ]
    }
   ],
   "source": [
    "# Send notification if credentials are available\n",
    "if os.environ.get(\"EMAIL_USER\") and os.environ.get(\"EMAIL_PASSWORD\"):\n",
    "    recipient_email = \"your.email@example.com\"  # Replace with your email\n",
    "    notification_status = agent.send_notification(recipient_email)\n",
    "    print(f\"Notification sent: {notification_status['sent']}\")\n",
    "    if notification_status['sent']:\n",
    "        print(f\"Email sent to: {notification_status['recipient']}\")\n",
    "        print(f\"Subject: {notification_status['subject']}\")\n",
    "else:\n",
    "    print(\"Email credentials not available, skipping notification\")"
   ]
  },
  {
   "cell_type": "markdown",
   "metadata": {},
   "source": [
    "### 2.5 Post to Instagram (Optional)\n",
    "\n",
    "If you've provided Instagram credentials, you can post the content to Instagram:"
   ]
  },
  {
   "cell_type": "code",
   "execution_count": 40,
   "metadata": {},
   "outputs": [
    {
     "name": "stderr",
     "output_type": "stream",
     "text": [
      "2025-04-24 11:46:36,142 - ig_agent - INFO - Posting to Instagram\n",
      "2025-04-24 11:46:36,164 - ig_agent.instagram_poster - INFO - Converted output/2025-04-24/20250424_114602/cover.png to output/2025-04-24/20250424_114602/cover.jpg\n",
      "2025-04-24 11:46:36,173 - ig_agent.instagram_poster - INFO - Converted output/2025-04-24/20250424_114602/content_01.png to output/2025-04-24/20250424_114602/content_01.jpg\n",
      "2025-04-24 11:46:36,181 - ig_agent.instagram_poster - INFO - Converted output/2025-04-24/20250424_114602/content_02.png to output/2025-04-24/20250424_114602/content_02.jpg\n",
      "2025-04-24 11:46:36,188 - ig_agent.instagram_poster - INFO - Converted output/2025-04-24/20250424_114602/content_03.png to output/2025-04-24/20250424_114602/content_03.jpg\n",
      "2025-04-24 11:46:36,195 - ig_agent.instagram_poster - INFO - Converted output/2025-04-24/20250424_114602/content_04.png to output/2025-04-24/20250424_114602/content_04.jpg\n",
      "2025-04-24 11:46:36,203 - ig_agent.instagram_poster - INFO - Converted output/2025-04-24/20250424_114602/content_05.png to output/2025-04-24/20250424_114602/content_05.jpg\n",
      "2025-04-24 11:46:36,210 - ig_agent.instagram_poster - INFO - Converted output/2025-04-24/20250424_114602/content_06.png to output/2025-04-24/20250424_114602/content_06.jpg\n",
      "2025-04-24 11:46:36,211 - ig_agent.instagram_poster - INFO - Found cover image: cover.jpg\n",
      "2025-04-24 11:46:36,213 - ig_agent.instagram_poster - INFO - Images ordered for posting: ['cover.jpg', 'content_01.jpg', 'content_02.jpg', 'content_03.jpg', 'content_04.jpg', 'content_05.jpg', 'content_06.jpg']\n",
      "2025-04-24 11:46:36,223 - instagrapi - INFO - https://i.instagram.com/api/v1/launcher/sync/\n",
      "2025-04-24 11:46:37,294 - private_request - INFO - datasci_daily [200] POST https://i.instagram.com/api/v1/launcher/sync/ (269.0.0.18.75, OnePlus 6T Dev)\n",
      "2025-04-24 11:46:38,152 - instagrapi - INFO - https://i.instagram.com/api/v1/accounts/login/\n",
      "2025-04-24 11:46:45,170 - private_request - INFO - datasci_daily [400] POST https://i.instagram.com/api/v1/accounts/login/ (269.0.0.18.75, OnePlus 6T Dev)\n",
      "2025-04-24 11:46:46,183 - instagrapi - INFO - https://i.instagram.com/api/v1/challenge/ASjEmPmSNz5BwQCs4IZGHnplV_wDhDYvn0wZK0uli2OfKeiNdQVXPnL7tpBDJ676POisvDI/ASRC24NGTvIfbq2cvDokqkmAcEVsMKBlq7WVITdoVHvcAmZT20S0XQIv1lkhqkBM7BEaBzX3v87O8A/\n",
      "2025-04-24 11:46:47,684 - private_request - INFO - datasci_daily [200] GET https://i.instagram.com/api/v1/challenge/ASjEmPmSNz5BwQCs4IZGHnplV_wDhDYvn0wZK0uli2OfKeiNdQVXPnL7tpBDJ676POisvDI/ASRC24NGTvIfbq2cvDokqkmAcEVsMKBlq7WVITdoVHvcAmZT20S0XQIv1lkhqkBM7BEaBzX3v87O8A/?guid=ac7ff412-c5ae-4287-b488-e692a2d0a524&device_id=android-7471a438a3d25574&challenge_context=Af6t5PcThmuog3G3azbRJaqPF7lt4CW5hRbsk_tZocTo2GkYC_Duu3rS1bqwGgn-Kh3-F7HNme3x5PqSv-W3za3SpCqx__QViGE_cvTSgQJLSle_XcQdcDLZIxLfIc6rKzwWiSUDYO1fP_k0hgTHNXCeKZvcUKWOhnV300N99DX2dAkXlz0FxMRO_wbwsUImblLLVqfqEnaiJxWkCTRPb-4HzosVjcLd3orGSJ-zIxrcRHcGb9KB3D0nJPcwqpf3QCItcaXKuihvAOxmbGCvRoZvqN66SP-qCEHOfGMZMaL6GOkwvkc3XRP9aH4MdzIaTZK1XTw1TEbaDysUXrV5b927yrI4LqZNZIJeJIcl2G-hPBlQsE-Snv6cP-1SymB7Qx5ortqY4mBgGYX9Uw4n16xvpomHyC6KRZ5CsafvZMk9mDYWaDIiyUf4WKh6NNnCWN9mWEOWYxXQouIPUQp324nnjg8-r2YR-enjtcqJrixA4exldGJTH70JgA93a1WDyhjJCPJJ6K5CyAaWc157NTi5NiS3CjwHvKpJsWpU0kKLHuzZhPL9ZiTRg4K5zaiERmb4A76PZq03Uy8_Tv8 (269.0.0.18.75, OnePlus 6T Dev)\n",
      "2025-04-24 11:46:48,691 - instagrapi - INFO - https://i.instagram.com/api/v1/challenge/ASjEmPmSNz5BwQCs4IZGHnplV_wDhDYvn0wZK0uli2OfKeiNdQVXPnL7tpBDJ676POisvDI/ASRC24NGTvIfbq2cvDokqkmAcEVsMKBlq7WVITdoVHvcAmZT20S0XQIv1lkhqkBM7BEaBzX3v87O8A/\n",
      "2025-04-24 11:46:50,174 - private_request - INFO - datasci_daily [200] POST https://i.instagram.com/api/v1/challenge/ASjEmPmSNz5BwQCs4IZGHnplV_wDhDYvn0wZK0uli2OfKeiNdQVXPnL7tpBDJ676POisvDI/ASRC24NGTvIfbq2cvDokqkmAcEVsMKBlq7WVITdoVHvcAmZT20S0XQIv1lkhqkBM7BEaBzX3v87O8A/ (269.0.0.18.75, OnePlus 6T Dev)\n"
     ]
    },
    {
     "name": "stdout",
     "output_type": "stream",
     "text": [
      "Code entered \"142211\" for datasci_daily (0 attempts by 5 seconds)\n"
     ]
    },
    {
     "name": "stderr",
     "output_type": "stream",
     "text": [
      "2025-04-24 11:47:14,174 - instagrapi - INFO - https://i.instagram.com/api/v1/challenge/ASjEmPmSNz5BwQCs4IZGHnplV_wDhDYvn0wZK0uli2OfKeiNdQVXPnL7tpBDJ676POisvDI/ASRC24NGTvIfbq2cvDokqkmAcEVsMKBlq7WVITdoVHvcAmZT20S0XQIv1lkhqkBM7BEaBzX3v87O8A/\n",
      "2025-04-24 11:47:26,576 - private_request - INFO - datasci_daily [200] POST https://i.instagram.com/api/v1/challenge/ASjEmPmSNz5BwQCs4IZGHnplV_wDhDYvn0wZK0uli2OfKeiNdQVXPnL7tpBDJ676POisvDI/ASRC24NGTvIfbq2cvDokqkmAcEVsMKBlq7WVITdoVHvcAmZT20S0XQIv1lkhqkBM7BEaBzX3v87O8A/ (269.0.0.18.75, OnePlus 6T Dev)\n",
      "2025-04-24 11:47:26,582 - instagrapi - INFO - https://i.instagram.com/api/v1/accounts/login/\n",
      "2025-04-24 11:47:28,947 - private_request - INFO - datasci_daily [200] POST https://i.instagram.com/api/v1/accounts/login/ (269.0.0.18.75, OnePlus 6T Dev)\n",
      "2025-04-24 11:47:29,950 - instagrapi - INFO - https://i.instagram.com/api/v1/feed/reels_tray/\n",
      "2025-04-24 11:47:30,515 - private_request - INFO - datasci_daily [200] POST https://i.instagram.com/api/v1/feed/reels_tray/ (269.0.0.18.75, OnePlus 6T Dev)\n",
      "2025-04-24 11:47:31,522 - instagrapi - INFO - https://i.instagram.com/api/v1/feed/timeline/\n",
      "2025-04-24 11:47:34,334 - private_request - INFO - datasci_daily [200] POST https://i.instagram.com/api/v1/feed/timeline/ (269.0.0.18.75, OnePlus 6T Dev)\n",
      "2025-04-24 11:47:35,956 - private_request - INFO - datasci_daily [200] POST https://i.instagram.com/rupload_igphoto/1745466454337_0_5122527136 (269.0.0.18.75, OnePlus 6T Dev)\n",
      "2025-04-24 11:47:37,405 - private_request - INFO - datasci_daily [200] POST https://i.instagram.com/rupload_igphoto/1745466455958_0_6318042325 (269.0.0.18.75, OnePlus 6T Dev)\n",
      "2025-04-24 11:47:38,557 - private_request - INFO - datasci_daily [200] POST https://i.instagram.com/rupload_igphoto/1745466457411_0_3415910269 (269.0.0.18.75, OnePlus 6T Dev)\n",
      "2025-04-24 11:47:39,468 - private_request - INFO - datasci_daily [200] POST https://i.instagram.com/rupload_igphoto/1745466458559_0_5716305206 (269.0.0.18.75, OnePlus 6T Dev)\n",
      "2025-04-24 11:47:40,870 - private_request - INFO - datasci_daily [200] POST https://i.instagram.com/rupload_igphoto/1745466459469_0_1426423690 (269.0.0.18.75, OnePlus 6T Dev)\n",
      "2025-04-24 11:47:42,158 - private_request - INFO - datasci_daily [200] POST https://i.instagram.com/rupload_igphoto/1745466460874_0_2791551145 (269.0.0.18.75, OnePlus 6T Dev)\n",
      "2025-04-24 11:47:43,339 - private_request - INFO - datasci_daily [200] POST https://i.instagram.com/rupload_igphoto/1745466462160_0_7187096239 (269.0.0.18.75, OnePlus 6T Dev)\n",
      "2025-04-24 11:47:47,352 - instagrapi - INFO - https://i.instagram.com/api/v1/media/configure_sidecar/\n",
      "2025-04-24 11:47:54,022 - private_request - INFO - datasci_daily [200] POST https://i.instagram.com/api/v1/media/configure_sidecar/ (269.0.0.18.75, OnePlus 6T Dev)\n",
      "2025-04-24 11:47:55,031 - instagrapi - INFO - https://i.instagram.com/api/v1/qe/expose/\n",
      "2025-04-24 11:47:55,364 - private_request - INFO - datasci_daily [200] POST https://i.instagram.com/api/v1/qe/expose/ (269.0.0.18.75, OnePlus 6T Dev)\n",
      "2025-04-24 11:47:55,382 - ig_agent.instagram_poster - INFO - Posted carousel to Instagram: 3617557395883162711\n"
     ]
    },
    {
     "name": "stdout",
     "output_type": "stream",
     "text": [
      "Posted to Instagram: True\n",
      "Post URL: https://www.instagram.com/p/DI0JUjwM_xX/\n",
      "Post type: carousel\n"
     ]
    }
   ],
   "source": [
    "# Post to Instagram if credentials are available\n",
    "if os.environ.get(\"INSTAGRAM_USERNAME\") and os.environ.get(\"INSTAGRAM_PASSWORD\"):\n",
    "    try:\n",
    "        # Try with explicit error handling\n",
    "        instagram_status = agent.post_to_instagram()\n",
    "        print(f\"Posted to Instagram: {instagram_status['posted']}\")\n",
    "        \n",
    "        if instagram_status['posted']:\n",
    "            print(f\"Post URL: {instagram_status.get('url', 'N/A')}\")\n",
    "            print(f\"Post type: {instagram_status.get('type', 'N/A')}\")\n",
    "        else:\n",
    "            print(f\"Posting failed: {instagram_status.get('error', 'Unknown error')}\")\n",
    "            print(f\"Suggestion: {instagram_status.get('suggestion', 'Check logs for details')}\")\n",
    "            \n",
    "            # If simulated, show what would have been posted\n",
    "            if instagram_status.get('simulated', False):\n",
    "                print(\"\\nSimulated posting:\")\n",
    "                print(f\"Would have posted {instagram_status.get('num_images', 0)} images\")\n",
    "                print(f\"With caption length: {len(instagram_status.get('caption', ''))}\")\n",
    "    except Exception as e:\n",
    "        print(f\"Exception during Instagram posting: {str(e)}\")\n",
    "        print(\"Check that your Instagram credentials are correct and that the instagrapi package is installed\")\n",
    "        print(\"Install with: pip install instagrapi\")\n",
    "else:\n",
    "    print(\"Instagram credentials not available, skipping post\")\n",
    "    print(\"To post to Instagram, set the INSTAGRAM_USERNAME and INSTAGRAM_PASSWORD environment variables\")"
   ]
  },
  {
   "cell_type": "markdown",
   "metadata": {},
   "source": [
    "## 3. Using the LangGraph Pipeline\n",
    "\n",
    "The Instagram Agent can also be used with a LangGraph pipeline, which provides a graph-based workflow with streaming intermediate results."
   ]
  },
  {
   "cell_type": "code",
   "execution_count": 41,
   "metadata": {},
   "outputs": [],
   "source": [
    "from ig_agent.pipeline import create_pipeline\n",
    "\n",
    "# Create the pipeline\n",
    "pipeline = create_pipeline(\n",
    "    llm=llm,\n",
    "    output_dir=output_dir,\n",
    "    email_user=os.environ.get(\"EMAIL_USER\"),\n",
    "    email_password=os.environ.get(\"EMAIL_PASSWORD\")\n",
    ")"
   ]
  },
  {
   "cell_type": "markdown",
   "metadata": {},
   "source": [
    "### 3.1 Visualize the Pipeline Graph\n",
    "\n",
    "Let's visualize the pipeline graph to understand the workflow:"
   ]
  },
  {
   "cell_type": "code",
   "execution_count": 42,
   "metadata": {},
   "outputs": [
    {
     "data": {
      "image/png": "[encoded data removed]",
      "text/plain": [
       "<IPython.core.display.Image object>"
      ]
     },
     "metadata": {},
     "output_type": "display_data"
    }
   ],
   "source": [
    "# Try to visualize the pipeline graph\n",
    "try:\n",
    "    # Visualize the graph (requires graphviz)\n",
    "    display(Image(pipeline.get_graph().draw_mermaid_png()))\n",
    "except Exception as e:\n",
    "    print(f\"Unable to visualize graph: {e}\")"
   ]
  },
  {
   "cell_type": "markdown",
   "metadata": {},
   "source": [
    "### 3.2 Run the Pipeline with Streaming\n",
    "\n",
    "Run the pipeline with streaming to see the intermediate results:"
   ]
  },
  {
   "cell_type": "code",
   "execution_count": null,
   "metadata": {},
   "outputs": [],
   "source": [
    "# Set up inputs for the pipeline\n",
    "inputs = {\n",
    "    \"messages\": [\n",
    "        {\n",
    "            \"role\": \"user\", \n",
    "            \"content\": \"Generate a carousel post about Python data analysis libraries\"\n",
    "        }\n",
    "    ]\n",
    "}\n",
    "\n",
    "# Process and display streaming results\n",
    "for output in pipeline.stream(inputs):\n",
    "    if \"__end__\" not in output:\n",
    "        step = list(output.keys())[-1]\n",
    "        print(f\"\\n--- Step: {step} ---\")\n",
    "        \n",
    "        # Display agent messages\n",
    "        if step == \"supervisor\":\n",
    "            supervisor_output = output[step]\n",
    "            if \"next\" in supervisor_output:\n",
    "                print(f\"Supervisor decision: Next agent = {supervisor_output['next']}\")\n",
    "        elif step == \"content_agent\":\n",
    "            print(output[step][\"messages\"][-1].content)\n",
    "            if \"content_json\" in output[step]:\n",
    "                content_json = output[step][\"content_json\"]\n",
    "                print(f\"Generated content with {len(content_json.get('content_pages', []))} pages\")\n",
    "        elif step == \"image_agent\":\n",
    "            print(output[step][\"messages\"][-1].content)\n",
    "            if \"images\" in output[step]:\n",
    "                images = output[step][\"images\"]\n",
    "                print(f\"Generated {len(images)} images\")\n",
    "        elif step == \"notification_agent\":\n",
    "            print(output[step][\"messages\"][-1].content)\n",
    "            if \"notification_status\" in output[step]:\n",
    "                print(f\"Notification status: {output[step]['notification_status']}\")\n",
    "\n",
    "print(\"\\nPipeline execution completed.\")"
   ]
  },
  {
   "cell_type": "markdown",
   "metadata": {},
   "source": [
    "### 3.3 Display the Final Results\n",
    "\n",
    "After the pipeline has completed, we can display the generated images:"
   ]
  },
  {
   "cell_type": "code",
   "execution_count": null,
   "metadata": {},
   "outputs": [],
   "source": [
    "# Import glob to find the generated images\n",
    "import glob\n",
    "\n",
    "# Find the PNG files in the output directory\n",
    "png_files = sorted(glob.glob(str(output_dir / \"*.png\")))\n",
    "\n",
    "if png_files:\n",
    "    print(f\"Found {len(png_files)} images:\")\n",
    "    for img_path in png_files:\n",
    "        print(f\"\\nImage: {os.path.basename(img_path)}\")\n",
    "        display(Image(img_path))\n",
    "else:\n",
    "    print(\"No images found in the output directory.\")"
   ]
  },
  {
   "cell_type": "markdown",
   "metadata": {},
   "source": [
    "## 4. Full Pipeline in One Go\n",
    "\n",
    "You can also run the entire pipeline in one go using the `run_pipeline()` method:"
   ]
  },
  {
   "cell_type": "code",
   "execution_count": null,
   "metadata": {},
   "outputs": [],
   "source": [
    "# # Create a new output directory for this run\n",
    "# import datetime\n",
    "# # We only need to specify a base directory now\n",
    "# # DateTime subdirectories will be created automatically\n",
    "# new_output_dir = Path(f\"notebook_output_run\")\n",
    "# new_output_dir.mkdir(exist_ok=True)\n",
    "\n",
    "# # Create a new agent instance\n",
    "# new_agent = InstagramAgent(\n",
    "#     llm=llm,\n",
    "#     output_dir=new_output_dir,\n",
    "#     email_user=os.environ.get(\"EMAIL_USER\"),\n",
    "#     email_password=os.environ.get(\"EMAIL_PASSWORD\")\n",
    "# )\n",
    "\n",
    "# # Run the complete pipeline\n",
    "# request = \"Generate a carousel post about AI-powered data visualization techniques\"\n",
    "# recipient_email = \"your.email@example.com\"  # Replace with your email if needed\n",
    "\n",
    "# # Run with or without notification based on credentials\n",
    "# if os.environ.get(\"EMAIL_USER\") and os.environ.get(\"EMAIL_PASSWORD\"):\n",
    "#     results = new_agent.run_pipeline(request, recipient_email=recipient_email)\n",
    "# else:\n",
    "#     results = new_agent.run_pipeline(request)\n",
    "\n",
    "# # Display results summary\n",
    "# print(\"Pipeline execution completed.\")\n",
    "# print(f\"Output directory: {results['output_dir']}\")\n",
    "# print(f\"Content pages: {len(results['content']['content_pages'])}\")\n",
    "# print(f\"Images generated: {len(results['images'])}\")\n",
    "# if 'notification' in results:\n",
    "#     print(f\"Notification sent: {results['notification']['sent']}\")"
   ]
  },
  {
   "cell_type": "markdown",
   "metadata": {},
   "source": [
    "### 4.1 Display the Results from the Full Pipeline Run"
   ]
  },
  {
   "cell_type": "code",
   "execution_count": null,
   "metadata": {},
   "outputs": [],
   "source": [
    "# # Display the images from the full pipeline run\n",
    "# for img in results['images']:\n",
    "#     print(f\"\\n{img['type'].capitalize()}{' ' + str(img['page_number']) if 'page_number' in img else ''}:\")\n",
    "#     display(Image(img['path']))"
   ]
  },
  {
   "cell_type": "markdown",
   "metadata": {},
   "source": [
    "## 5. New Features\n",
    "\n",
    "The `ig_agent` library includes several key features that improve its functionality:\n",
    "\n",
    "1. **Content Line Breaks**: Content text is now broken into lines with approximately 18 words per line, making the text more readable on Instagram carousel posts.\n",
    "\n",
    "2. **DateTime-based Output Directories**: Output files are now organized in a hierarchical directory structure:\n",
    "   - Base directory (e.g., \"notebook_output\")\n",
    "   - Date subfolder (e.g., \"2025-04-20\")\n",
    "   - Timestamp subfolder (e.g., \"20250420_154900\")\n",
    "\n",
    "This organization makes it easier to track and manage multiple content generation runs and preserves a history of generated content."
   ]
  },
  {
   "cell_type": "markdown",
   "metadata": {},
   "source": [
    "## 6. Summary\n",
    "\n",
    "The `ig_agent` library provides a powerful multi-agent system for generating Instagram carousel posts. You can use it in several ways:\n",
    "\n",
    "1. **Direct API**: Use the individual methods for fine-grained control over each step\n",
    "2. **LangGraph Pipeline**: Use the graph-based workflow with streaming results\n",
    "3. **One-step Pipeline**: Run the entire process in one go with `run_pipeline()`\n",
    "\n",
    "The system generates structured content, converts it to visually appealing images using SVG templates, and optionally sends notifications or posts to Instagram."
   ]
  }
 ],
 "metadata": {
  "kernelspec": {
   "display_name": ".venv",
   "language": "python",
   "name": "python3"
  },
  "language_info": {
   "codemirror_mode": {
    "name": "ipython",
    "version": 3
   },
   "file_extension": ".py",
   "mimetype": "text/x-python",
   "name": "python",
   "nbconvert_exporter": "python",
   "pygments_lexer": "ipython3",
   "version": "3.12.7"
  }
 },
 "nbformat": 4,
 "nbformat_minor": 4
}
