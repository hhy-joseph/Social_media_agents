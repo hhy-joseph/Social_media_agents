{
 "cells": [
  {
   "cell_type": "markdown",
   "metadata": {},
   "source": [
    "# Instagram Agent Demo\n",
    "\n",
    "This notebook demonstrates how to use the `ig_agent` library to generate Instagram carousel posts with AI."
   ]
  },
  {
   "cell_type": "markdown",
   "metadata": {},
   "source": [
    "## 1. Setup and Installation\n",
    "\n",
    "First, ensure you have all the necessary dependencies installed:"
   ]
  },
  {
   "cell_type": "code",
   "execution_count": 1,
   "metadata": {},
   "outputs": [
    {
     "name": "stdout",
     "output_type": "stream",
     "text": [
      "\n",
      "\u001b[1m[\u001b[0m\u001b[34;49mnotice\u001b[0m\u001b[1;39;49m]\u001b[0m\u001b[39;49m A new release of pip is available: \u001b[0m\u001b[31;49m25.0.1\u001b[0m\u001b[39;49m -> \u001b[0m\u001b[32;49m25.1\u001b[0m\n",
      "\u001b[1m[\u001b[0m\u001b[34;49mnotice\u001b[0m\u001b[1;39;49m]\u001b[0m\u001b[39;49m To update, run: \u001b[0m\u001b[32;49mpip install --upgrade pip\u001b[0m\n",
      "\n",
      "\u001b[1m[\u001b[0m\u001b[34;49mnotice\u001b[0m\u001b[1;39;49m]\u001b[0m\u001b[39;49m A new release of pip is available: \u001b[0m\u001b[31;49m25.0.1\u001b[0m\u001b[39;49m -> \u001b[0m\u001b[32;49m25.1\u001b[0m\n",
      "\u001b[1m[\u001b[0m\u001b[34;49mnotice\u001b[0m\u001b[1;39;49m]\u001b[0m\u001b[39;49m To update, run: \u001b[0m\u001b[32;49mpip install --upgrade pip\u001b[0m\n"
     ]
    }
   ],
   "source": [
    "# Install dependencies if needed\n",
    "!pip install -q langchain_xai cairosvg\n",
    "!pip install -q -e ."
   ]
  },
  {
   "cell_type": "markdown",
   "metadata": {},
   "source": [
    "## 2. Basic Usage - Direct API\n",
    "\n",
    "The simplest way to use the Instagram Agent is through its direct API, which provides methods for each step of the content generation and posting process."
   ]
  },
  {
   "cell_type": "code",
   "execution_count": 2,
   "metadata": {},
   "outputs": [],
   "source": [
    "import os\n",
    "import logging\n",
    "from pathlib import Path\n",
    "from IPython.display import Image, display, HTML\n",
    "from langchain_xai import ChatXAI\n",
    "from ig_agent import InstagramAgent\n",
    "import os\n",
    "os.environ['DYLD_LIBRARY_PATH'] = '/opt/homebrew/lib:' + os.environ.get('DYLD_LIBRARY_PATH', '')\n",
    "# Set up logging\n",
    "logging.basicConfig(\n",
    "    level=logging.INFO,\n",
    "    format='%(asctime)s - %(name)s - %(levelname)s - %(message)s',\n",
    "    handlers=[logging.StreamHandler()]\n",
    ")\n",
    "logger = logging.getLogger(\"ig_agent_demo\")\n",
    "EPOCH = 2"
   ]
  },
  {
   "cell_type": "code",
   "execution_count": 3,
   "metadata": {},
   "outputs": [],
   "source": [
    "# Create base output directory \n",
    "# Now outputs will be stored in datetime subdirectories\n",
    "output_dir = Path(\"output\")\n",
    "output_dir.mkdir(exist_ok=True)\n",
    "\n",
    "# Initialize language model\n",
    "# You can use any LangChain compatible LLM here\n",
    "llm = ChatXAI(model=\"grok-3-mini-beta\")\n",
    "\n",
    "# Initialize the Instagram agent\n",
    "# Output will automatically be stored in a datetime-based directory structure\n",
    "# For example: output/2025-04-20/20250420_154900/\n",
    "agent = InstagramAgent(\n",
    "    llm=llm,\n",
    "    output_dir=output_dir,\n",
    "    # Optional: provide credentials for notification and posting\n",
    "    email_user=os.environ.get(\"EMAIL_USER\"),\n",
    "    email_password=os.environ.get(\"EMAIL_PASSWORD\"),\n",
    "    instagram_username=os.environ.get(\"INSTAGRAM_USERNAME\"),\n",
    "    instagram_password=os.environ.get(\"INSTAGRAM_PASSWORD\")\n",
    ")"
   ]
  },
  {
   "cell_type": "markdown",
   "metadata": {},
   "source": [
    "### 2.1 Generate Content\n",
    "\n",
    "First, we generate the content for our Instagram carousel post based on a request:"
   ]
  },
  {
   "cell_type": "code",
   "execution_count": 4,
   "metadata": {},
   "outputs": [],
   "source": [
    "from datetime import datetime\n",
    "today = datetime.now().strftime('%Y-%b-%d')"
   ]
  },
  {
   "cell_type": "code",
   "execution_count": 5,
   "metadata": {},
   "outputs": [
    {
     "name": "stderr",
     "output_type": "stream",
     "text": [
      "2025-04-30 10:14:53,139 - ig_agent - INFO - Generating content for request: \n",
      "    今日係 2025-Apr-30, 星期2.\n",
      "    最近10近貼文：{'date': {12: Timestamp('2025-04-23 13:21:04.506031'), 13: Timestamp('2025-04-23 13:21:46.053301'), 14: Timestamp('2025-04-23 13:26:41.557815'), 15: Timestamp('2025-04-23 13:37:50.518470'), 16: Timestamp('2025-04-23 13:42:42.135440'), 17: Timestamp('2025-04-24 11:46:34.359186'), 18: Timestamp('2025-04-24 12:17:12.846487'), 19: Timestamp('2025-04-25 13:40:44.213580'), 20: Timestamp('2025-04-27 19:39:27.693493'), 21: Timestamp('2025-04-27 20:06:39.550101'), 22: Timestamp('2025-04-27 20:10:24.162216'), 23: Timestamp('2025-04-27 20:12:24.561066'), 24: Timestamp('2025-04-27 20:13:26.347846'), 25: Timestamp('2025-04-27 20:14:25.523182'), 26: Timestamp('2025-04-27 20:15:34.027884'), 27: Timestamp('2025-04-27 20:16:33.632171'), 28: Timestamp('2025-04-27 20:20:38.622609'), 29: Timestamp('2025-04-27 20:21:39.580129'), 30: Timestamp('2025-04-27 20:22:37.434548'), 31: Timestamp('2025-04-27 20:23:38.364128'), 32: Timestamp('2025-04-27 20:24:40.109124'), 33: Timestamp('2025-04-27 20:55:15.206893'), 34: Timestamp('2025-04-27 20:56:16.003162'), 35: Timestamp('2025-04-27 20:57:21.673666'), 36: Timestamp('2025-04-27 20:58:22.363799'), 37: Timestamp('2025-04-27 20:59:29.139458'), 38: Timestamp('2025-04-27 21:00:32.808827'), 39: Timestamp('2025-04-27 21:01:43.184407'), 40: Timestamp('2025-04-27 21:02:47.081389'), 41: Timestamp('2025-04-27 21:03:54.167317')}, 'signature': {12: '9f2522fe9cae5d7d8b52627c6fe8eb7b', 13: '7754adb143472cc3575c38e7cb4185ac', 14: '0cffbebe59d10941d845a45b740b220a', 15: '0f68a8dc0388f966e911500baab17cba', 16: '6ed94190af586fcf4b0e485b769fc1e6', 17: '5f063a43164ecb728747831118812174', 18: 'd0264a1b34dde96df4808e72e053e8b9', 19: 'd1d22d33106c4a2a973d53735cf3cb37', 20: '8e8c0418def49eea22d684c38ffa9b9a', 21: 'ce8373183896362bf5f42fb94034d95f', 22: 'd07ef4073ce45aedfa63e9ced3c44b7c', 23: '918d40957de750274bf62844ab975b78', 24: '0c6362688f9d7f6aabc38298835559bd', 25: 'aa2e011c54769675709f6f8fe73ea4fd', 26: '806859846d6ca44549c4255c3794d709', 27: '46c8b775b04c1f20bf1b0007b529147f', 28: '96678c540683aba480d5702a5c0e287c', 29: '8eb65b823e023e6d3c277ee2cdb7b1b2', 30: '939288f83796559cd84371183fffb450', 31: '01a7489c0284f009a279297c5073a9da', 32: '0ca6943f41824d4e955a1e751da31d24', 33: 'd2668f355b9f3f60d8f6de6cfe02ebe3', 34: '444f8bcf92e69ddd72ed2867adb4f62f', 35: 'cd2b253cd26693743639efed19d83913', 36: '253cee2d03579bf83145fb5fb9423d3c', 37: '87667a8170a6c4f8aa02f93c5aba0bcf', 38: 'a9a459441fb8ab24fb606989e31812d2', 39: 'a2efdce11e4f3817a8179b5b8f7bbdc9', 40: 'f78f3e951cfa7f8b567bde2b0a7e5fdc', 41: 'da8705788a68281bcc4052cb1c2b5e34'}, 'cover_heading': {12: 'AI革命來臨 大語言模型新進展', 13: 'LLM Mesh揭秘 AI效率大躍進', 14: '機器學習入門指南 簡單易懂的基礎', 15: '線性回歸入門 預測數據的祕訣', 16: 'Python數據清理技巧 讓數據變得乾淨', 17: 'FAANG面試必備 數據科學祕訣揭曉', 18: '推薦系統大揭秘 AI如何預測你的喜好', 19: 'Jupyter Notebook入門 高效數據處理工具', 20: '數據科學家日常 高效生產力祕訣', 21: 'AI醫療革命 最新突破大揭秘', 22: '免費資源大公開 數據科學自學必備', 23: 'AI偏見的隱藏危機 如何守護公平性', 24: 'AI 2025 革命 大語言模型新突破', 25: '銷售預測入門指南 數據科學實戰應用', 26: 'FAANG AI面試攻略 掌握關鍵問題與技巧', 27: 'AI入門必知 解鎖機器學習祕密', 28: 'AI 2025大突破 改變未來的創新', 29: '自動化數據分析 2025革命性進展', 30: 'AI突破新紀元 醫療應用大躍進', 31: '數據科學工具大對決 Python vs R 誰勝出？', 32: 'AI突破新紀元 2025最新趨勢揭曉', 33: 'AI 2025大突破 重塑未來的創新', 34: 'FAANG AI面試必勝 解鎖高薪職位祕訣', 35: 'AI 2025大突破 新模型重塑未來', 36: 'AI 2025大躍進 創新重塑未來', 37: 'AI 2025大驚喜 新模型重塑未來', 38: 'AI入門大揭秘 解鎖機器學習奧妙', 39: 'AI 2025大突破 重塑未來的創新', 40: 'AI 2025大突破 新模型重塑未來', 41: 'AI 2025大突破 新模型重塑未來'}, 'hashtag': {12: 'AI最新突破', 13: 'LLMMesh', 14: '機器學習', 15: '線性回歸', 16: 'DataScienceTips', 17: 'DataScienceInterview', 18: '推薦系統', 19: 'JupyterNotebookTips', 20: 'DataScienceDailyLife', 21: 'AIHealthcareTrends', 22: 'DataScienceLearning', 23: 'AIEthics', 24: 'AILatestTrends', 25: '銷售預測', 26: 'DataScienceInterview', 27: 'AIBasics', 28: 'AILatestTrends', 29: 'AITrends', 30: 'AITrends2025', 31: 'DataScienceTools', 32: 'AITrends2025', 33: 'AITrends2025', 34: 'FAANG面試攻略', 35: 'AILatestBreakthroughs', 36: 'AITrends2025', 37: 'AILatestBreakthroughs', 38: 'AIBasics', 39: 'AILatestTrends', 40: 'AILatestBreakthroughs', 41: 'AILatestTrends'}, 'titles': {12: ['什麼是GPT-4o？', '生成式AI的突破', 'AI在醫療的應用', '趨勢與挑戰', '如何開始使用', '未來展望'], 13: ['LLM Mesh是什麼？', '為何它重要？', '實際應用例子', '如何開始使用？', '潛在好處', '未來展望', '小貼士'], 14: ['什麼是機器學習？', '主要類型介紹', '實際應用例子', '優點與挑戰', '如何開始學習？', '常見誤區避免', '未來展望'], 15: ['什麼是線性回歸？', '工作原理簡介', '實際應用例子', '優點與好處', '潛在挑戰', '如何實踐？', '學習小貼士'], 16: ['什麼是數據清理？', '處理缺失值', '移除重複資料', '轉換數據類型', '實戰小貼士', '常見錯誤避免'], 17: ['什麼是FAANG面試重點？', 'SQL查詢常見題', '統計知識陷阱', '機器學習算法挑戰', '面試準備小貼士', '為何這很重要？'], 18: ['什麼是推薦系統？', '工作原理簡介', '實際應用例子', '優點與好處', '潛在挑戰', '如何開始學習？', '未來展望'], 19: ['什麼是Jupyter Notebook？', '如何安裝與設定？', '基本使用技巧', '進階視覺化功能', '實用小貼士', '為何值得學習？'], 20: ['早晨的準備工作', '數據處理時段', '模型訓練與測試', '團隊合作時刻', '結束一天的反思', '實用工具推薦'], 21: ['AI在醫療的最新突破', '實際應用例子', '優點與挑戰', '如何開始使用', '未來展望', '實用小貼士'], 22: ['什麼是免費資源？', '頂尖課程推薦', '實用工具下載', 'YouTube頻道精選', '學習小貼士', '潛在挑戰與解決'], 23: ['什麼是AI偏見？', '成因與實際例子', '預防策略', '全球法規與影響', '未來展望', '實用小貼士'], 24: ['什麼是最新AI突破？', '大語言模型的進展', 'AI在產業的應用', '挑戰與解決方案', '未來展望與學習', '實用小貼士'], 25: ['什麼是銷售預測？', '關鍵工具與算法', '步驟分解指南', '實際應用例子', '優點與挑戰', '如何開始學習？'], 26: ['什麼是FAANG AI面試重點？', '常見技術問題解析', '行為問題如何應對？', '準備實戰小貼士', '為何這很重要？', '潛在挑戰與解決'], 27: ['什麼是機器學習？', '深度學習的奧妙', '自然語言處理入門', 'AI概念的實際應用', '為何學習AI基礎？', '學習小貼士'], 28: ['AI突破是什麼？', '關鍵創新例子', '對產業的影響', '如何應用AI？', '未來展望與挑戰', '實用學習建議'], 29: ['什麼是自動化數據分析？', '最新AI工具介紹', '實戰應用例子', '優點與挑戰', '未來展望與學習', '為何現在就行動？'], 30: ['AI醫療的最新突破', '如何應用AI影像分析', 'AI預測性診斷的優勢', '潛在挑戰與解決方案', '未來展望與實用建議', '為何現在就行動'], 31: ['什麼是Python在數據科學？', 'R的強大之處？', 'Python vs R的優點比較', '實際應用例子', '如何選擇你的工具？', '為何現在就試？'], 32: ['什麼是最新AI突破？', '關鍵創新應用', '趨勢與挑戰', '如何應用到工作？', '未來展望', '實用學習建議'], 33: ['什麼是2025 AI突破？', '腦靈感AI的奧妙', '全球AI報告亮點', '實際應用例子', '挑戰與解決', '未來展望'], 34: ['什麼是FAANG AI面試？', '常見技術問題解析', '行為面談技巧', '準備實戰小貼士', '避免常見錯誤', '為何這很重要？'], 35: ['什麼是最新AI突破？', '新模型的關鍵特點', '如何應用到工作中？', '潛在挑戰與解決', '未來展望與建議', '為何這很重要？'], 36: ['什麼是最新AI突破？', '大語言模型的進展', '生成式AI的實用應用', '挑戰與解決方案', '如何應用到工作？', '未來展望'], 37: ['什麼是最新AI突破？', '為何這很重要？', '實際應用例子', '挑戰與解決', '未來展望', '如何開始？'], 38: ['什麼是機器學習？', '深度學習的奧妙', '自然語言處理入門', 'AI概念的實際應用', '為何現在學習AI？', '學習小貼士'], 39: ['AI突破是什麼？', '關鍵創新例子', '實戰應用場景', '挑戰與解決方案', '未來展望與建議', '為何現在就行動？'], 40: ['什麼是最新AI突破？', '大語言模型的進展', '生成式AI的實際應用', '挑戰與解決方案', '未來展望與學習', '為何現在就行動？'], 41: ['什麼是最新AI突破？', '大語言模型的進展', '實戰應用例子', '挑戰與解決方案', '未來展望與學習', '為何這很重要？']}}\n",
      "    不要重覆內容。\n",
      "    標題環eyes catching，非常搶眼\n",
      "    選取以下一內容製作今日的貼文，你可選擇是否再上網搜尋資料，特別係新聞話題，必須上網。不要用中國字，用香港字、繁體中文撰寫。\n",
      "    | **內容類型**         | **具體題材**                                                                 | **預期效果**                                                                 |\n",
      "    |----------------------|------------------------------------------------------------------------------|------------------------------------------------------------------------------|\n",
      "    | **教育性貼文**       | - 解釋AI基本概念（如機器學習、深度學習、自然語言處理）<br>- 數據科學工具介紹（如Python、R、Tableau）<br>- 簡單算法原理（e.g., 線性回歸、決策樹） | 吸引初學者，提供入門知識，增加帳號專業性。                                   |\n",
      "    | **實用技巧分享**     | - Python/R程式碼片段（e.g., 數據清理、視覺化）<br>- Jupyter Notebook使用技巧<br>- 免費學習資源推薦（課程、書籍、YouTube頻道） | 提供實用價值，吸引技術愛好者，提升互動率。                                   |\n",
      "    | **案例分析**         | - AI應用案例（e.g., 醫療影像診斷、推薦系統）<br>- 數據科學項目實例（e.g., 銷售預測）<br>- 失敗案例分析（e.g., 模型過擬合問題） | 展示AI/數據科學的實際應用，激發靈感，吸引專業人士。                           |\n",
      "    | **趨勢與新聞**       | - 最新AI技術進展（e.g., 大語言模型、生成式AI）<br>- 數據科學行業趨勢（e.g., 自動化數據分析）<br>- 倫理問題討論（e.g., AI偏見） | 保持內容新鮮，吸引關注行業動態的受眾。                                       |\n",
      "    | **互動內容**         | - 問答貼文（e.g., “你用哪個數據科學工具？”）<br>- 投票（e.g., “Python vs R，哪個更好？”）<br>- 挑戰（e.g., 7天學會Pandas） | 提高粉絲參與度，建立社群感。                                               |\n",
      "    | **幕後花絮**         | - 數據科學家/工程師一天的工作分享<br>- 項目開發過程（e.g., 從數據收集到模型部署）<br>- 學習路徑分享（e.g., 自學數據科學的經驗） | 增加人性化元素，拉近與受眾的距離。                                           |\n",
      "    | **迷因與輕鬆內容**   | - AI/數據科學相關迷因（e.g., “當模型訓練了10小時還是沒收斂”）<br>- 程式員幽默（e.g., debug的痛苦）<br>- 數據科學家日常趣事 | 增加趣味性，吸引年輕受眾，提高轉發率。                                       |\n",
      "    | **面試內容**   | - AI/數據科學相關職位的面試內容，以FAANG公司為主。 | 增加趣味性，吸引年輕受眾，提高轉發率。                                       |\n",
      "\n",
      "    \n"
     ]
    },
    {
     "name": "stdout",
     "output_type": "stream",
     "text": [
      "Starting Epoch 1\n"
     ]
    },
    {
     "name": "stderr",
     "output_type": "stream",
     "text": [
      "2025-04-30 10:15:07,058 - httpx - INFO - HTTP Request: POST https://api.x.ai/v1/chat/completions \"HTTP/1.1 200 OK\"\n",
      "2025-04-30 10:15:08,177 - primp - INFO - response: https://html.duckduckgo.com/html 200\n",
      "2025-04-30 10:15:36,240 - httpx - INFO - HTTP Request: POST https://api.x.ai/v1/chat/completions \"HTTP/1.1 200 OK\"\n",
      "2025-04-30 10:16:16,512 - httpx - INFO - HTTP Request: POST https://api.x.ai/v1/chat/completions \"HTTP/1.1 200 OK\"\n",
      "2025-04-30 10:16:16,531 - ig_agent.content_agent - INFO - Generated unique content on attempt 1\n",
      "2025-04-30 10:16:16,532 - ig_agent - INFO - Generating images from content\n"
     ]
    },
    {
     "name": "stdout",
     "output_type": "stream",
     "text": [
      "Contents are ready.\n"
     ]
    },
    {
     "name": "stderr",
     "output_type": "stream",
     "text": [
      "2025-04-30 10:16:16,759 - ig_agent.template_processor - WARNING - PyCairo is not available, falling back to other methods\n",
      "2025-04-30 10:16:16,759 - ig_agent.template_processor - INFO - CairoSVG version: 2.7.1\n",
      "2025-04-30 10:16:16,761 - ig_agent.template_processor - INFO - Attempting SVG conversion with rsvg-convert for cover...\n",
      "2025-04-30 10:16:17,061 - ig_agent.template_processor - INFO - Successfully converted SVG to PNG using rsvg-convert\n",
      "2025-04-30 10:16:17,062 - ig_agent.template_processor - INFO - Generated cover image: output/2025-04-30/20250430_101452/cover.png\n",
      "2025-04-30 10:16:17,064 - ig_agent.template_processor - INFO - Attempting SVG conversion with rsvg-convert for content page 1...\n",
      "2025-04-30 10:16:17,196 - ig_agent.template_processor - INFO - Successfully converted SVG to PNG using rsvg-convert\n",
      "2025-04-30 10:16:17,197 - ig_agent.template_processor - INFO - Generated content image 1: output/2025-04-30/20250430_101452/content_01.png\n",
      "2025-04-30 10:16:17,198 - ig_agent.template_processor - INFO - Attempting SVG conversion with rsvg-convert for content page 2...\n",
      "2025-04-30 10:16:17,326 - ig_agent.template_processor - INFO - Successfully converted SVG to PNG using rsvg-convert\n",
      "2025-04-30 10:16:17,327 - ig_agent.template_processor - INFO - Generated content image 2: output/2025-04-30/20250430_101452/content_02.png\n",
      "2025-04-30 10:16:17,328 - ig_agent.template_processor - INFO - Attempting SVG conversion with rsvg-convert for content page 3...\n",
      "2025-04-30 10:16:17,457 - ig_agent.template_processor - INFO - Successfully converted SVG to PNG using rsvg-convert\n",
      "2025-04-30 10:16:17,458 - ig_agent.template_processor - INFO - Generated content image 3: output/2025-04-30/20250430_101452/content_03.png\n",
      "2025-04-30 10:16:17,459 - ig_agent.template_processor - INFO - Attempting SVG conversion with rsvg-convert for content page 4...\n",
      "2025-04-30 10:16:17,591 - ig_agent.template_processor - INFO - Successfully converted SVG to PNG using rsvg-convert\n",
      "2025-04-30 10:16:17,591 - ig_agent.template_processor - INFO - Generated content image 4: output/2025-04-30/20250430_101452/content_04.png\n",
      "2025-04-30 10:16:17,593 - ig_agent.template_processor - INFO - Attempting SVG conversion with rsvg-convert for content page 5...\n",
      "2025-04-30 10:16:17,725 - ig_agent.template_processor - INFO - Successfully converted SVG to PNG using rsvg-convert\n",
      "2025-04-30 10:16:17,726 - ig_agent.template_processor - INFO - Generated content image 5: output/2025-04-30/20250430_101452/content_05.png\n",
      "2025-04-30 10:16:17,727 - ig_agent.template_processor - INFO - Attempting SVG conversion with rsvg-convert for content page 6...\n",
      "2025-04-30 10:16:17,912 - ig_agent.template_processor - INFO - Successfully converted SVG to PNG using rsvg-convert\n",
      "2025-04-30 10:16:17,913 - ig_agent.template_processor - INFO - Generated content image 6: output/2025-04-30/20250430_101452/content_06.png\n",
      "2025-04-30 10:16:17,914 - ig_agent.image_agent - INFO - Generated 7 images\n",
      "2025-04-30 10:16:17,915 - ig_agent - INFO - Posting to Instagram\n",
      "2025-04-30 10:16:17,983 - ig_agent.instagram_poster - INFO - Converted output/2025-04-30/20250430_101452/cover.png to output/2025-04-30/20250430_101452/cover.jpg\n",
      "2025-04-30 10:16:17,999 - ig_agent.instagram_poster - INFO - Converted output/2025-04-30/20250430_101452/content_01.png to output/2025-04-30/20250430_101452/content_01.jpg\n",
      "2025-04-30 10:16:18,011 - ig_agent.instagram_poster - INFO - Converted output/2025-04-30/20250430_101452/content_02.png to output/2025-04-30/20250430_101452/content_02.jpg\n",
      "2025-04-30 10:16:18,021 - ig_agent.instagram_poster - INFO - Converted output/2025-04-30/20250430_101452/content_03.png to output/2025-04-30/20250430_101452/content_03.jpg\n",
      "2025-04-30 10:16:18,037 - ig_agent.instagram_poster - INFO - Converted output/2025-04-30/20250430_101452/content_04.png to output/2025-04-30/20250430_101452/content_04.jpg\n",
      "2025-04-30 10:16:18,074 - ig_agent.instagram_poster - INFO - Converted output/2025-04-30/20250430_101452/content_05.png to output/2025-04-30/20250430_101452/content_05.jpg\n",
      "2025-04-30 10:16:18,091 - ig_agent.instagram_poster - INFO - Converted output/2025-04-30/20250430_101452/content_06.png to output/2025-04-30/20250430_101452/content_06.jpg\n",
      "2025-04-30 10:16:18,091 - ig_agent.instagram_poster - INFO - Found cover image: cover.jpg\n",
      "2025-04-30 10:16:18,091 - ig_agent.instagram_poster - INFO - Images ordered for posting: ['cover.jpg', 'content_01.jpg', 'content_02.jpg', 'content_03.jpg', 'content_04.jpg', 'content_05.jpg', 'content_06.jpg']\n",
      "2025-04-30 10:16:18,093 - instagrapi - INFO - https://i.instagram.com/api/v1/launcher/sync/\n"
     ]
    },
    {
     "name": "stdout",
     "output_type": "stream",
     "text": [
      "Images generation are ready.\n"
     ]
    },
    {
     "name": "stderr",
     "output_type": "stream",
     "text": [
      "2025-04-30 10:16:18,478 - private_request - INFO - datasci_daily [200] POST https://i.instagram.com/api/v1/launcher/sync/ (269.0.0.18.75, OnePlus 6T Dev)\n",
      "2025-04-30 10:16:18,885 - instagrapi - INFO - https://i.instagram.com/api/v1/accounts/login/\n",
      "2025-04-30 10:16:25,187 - private_request - INFO - datasci_daily [400] POST https://i.instagram.com/api/v1/accounts/login/ (269.0.0.18.75, OnePlus 6T Dev)\n",
      "2025-04-30 10:16:26,191 - instagrapi - INFO - https://i.instagram.com/api/v1/challenge/ASitKSdjyypds5osRzlQNMMPRUkZ8mZ_TvotQpNy0Tl23Q40P6avAN-dxU5YsK0EZyo6Xy4/ASTJOKtj4u1jQ-D3zp11rQjpqRpgaYX-_29wFojoY6YVTbzF6-YWGdcpisCp-AEoVztVdW1fmT9n_Q/\n",
      "2025-04-30 10:16:27,043 - private_request - INFO - datasci_daily [200] GET https://i.instagram.com/api/v1/challenge/ASitKSdjyypds5osRzlQNMMPRUkZ8mZ_TvotQpNy0Tl23Q40P6avAN-dxU5YsK0EZyo6Xy4/ASTJOKtj4u1jQ-D3zp11rQjpqRpgaYX-_29wFojoY6YVTbzF6-YWGdcpisCp-AEoVztVdW1fmT9n_Q/?guid=f674bbdf-4b0a-4bd6-ad2d-5b41f152a018&device_id=android-622082a7ec5ac469&challenge_context=Af6waRu6zz336Ch1te6PQzrz8IlSVd1iRTC00FlOaxghfiCeSzZazuJpQWP_wy3Ch3R16KKRfV0D9PqPak86aza7tPs-huX8vLWZ0jyWUHGdUz8cJAnd_q1di9B5PFt5DP2mz_O4FgR7yiQU6jE9SlHGiedU0Ra35r421SSYQOpgI7wS_fNEL7jMqxTWwuMDGK-uhM2jk6UOOPJsiHT8eVzqXRxqmw_eWgecCE1MJTOoczfN28pF-0TObPIo8-qSC-S9c19g-d24NLcHGdwAhb591i6TMzs5z88qxpkIDl-ciBs3ZPDcNIicwAGUHo4mgLNPWa7xlUw_bdCmvLiBF_q0hNDllrDWRISh3gOwX95TYVBUXHpOS8ju6rkNOejG8Hi8uwy_R2Lq2M4H9fZLQFpSe3VUpJsgFNfhMLKvrZFZNK6gMA6eBvWBEQZ1sT2erY6lc9S2nvsf-nb1buASqGKAa3TnO9jsCC2qhP2eiyaYLvkDEa8DpUaff81iaWEsiMxjqjMa-a5R5RM8QywrrVF7v9uzv_-MzWQTEIBmQ6epsqPBYqzhGbHqA7hMHqhITd0Os_qKwW_xdlELMqE (269.0.0.18.75, OnePlus 6T Dev)\n",
      "2025-04-30 10:16:28,050 - instagrapi - INFO - https://i.instagram.com/api/v1/challenge/ASitKSdjyypds5osRzlQNMMPRUkZ8mZ_TvotQpNy0Tl23Q40P6avAN-dxU5YsK0EZyo6Xy4/ASTJOKtj4u1jQ-D3zp11rQjpqRpgaYX-_29wFojoY6YVTbzF6-YWGdcpisCp-AEoVztVdW1fmT9n_Q/\n",
      "2025-04-30 10:16:29,996 - private_request - INFO - datasci_daily [200] POST https://i.instagram.com/api/v1/challenge/ASitKSdjyypds5osRzlQNMMPRUkZ8mZ_TvotQpNy0Tl23Q40P6avAN-dxU5YsK0EZyo6Xy4/ASTJOKtj4u1jQ-D3zp11rQjpqRpgaYX-_29wFojoY6YVTbzF6-YWGdcpisCp-AEoVztVdW1fmT9n_Q/ (269.0.0.18.75, OnePlus 6T Dev)\n"
     ]
    },
    {
     "name": "stdout",
     "output_type": "stream",
     "text": [
      "Code entered \"877283\" for datasci_daily (0 attempts by 5 seconds)\n"
     ]
    },
    {
     "name": "stderr",
     "output_type": "stream",
     "text": [
      "2025-04-30 10:21:20,434 - instagrapi - INFO - https://i.instagram.com/api/v1/challenge/ASitKSdjyypds5osRzlQNMMPRUkZ8mZ_TvotQpNy0Tl23Q40P6avAN-dxU5YsK0EZyo6Xy4/ASTJOKtj4u1jQ-D3zp11rQjpqRpgaYX-_29wFojoY6YVTbzF6-YWGdcpisCp-AEoVztVdW1fmT9n_Q/\n",
      "2025-04-30 10:21:33,521 - private_request - INFO - datasci_daily [200] POST https://i.instagram.com/api/v1/challenge/ASitKSdjyypds5osRzlQNMMPRUkZ8mZ_TvotQpNy0Tl23Q40P6avAN-dxU5YsK0EZyo6Xy4/ASTJOKtj4u1jQ-D3zp11rQjpqRpgaYX-_29wFojoY6YVTbzF6-YWGdcpisCp-AEoVztVdW1fmT9n_Q/ (269.0.0.18.75, OnePlus 6T Dev)\n",
      "2025-04-30 10:21:33,527 - instagrapi - INFO - https://i.instagram.com/api/v1/accounts/login/\n",
      "2025-04-30 10:21:35,850 - private_request - INFO - datasci_daily [200] POST https://i.instagram.com/api/v1/accounts/login/ (269.0.0.18.75, OnePlus 6T Dev)\n",
      "2025-04-30 10:21:36,859 - instagrapi - INFO - https://i.instagram.com/api/v1/feed/reels_tray/\n",
      "2025-04-30 10:21:37,298 - private_request - INFO - datasci_daily [200] POST https://i.instagram.com/api/v1/feed/reels_tray/ (269.0.0.18.75, OnePlus 6T Dev)\n",
      "2025-04-30 10:21:38,304 - instagrapi - INFO - https://i.instagram.com/api/v1/feed/timeline/\n",
      "2025-04-30 10:21:39,919 - private_request - INFO - datasci_daily [200] POST https://i.instagram.com/api/v1/feed/timeline/ (269.0.0.18.75, OnePlus 6T Dev)\n",
      "2025-04-30 10:21:42,011 - private_request - INFO - datasci_daily [200] POST https://i.instagram.com/rupload_igphoto/1745965299922_0_8718654996 (269.0.0.18.75, OnePlus 6T Dev)\n",
      "2025-04-30 10:21:43,440 - private_request - INFO - datasci_daily [200] POST https://i.instagram.com/rupload_igphoto/1745965302013_0_5738057258 (269.0.0.18.75, OnePlus 6T Dev)\n",
      "2025-04-30 10:21:44,995 - private_request - INFO - datasci_daily [200] POST https://i.instagram.com/rupload_igphoto/1745965303442_0_4348488319 (269.0.0.18.75, OnePlus 6T Dev)\n",
      "2025-04-30 10:21:46,819 - private_request - INFO - datasci_daily [200] POST https://i.instagram.com/rupload_igphoto/1745965304998_0_7833909295 (269.0.0.18.75, OnePlus 6T Dev)\n",
      "2025-04-30 10:21:48,312 - private_request - INFO - datasci_daily [200] POST https://i.instagram.com/rupload_igphoto/1745965306822_0_7657304628 (269.0.0.18.75, OnePlus 6T Dev)\n",
      "2025-04-30 10:21:49,891 - private_request - INFO - datasci_daily [200] POST https://i.instagram.com/rupload_igphoto/1745965308315_0_7214596633 (269.0.0.18.75, OnePlus 6T Dev)\n",
      "2025-04-30 10:21:51,697 - private_request - INFO - datasci_daily [200] POST https://i.instagram.com/rupload_igphoto/1745965309894_0_6435363674 (269.0.0.18.75, OnePlus 6T Dev)\n",
      "2025-04-30 10:21:55,711 - instagrapi - INFO - https://i.instagram.com/api/v1/media/configure_sidecar/\n",
      "2025-04-30 10:22:03,164 - private_request - INFO - datasci_daily [200] POST https://i.instagram.com/api/v1/media/configure_sidecar/ (269.0.0.18.75, OnePlus 6T Dev)\n",
      "2025-04-30 10:22:04,170 - instagrapi - INFO - https://i.instagram.com/api/v1/qe/expose/\n",
      "2025-04-30 10:22:04,377 - private_request - INFO - datasci_daily [200] POST https://i.instagram.com/api/v1/qe/expose/ (269.0.0.18.75, OnePlus 6T Dev)\n",
      "2025-04-30 10:22:04,389 - ig_agent.instagram_poster - INFO - Posted carousel to Instagram: 3621742039131438801\n",
      "2025-04-30 10:22:04,431 - ig_agent - INFO - Generating content for request: \n",
      "    今日係 2025-Apr-30, 星期2.\n",
      "    最近10近貼文：{'date': {13: Timestamp('2025-04-23 13:21:46.053301'), 14: Timestamp('2025-04-23 13:26:41.557815'), 15: Timestamp('2025-04-23 13:37:50.518470'), 16: Timestamp('2025-04-23 13:42:42.135440'), 17: Timestamp('2025-04-24 11:46:34.359186'), 18: Timestamp('2025-04-24 12:17:12.846487'), 19: Timestamp('2025-04-25 13:40:44.213580'), 20: Timestamp('2025-04-27 19:39:27.693493'), 21: Timestamp('2025-04-27 20:06:39.550101'), 22: Timestamp('2025-04-27 20:10:24.162216'), 23: Timestamp('2025-04-27 20:12:24.561066'), 24: Timestamp('2025-04-27 20:13:26.347846'), 25: Timestamp('2025-04-27 20:14:25.523182'), 26: Timestamp('2025-04-27 20:15:34.027884'), 27: Timestamp('2025-04-27 20:16:33.632171'), 28: Timestamp('2025-04-27 20:20:38.622609'), 29: Timestamp('2025-04-27 20:21:39.580129'), 30: Timestamp('2025-04-27 20:22:37.434548'), 31: Timestamp('2025-04-27 20:23:38.364128'), 32: Timestamp('2025-04-27 20:24:40.109124'), 33: Timestamp('2025-04-27 20:55:15.206893'), 34: Timestamp('2025-04-27 20:56:16.003162'), 35: Timestamp('2025-04-27 20:57:21.673666'), 36: Timestamp('2025-04-27 20:58:22.363799'), 37: Timestamp('2025-04-27 20:59:29.139458'), 38: Timestamp('2025-04-27 21:00:32.808827'), 39: Timestamp('2025-04-27 21:01:43.184407'), 40: Timestamp('2025-04-27 21:02:47.081389'), 41: Timestamp('2025-04-27 21:03:54.167317'), 42: Timestamp('2025-04-30 10:16:16.529367')}, 'signature': {13: '7754adb143472cc3575c38e7cb4185ac', 14: '0cffbebe59d10941d845a45b740b220a', 15: '0f68a8dc0388f966e911500baab17cba', 16: '6ed94190af586fcf4b0e485b769fc1e6', 17: '5f063a43164ecb728747831118812174', 18: 'd0264a1b34dde96df4808e72e053e8b9', 19: 'd1d22d33106c4a2a973d53735cf3cb37', 20: '8e8c0418def49eea22d684c38ffa9b9a', 21: 'ce8373183896362bf5f42fb94034d95f', 22: 'd07ef4073ce45aedfa63e9ced3c44b7c', 23: '918d40957de750274bf62844ab975b78', 24: '0c6362688f9d7f6aabc38298835559bd', 25: 'aa2e011c54769675709f6f8fe73ea4fd', 26: '806859846d6ca44549c4255c3794d709', 27: '46c8b775b04c1f20bf1b0007b529147f', 28: '96678c540683aba480d5702a5c0e287c', 29: '8eb65b823e023e6d3c277ee2cdb7b1b2', 30: '939288f83796559cd84371183fffb450', 31: '01a7489c0284f009a279297c5073a9da', 32: '0ca6943f41824d4e955a1e751da31d24', 33: 'd2668f355b9f3f60d8f6de6cfe02ebe3', 34: '444f8bcf92e69ddd72ed2867adb4f62f', 35: 'cd2b253cd26693743639efed19d83913', 36: '253cee2d03579bf83145fb5fb9423d3c', 37: '87667a8170a6c4f8aa02f93c5aba0bcf', 38: 'a9a459441fb8ab24fb606989e31812d2', 39: 'a2efdce11e4f3817a8179b5b8f7bbdc9', 40: 'f78f3e951cfa7f8b567bde2b0a7e5fdc', 41: 'da8705788a68281bcc4052cb1c2b5e34', 42: 'e231d9c15a6bc21f7c01b69696b02578'}, 'cover_heading': {13: 'LLM Mesh揭秘 AI效率大躍進', 14: '機器學習入門指南 簡單易懂的基礎', 15: '線性回歸入門 預測數據的祕訣', 16: 'Python數據清理技巧 讓數據變得乾淨', 17: 'FAANG面試必備 數據科學祕訣揭曉', 18: '推薦系統大揭秘 AI如何預測你的喜好', 19: 'Jupyter Notebook入門 高效數據處理工具', 20: '數據科學家日常 高效生產力祕訣', 21: 'AI醫療革命 最新突破大揭秘', 22: '免費資源大公開 數據科學自學必備', 23: 'AI偏見的隱藏危機 如何守護公平性', 24: 'AI 2025 革命 大語言模型新突破', 25: '銷售預測入門指南 數據科學實戰應用', 26: 'FAANG AI面試攻略 掌握關鍵問題與技巧', 27: 'AI入門必知 解鎖機器學習祕密', 28: 'AI 2025大突破 改變未來的創新', 29: '自動化數據分析 2025革命性進展', 30: 'AI突破新紀元 醫療應用大躍進', 31: '數據科學工具大對決 Python vs R 誰勝出？', 32: 'AI突破新紀元 2025最新趨勢揭曉', 33: 'AI 2025大突破 重塑未來的創新', 34: 'FAANG AI面試必勝 解鎖高薪職位祕訣', 35: 'AI 2025大突破 新模型重塑未來', 36: 'AI 2025大躍進 創新重塑未來', 37: 'AI 2025大驚喜 新模型重塑未來', 38: 'AI入門大揭秘 解鎖機器學習奧妙', 39: 'AI 2025大突破 重塑未來的創新', 40: 'AI 2025大突破 新模型重塑未來', 41: 'AI 2025大突破 新模型重塑未來', 42: '2025 AI大躍進 創新重塑未來'}, 'hashtag': {13: 'LLMMesh', 14: '機器學習', 15: '線性回歸', 16: 'DataScienceTips', 17: 'DataScienceInterview', 18: '推薦系統', 19: 'JupyterNotebookTips', 20: 'DataScienceDailyLife', 21: 'AIHealthcareTrends', 22: 'DataScienceLearning', 23: 'AIEthics', 24: 'AILatestTrends', 25: '銷售預測', 26: 'DataScienceInterview', 27: 'AIBasics', 28: 'AILatestTrends', 29: 'AITrends', 30: 'AITrends2025', 31: 'DataScienceTools', 32: 'AITrends2025', 33: 'AITrends2025', 34: 'FAANG面試攻略', 35: 'AILatestBreakthroughs', 36: 'AITrends2025', 37: 'AILatestBreakthroughs', 38: 'AIBasics', 39: 'AILatestTrends', 40: 'AILatestBreakthroughs', 41: 'AILatestTrends', 42: 'AILatestBreakthroughs'}, 'titles': {13: ['LLM Mesh是什麼？', '為何它重要？', '實際應用例子', '如何開始使用？', '潛在好處', '未來展望', '小貼士'], 14: ['什麼是機器學習？', '主要類型介紹', '實際應用例子', '優點與挑戰', '如何開始學習？', '常見誤區避免', '未來展望'], 15: ['什麼是線性回歸？', '工作原理簡介', '實際應用例子', '優點與好處', '潛在挑戰', '如何實踐？', '學習小貼士'], 16: ['什麼是數據清理？', '處理缺失值', '移除重複資料', '轉換數據類型', '實戰小貼士', '常見錯誤避免'], 17: ['什麼是FAANG面試重點？', 'SQL查詢常見題', '統計知識陷阱', '機器學習算法挑戰', '面試準備小貼士', '為何這很重要？'], 18: ['什麼是推薦系統？', '工作原理簡介', '實際應用例子', '優點與好處', '潛在挑戰', '如何開始學習？', '未來展望'], 19: ['什麼是Jupyter Notebook？', '如何安裝與設定？', '基本使用技巧', '進階視覺化功能', '實用小貼士', '為何值得學習？'], 20: ['早晨的準備工作', '數據處理時段', '模型訓練與測試', '團隊合作時刻', '結束一天的反思', '實用工具推薦'], 21: ['AI在醫療的最新突破', '實際應用例子', '優點與挑戰', '如何開始使用', '未來展望', '實用小貼士'], 22: ['什麼是免費資源？', '頂尖課程推薦', '實用工具下載', 'YouTube頻道精選', '學習小貼士', '潛在挑戰與解決'], 23: ['什麼是AI偏見？', '成因與實際例子', '預防策略', '全球法規與影響', '未來展望', '實用小貼士'], 24: ['什麼是最新AI突破？', '大語言模型的進展', 'AI在產業的應用', '挑戰與解決方案', '未來展望與學習', '實用小貼士'], 25: ['什麼是銷售預測？', '關鍵工具與算法', '步驟分解指南', '實際應用例子', '優點與挑戰', '如何開始學習？'], 26: ['什麼是FAANG AI面試重點？', '常見技術問題解析', '行為問題如何應對？', '準備實戰小貼士', '為何這很重要？', '潛在挑戰與解決'], 27: ['什麼是機器學習？', '深度學習的奧妙', '自然語言處理入門', 'AI概念的實際應用', '為何學習AI基礎？', '學習小貼士'], 28: ['AI突破是什麼？', '關鍵創新例子', '對產業的影響', '如何應用AI？', '未來展望與挑戰', '實用學習建議'], 29: ['什麼是自動化數據分析？', '最新AI工具介紹', '實戰應用例子', '優點與挑戰', '未來展望與學習', '為何現在就行動？'], 30: ['AI醫療的最新突破', '如何應用AI影像分析', 'AI預測性診斷的優勢', '潛在挑戰與解決方案', '未來展望與實用建議', '為何現在就行動'], 31: ['什麼是Python在數據科學？', 'R的強大之處？', 'Python vs R的優點比較', '實際應用例子', '如何選擇你的工具？', '為何現在就試？'], 32: ['什麼是最新AI突破？', '關鍵創新應用', '趨勢與挑戰', '如何應用到工作？', '未來展望', '實用學習建議'], 33: ['什麼是2025 AI突破？', '腦靈感AI的奧妙', '全球AI報告亮點', '實際應用例子', '挑戰與解決', '未來展望'], 34: ['什麼是FAANG AI面試？', '常見技術問題解析', '行為面談技巧', '準備實戰小貼士', '避免常見錯誤', '為何這很重要？'], 35: ['什麼是最新AI突破？', '新模型的關鍵特點', '如何應用到工作中？', '潛在挑戰與解決', '未來展望與建議', '為何這很重要？'], 36: ['什麼是最新AI突破？', '大語言模型的進展', '生成式AI的實用應用', '挑戰與解決方案', '如何應用到工作？', '未來展望'], 37: ['什麼是最新AI突破？', '為何這很重要？', '實際應用例子', '挑戰與解決', '未來展望', '如何開始？'], 38: ['什麼是機器學習？', '深度學習的奧妙', '自然語言處理入門', 'AI概念的實際應用', '為何現在學習AI？', '學習小貼士'], 39: ['AI突破是什麼？', '關鍵創新例子', '實戰應用場景', '挑戰與解決方案', '未來展望與建議', '為何現在就行動？'], 40: ['什麼是最新AI突破？', '大語言模型的進展', '生成式AI的實際應用', '挑戰與解決方案', '未來展望與學習', '為何現在就行動？'], 41: ['什麼是最新AI突破？', '大語言模型的進展', '實戰應用例子', '挑戰與解決方案', '未來展望與學習', '為何這很重要？'], 42: ['什麼是Llama 4突破？', 'Stanford HAI報告亮點', 'AI在醫療的實戰應用', '商業AI趨勢變化', '挑戰與未來展望', '如何應用到工作？']}}\n",
      "    不要重覆內容。\n",
      "    標題環eyes catching，非常搶眼\n",
      "    選取以下一內容製作今日的貼文，你可選擇是否再上網搜尋資料，特別係新聞話題，必須上網。不要用中國字，用香港字、繁體中文撰寫。\n",
      "    | **內容類型**         | **具體題材**                                                                 | **預期效果**                                                                 |\n",
      "    |----------------------|------------------------------------------------------------------------------|------------------------------------------------------------------------------|\n",
      "    | **教育性貼文**       | - 解釋AI基本概念（如機器學習、深度學習、自然語言處理）<br>- 數據科學工具介紹（如Python、R、Tableau）<br>- 簡單算法原理（e.g., 線性回歸、決策樹） | 吸引初學者，提供入門知識，增加帳號專業性。                                   |\n",
      "    | **實用技巧分享**     | - Python/R程式碼片段（e.g., 數據清理、視覺化）<br>- Jupyter Notebook使用技巧<br>- 免費學習資源推薦（課程、書籍、YouTube頻道） | 提供實用價值，吸引技術愛好者，提升互動率。                                   |\n",
      "    | **案例分析**         | - AI應用案例（e.g., 醫療影像診斷、推薦系統）<br>- 數據科學項目實例（e.g., 銷售預測）<br>- 失敗案例分析（e.g., 模型過擬合問題） | 展示AI/數據科學的實際應用，激發靈感，吸引專業人士。                           |\n",
      "    | **趨勢與新聞**       | - 最新AI技術進展（e.g., 大語言模型、生成式AI）<br>- 數據科學行業趨勢（e.g., 自動化數據分析）<br>- 倫理問題討論（e.g., AI偏見） | 保持內容新鮮，吸引關注行業動態的受眾。                                       |\n",
      "    | **互動內容**         | - 問答貼文（e.g., “你用哪個數據科學工具？”）<br>- 投票（e.g., “Python vs R，哪個更好？”）<br>- 挑戰（e.g., 7天學會Pandas） | 提高粉絲參與度，建立社群感。                                               |\n",
      "    | **幕後花絮**         | - 數據科學家/工程師一天的工作分享<br>- 項目開發過程（e.g., 從數據收集到模型部署）<br>- 學習路徑分享（e.g., 自學數據科學的經驗） | 增加人性化元素，拉近與受眾的距離。                                           |\n",
      "    | **迷因與輕鬆內容**   | - AI/數據科學相關迷因（e.g., “當模型訓練了10小時還是沒收斂”）<br>- 程式員幽默（e.g., debug的痛苦）<br>- 數據科學家日常趣事 | 增加趣味性，吸引年輕受眾，提高轉發率。                                       |\n",
      "    | **面試內容**   | - AI/數據科學相關職位的面試內容，以FAANG公司為主。 | 增加趣味性，吸引年輕受眾，提高轉發率。                                       |\n",
      "\n",
      "    \n"
     ]
    },
    {
     "name": "stdout",
     "output_type": "stream",
     "text": [
      "Posted to Instagram: True\n",
      "Epoch: 1 now.\n",
      "Starting Epoch 2\n"
     ]
    },
    {
     "name": "stderr",
     "output_type": "stream",
     "text": [
      "2025-04-30 10:22:24,841 - httpx - INFO - HTTP Request: POST https://api.x.ai/v1/chat/completions \"HTTP/1.1 200 OK\"\n",
      "2025-04-30 10:22:52,665 - httpx - INFO - HTTP Request: POST https://api.x.ai/v1/chat/completions \"HTTP/1.1 200 OK\"\n",
      "2025-04-30 10:22:52,675 - ig_agent.content_agent - INFO - Generated unique content on attempt 1\n",
      "2025-04-30 10:22:52,676 - ig_agent - INFO - Generating images from content\n",
      "2025-04-30 10:22:52,678 - ig_agent.template_processor - WARNING - PyCairo is not available, falling back to other methods\n",
      "2025-04-30 10:22:52,678 - ig_agent.template_processor - INFO - CairoSVG version: 2.7.1\n",
      "2025-04-30 10:22:52,680 - ig_agent.template_processor - INFO - Attempting SVG conversion with rsvg-convert for cover...\n"
     ]
    },
    {
     "name": "stdout",
     "output_type": "stream",
     "text": [
      "Contents are ready.\n"
     ]
    },
    {
     "name": "stderr",
     "output_type": "stream",
     "text": [
      "2025-04-30 10:22:52,927 - ig_agent.template_processor - INFO - Successfully converted SVG to PNG using rsvg-convert\n",
      "2025-04-30 10:22:52,928 - ig_agent.template_processor - INFO - Generated cover image: output/2025-04-30/20250430_101452/cover.png\n",
      "2025-04-30 10:22:52,929 - ig_agent.template_processor - INFO - Attempting SVG conversion with rsvg-convert for content page 1...\n",
      "2025-04-30 10:22:53,063 - ig_agent.template_processor - INFO - Successfully converted SVG to PNG using rsvg-convert\n",
      "2025-04-30 10:22:53,063 - ig_agent.template_processor - INFO - Generated content image 1: output/2025-04-30/20250430_101452/content_01.png\n",
      "2025-04-30 10:22:53,064 - ig_agent.template_processor - INFO - Attempting SVG conversion with rsvg-convert for content page 2...\n",
      "2025-04-30 10:22:53,197 - ig_agent.template_processor - INFO - Successfully converted SVG to PNG using rsvg-convert\n",
      "2025-04-30 10:22:53,197 - ig_agent.template_processor - INFO - Generated content image 2: output/2025-04-30/20250430_101452/content_02.png\n",
      "2025-04-30 10:22:53,199 - ig_agent.template_processor - INFO - Attempting SVG conversion with rsvg-convert for content page 3...\n",
      "2025-04-30 10:22:53,384 - ig_agent.template_processor - INFO - Successfully converted SVG to PNG using rsvg-convert\n",
      "2025-04-30 10:22:53,384 - ig_agent.template_processor - INFO - Generated content image 3: output/2025-04-30/20250430_101452/content_03.png\n",
      "2025-04-30 10:22:53,385 - ig_agent.template_processor - INFO - Attempting SVG conversion with rsvg-convert for content page 4...\n",
      "2025-04-30 10:22:53,515 - ig_agent.template_processor - INFO - Successfully converted SVG to PNG using rsvg-convert\n",
      "2025-04-30 10:22:53,515 - ig_agent.template_processor - INFO - Generated content image 4: output/2025-04-30/20250430_101452/content_04.png\n",
      "2025-04-30 10:22:53,516 - ig_agent.template_processor - INFO - Attempting SVG conversion with rsvg-convert for content page 5...\n",
      "2025-04-30 10:22:53,650 - ig_agent.template_processor - INFO - Successfully converted SVG to PNG using rsvg-convert\n",
      "2025-04-30 10:22:53,650 - ig_agent.template_processor - INFO - Generated content image 5: output/2025-04-30/20250430_101452/content_05.png\n",
      "2025-04-30 10:22:53,652 - ig_agent.template_processor - INFO - Attempting SVG conversion with rsvg-convert for content page 6...\n",
      "2025-04-30 10:22:53,783 - ig_agent.template_processor - INFO - Successfully converted SVG to PNG using rsvg-convert\n",
      "2025-04-30 10:22:53,784 - ig_agent.template_processor - INFO - Generated content image 6: output/2025-04-30/20250430_101452/content_06.png\n",
      "2025-04-30 10:22:53,784 - ig_agent.image_agent - INFO - Generated 7 images\n",
      "2025-04-30 10:22:53,784 - ig_agent - INFO - Posting to Instagram\n",
      "2025-04-30 10:22:53,792 - ig_agent.instagram_poster - INFO - Converted output/2025-04-30/20250430_101452/cover.png to output/2025-04-30/20250430_101452/cover.jpg\n",
      "2025-04-30 10:22:53,799 - ig_agent.instagram_poster - INFO - Converted output/2025-04-30/20250430_101452/content_01.png to output/2025-04-30/20250430_101452/content_01.jpg\n",
      "2025-04-30 10:22:53,805 - ig_agent.instagram_poster - INFO - Converted output/2025-04-30/20250430_101452/content_02.png to output/2025-04-30/20250430_101452/content_02.jpg\n",
      "2025-04-30 10:22:53,811 - ig_agent.instagram_poster - INFO - Converted output/2025-04-30/20250430_101452/content_03.png to output/2025-04-30/20250430_101452/content_03.jpg\n",
      "2025-04-30 10:22:53,818 - ig_agent.instagram_poster - INFO - Converted output/2025-04-30/20250430_101452/content_04.png to output/2025-04-30/20250430_101452/content_04.jpg\n",
      "2025-04-30 10:22:53,824 - ig_agent.instagram_poster - INFO - Converted output/2025-04-30/20250430_101452/content_05.png to output/2025-04-30/20250430_101452/content_05.jpg\n",
      "2025-04-30 10:22:53,831 - ig_agent.instagram_poster - INFO - Converted output/2025-04-30/20250430_101452/content_06.png to output/2025-04-30/20250430_101452/content_06.jpg\n",
      "2025-04-30 10:22:53,831 - ig_agent.instagram_poster - INFO - Found cover image: cover.jpg\n",
      "2025-04-30 10:22:53,831 - ig_agent.instagram_poster - INFO - Images ordered for posting: ['cover.jpg', 'content_01.jpg', 'content_02.jpg', 'content_03.jpg', 'content_04.jpg', 'content_05.jpg', 'content_06.jpg']\n",
      "2025-04-30 10:22:53,832 - instagrapi - INFO - https://i.instagram.com/api/v1/launcher/sync/\n"
     ]
    },
    {
     "name": "stdout",
     "output_type": "stream",
     "text": [
      "Images generation are ready.\n"
     ]
    },
    {
     "name": "stderr",
     "output_type": "stream",
     "text": [
      "2025-04-30 10:22:54,245 - private_request - INFO - datasci_daily [200] POST https://i.instagram.com/api/v1/launcher/sync/ (269.0.0.18.75, OnePlus 6T Dev)\n",
      "2025-04-30 10:22:54,543 - instagrapi - INFO - https://i.instagram.com/api/v1/accounts/login/\n",
      "2025-04-30 10:22:58,139 - private_request - INFO - datasci_daily [200] POST https://i.instagram.com/api/v1/accounts/login/ (269.0.0.18.75, OnePlus 6T Dev)\n",
      "2025-04-30 10:22:59,146 - instagrapi - INFO - https://i.instagram.com/api/v1/feed/reels_tray/\n",
      "2025-04-30 10:22:59,521 - private_request - INFO - datasci_daily [200] POST https://i.instagram.com/api/v1/feed/reels_tray/ (269.0.0.18.75, OnePlus 6T Dev)\n",
      "2025-04-30 10:23:00,527 - instagrapi - INFO - https://i.instagram.com/api/v1/feed/timeline/\n",
      "2025-04-30 10:23:02,424 - private_request - INFO - datasci_daily [200] POST https://i.instagram.com/api/v1/feed/timeline/ (269.0.0.18.75, OnePlus 6T Dev)\n",
      "2025-04-30 10:23:04,337 - private_request - INFO - datasci_daily [200] POST https://i.instagram.com/rupload_igphoto/1745965382429_0_6075843655 (269.0.0.18.75, OnePlus 6T Dev)\n",
      "2025-04-30 10:23:06,078 - private_request - INFO - datasci_daily [200] POST https://i.instagram.com/rupload_igphoto/1745965384339_0_9714081345 (269.0.0.18.75, OnePlus 6T Dev)\n",
      "2025-04-30 10:23:07,837 - private_request - INFO - datasci_daily [200] POST https://i.instagram.com/rupload_igphoto/1745965386080_0_8754325092 (269.0.0.18.75, OnePlus 6T Dev)\n",
      "2025-04-30 10:23:09,253 - private_request - INFO - datasci_daily [200] POST https://i.instagram.com/rupload_igphoto/1745965387839_0_6845197221 (269.0.0.18.75, OnePlus 6T Dev)\n",
      "2025-04-30 10:23:10,584 - private_request - INFO - datasci_daily [200] POST https://i.instagram.com/rupload_igphoto/1745965389255_0_7867384643 (269.0.0.18.75, OnePlus 6T Dev)\n",
      "2025-04-30 10:23:11,913 - private_request - INFO - datasci_daily [200] POST https://i.instagram.com/rupload_igphoto/1745965390587_0_7169325834 (269.0.0.18.75, OnePlus 6T Dev)\n",
      "2025-04-30 10:23:13,199 - private_request - INFO - datasci_daily [200] POST https://i.instagram.com/rupload_igphoto/1745965391916_0_4661945763 (269.0.0.18.75, OnePlus 6T Dev)\n",
      "2025-04-30 10:23:17,215 - instagrapi - INFO - https://i.instagram.com/api/v1/media/configure_sidecar/\n",
      "2025-04-30 10:23:24,312 - private_request - INFO - datasci_daily [200] POST https://i.instagram.com/api/v1/media/configure_sidecar/ (269.0.0.18.75, OnePlus 6T Dev)\n",
      "2025-04-30 10:23:25,317 - instagrapi - INFO - https://i.instagram.com/api/v1/qe/expose/\n",
      "2025-04-30 10:23:25,637 - private_request - INFO - datasci_daily [200] POST https://i.instagram.com/api/v1/qe/expose/ (269.0.0.18.75, OnePlus 6T Dev)\n",
      "2025-04-30 10:23:25,641 - ig_agent.instagram_poster - INFO - Posted carousel to Instagram: 3621742730864461919\n"
     ]
    },
    {
     "name": "stdout",
     "output_type": "stream",
     "text": [
      "Posted to Instagram: True\n",
      "Epoch: 2 now.\n"
     ]
    }
   ],
   "source": [
    "import pandas as pd\n",
    "for epoch in range(EPOCH):\n",
    "    print(f'Starting Epoch {epoch+1}')\n",
    "    df = pd.read_json('data/content_history.json')\n",
    "    latest_10rows_df =df.iloc[-30:]\n",
    "    # Generate content\n",
    "    request = f\"\"\"\n",
    "    今日係 {today}, 星期{datetime.now().weekday()}.\n",
    "    最近10近貼文：{\n",
    "        latest_10rows_df.to_dict()\n",
    "    }\n",
    "    不要重覆內容。\n",
    "    標題要eyes catching，非常搶眼，引人入勝貼留下懸念去睇內容頁。\n",
    "    選取以下一內容製作今日的貼文，你可選擇是否再上網搜尋資料，特別係新聞話題，必須上網。不要用中國字，用香港字、繁體中文撰寫。\n",
    "    | **內容類型**         | **具體題材**                                                                 | **預期效果**                                                                 |\n",
    "    |----------------------|------------------------------------------------------------------------------|------------------------------------------------------------------------------|\n",
    "    | **教育性貼文**       | - 解釋AI基本概念（如機器學習、深度學習、自然語言處理）<br>- 數據科學工具介紹（如Python、R、Tableau）<br>- 簡單算法原理（e.g., 線性回歸、決策樹） | 吸引初學者，提供入門知識，增加帳號專業性。                                   |\n",
    "    | **實用技巧分享**     | - Python/R程式碼片段（e.g., 數據清理、視覺化）<br>- Jupyter Notebook使用技巧<br>- 免費學習資源推薦（課程、書籍、YouTube頻道） | 提供實用價值，吸引技術愛好者，提升互動率。                                   |\n",
    "    | **案例分析**         | - AI應用案例（e.g., 醫療影像診斷、推薦系統）<br>- 數據科學項目實例（e.g., 銷售預測）<br>- 失敗案例分析（e.g., 模型過擬合問題） | 展示AI/數據科學的實際應用，激發靈感，吸引專業人士。                           |\n",
    "    | **趨勢與新聞**       | - 最新AI技術進展（e.g., 大語言模型、生成式AI）<br>- 數據科學行業趨勢（e.g., 自動化數據分析）<br>- 倫理問題討論（e.g., AI偏見） | 保持內容新鮮，吸引關注行業動態的受眾。                                       |\n",
    "    | **互動內容**         | - 問答貼文（e.g., “你用哪個數據科學工具？”）<br>- 投票（e.g., “Python vs R，哪個更好？”）<br>- 挑戰（e.g., 7天學會Pandas） | 提高粉絲參與度，建立社群感。                                               |\n",
    "    | **幕後花絮**         | - 數據科學家/工程師一天的工作分享<br>- 項目開發過程（e.g., 從數據收集到模型部署）<br>- 學習路徑分享（e.g., 自學數據科學的經驗） | 增加人性化元素，拉近與受眾的距離。                                           |\n",
    "    | **迷因與輕鬆內容**   | - AI/數據科學相關迷因（e.g., “當模型訓練了10小時還是沒收斂”）<br>- 程式員幽默（e.g., debug的痛苦）<br>- 數據科學家日常趣事 | 增加趣味性，吸引年輕受眾，提高轉發率。                                       |\n",
    "    | **面試內容**   | - AI/數據科學相關職位的面試內容，以FAANG公司為主。 | 增加趣味性，吸引年輕受眾，提高轉發率。                                       |\n",
    "\n",
    "    \"\"\"\n",
    "    content_json = agent.generate_content(request)\n",
    "    print('Contents are ready.')\n",
    "    # Generate images\n",
    "    images = agent.generate_images(content_json)\n",
    "    print('Images generation are ready.')\n",
    "    # Try with explicit error handling\n",
    "    instagram_status = agent.post_to_instagram()\n",
    "    print(f\"Posted to Instagram: {instagram_status['posted']}\")\n",
    "    print(f'Epoch: {epoch+1} now.')"
   ]
  }
 ],
 "metadata": {
  "kernelspec": {
   "display_name": ".venv",
   "language": "python",
   "name": "python3"
  },
  "language_info": {
   "codemirror_mode": {
    "name": "ipython",
    "version": 3
   },
   "file_extension": ".py",
   "mimetype": "text/x-python",
   "name": "python",
   "nbconvert_exporter": "python",
   "pygments_lexer": "ipython3",
   "version": "3.12.7"
  }
 },
 "nbformat": 4,
 "nbformat_minor": 4
}
